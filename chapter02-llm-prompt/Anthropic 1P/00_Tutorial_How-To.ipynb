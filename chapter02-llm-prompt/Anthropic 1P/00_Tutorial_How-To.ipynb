{
 "cells": [
  {
   "cell_type": "markdown",
   "metadata": {},
   "source": [
    "# 教程使用指南\n",
    "\n",
    "本教程**需要API密钥**进行交互。如果您没有API密钥，可以通过[Anthropic控制台](https://console.anthropic.com/)注册获取，或者查看我们的[静态教程答案键](https://docs.google.com/spreadsheets/u/0/d/1jIxjzUWG-6xBVIa2ay6yDpLyeuOh_hR_ZB75a47KX_E/edit)作为替代。"
   ]
  },
  {
   "cell_type": "markdown",
   "metadata": {},
   "source": [
    "## 如何开始\n",
    "\n",
    "1. 将此仓库克隆到本地机器。\n",
    "\n",
    "2. 通过运行以下命令安装所需的依赖项：\n",
    " "
   ]
  },
  {
   "cell_type": "code",
   "execution_count": null,
   "metadata": {},
   "outputs": [],
   "source": [
    "# 安装Anthropic Python SDK\n",
    "!pip install anthropic"
   ]
  },
  {
   "cell_type": "markdown",
   "metadata": {},
   "source": [
    "3. 设置您的API密钥和模型名称。将`\"your_api_key_here\"`替换为您实际的Anthropic API密钥。"
   ]
  },
  {
   "cell_type": "code",
   "execution_count": null,
   "metadata": {},
   "outputs": [],
   "source": [
    "# 设置API密钥和模型名称\n",
    "API_KEY = \"your_api_key_here\"  # 请替换为您的实际API密钥\n",
    "MODEL_NAME = \"claude-3-haiku-20240307\"  # Claude 3 Haiku模型\n",
    "\n",
    "# 将API_KEY和MODEL_NAME变量存储在IPython存储中，以便在不同notebook中使用\n",
    "%store API_KEY\n",
    "%store MODEL_NAME"
   ]
  },
  {
   "cell_type": "markdown",
   "metadata": {},
   "source": [
    "4. 按顺序运行notebook单元格，遵循提供的说明。"
   ]
  },
  {
   "cell_type": "markdown",
   "metadata": {},
   "source": [
    "---\n",
    "\n",
    "## 使用说明和提示 💡\n",
    "\n",
    "- 本课程使用Claude 3 Haiku，温度设置为0。我们将在课程后面详细讨论温度参数。现在，只需理解这些设置能产生更确定性的结果。本课程中的所有提示工程技术也适用于之前的传统Claude模型，如Claude 2和Claude Instant 1.2。\n",
    "\n",
    "- 您可以使用`Shift + Enter`执行单元格并移动到下一个。\n",
    "\n",
    "- 当您到达教程页面底部时，导航到文件夹中的下一个编号文件，或者如果您已完成该章节文件内的内容，则转到下一个编号文件夹。\n",
    "\n",
    "### Anthropic SDK和Messages API\n",
    "我们将在整个教程中使用[Anthropic Python SDK](https://docs.anthropic.com/claude/reference/client-sdks)和[Messages API](https://docs.anthropic.com/claude/reference/messages_post)。\n",
    "\n",
    "下面是本教程中运行提示的示例。首先，我们创建`get_completion`，这是一个辅助函数，用于向Claude发送提示并返回Claude生成的响应。现在运行该单元格。"
   ]
  },
  {
   "cell_type": "code",
   "execution_count": null,
   "metadata": {},
   "outputs": [],
   "source": [
    "# 导入Anthropic库\n",
    "import anthropic\n",
    "\n",
    "# 创建Anthropic客户端实例\n",
    "client = anthropic.Anthropic(api_key=API_KEY)\n",
    "\n",
    "def get_completion(prompt: str):\n",
    "    \"\"\"\n",
    "    辅助函数：向Claude发送提示并获取回复\n",
    "    \n",
    "    参数:\n",
    "        prompt (str): 发送给Claude的提示文本\n",
    "    \n",
    "    返回:\n",
    "        str: Claude的回复文本\n",
    "    \"\"\"\n",
    "    message = client.messages.create(\n",
    "        model=MODEL_NAME,           # 使用的模型名称\n",
    "        max_tokens=2000,           # 最大生成token数\n",
    "        temperature=0.0,           # 温度参数，0表示更确定性的输出\n",
    "        messages=[\n",
    "          {\"role\": \"user\", \"content\": prompt}  # 用户角色的消息\n",
    "        ]\n",
    "    )\n",
    "    return message.content[0].text"
   ]
  },
  {
   "cell_type": "markdown",
   "metadata": {},
   "source": [
    "现在我们将为Claude编写一个示例提示，并通过运行我们的`get_completion`辅助函数来打印Claude的输出。运行下面的单元格将在其下方打印出Claude的响应。\n",
    "\n",
    "请随意修改提示字符串，以获得Claude的不同响应。"
   ]
  },
  {
   "cell_type": "code",
   "execution_count": null,
   "metadata": {},
   "outputs": [],
   "source": [
    "# 提示文本\n",
    "prompt = \"Hello, Claude!\"\n",
    "\n",
    "# 获取Claude的响应\n",
    "print(get_completion(prompt))"
   ]
  },
  {
   "cell_type": "markdown",
   "metadata": {},
   "source": [
    "之前定义的`API_KEY`和`MODEL_NAME`变量将在整个教程中使用。请确保从上到下运行每个教程页面的单元格。"
   ]
  }
 ],
 "metadata": {
  "kernelspec": {
   "display_name": "py310",
   "language": "python",
   "name": "python3"
  },
  "language_info": {
   "codemirror_mode": {
    "name": "ipython",
    "version": 3
   },
   "file_extension": ".py",
   "mimetype": "text/x-python",
   "name": "python",
   "nbconvert_exporter": "python",
   "pygments_lexer": "ipython3",
   "version": "3.10.14"
  }
 },
 "nbformat": 4,
 "nbformat_minor": 2
}
