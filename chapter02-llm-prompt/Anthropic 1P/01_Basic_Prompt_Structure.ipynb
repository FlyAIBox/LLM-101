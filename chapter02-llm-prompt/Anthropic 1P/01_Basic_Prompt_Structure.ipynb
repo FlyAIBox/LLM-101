{
 "cells": [
  {
   "cell_type": "markdown",
   "metadata": {},
   "source": [
    "# 第一章：基础提示结构\n",
    "\n",
    "- [课程](#lesson)\n",
    "- [练习](#exercises)\n",
    "- [示例演练场](#example-playground)\n",
    "\n",
    "## 设置\n",
    "\n",
    "运行以下设置单元格来加载您的API密钥并建立`get_completion`辅助函数。"
   ]
  },
  {
   "cell_type": "code",
   "execution_count": null,
   "metadata": {},
   "outputs": [],
   "source": [
    "# 安装Anthropic库\n",
    "!pip install anthropic\n",
    "\n",
    "# 导入Python内置的正则表达式库\n",
    "import re\n",
    "import anthropic\n",
    "\n",
    "# 从IPython存储中检索API_KEY和MODEL_NAME变量\n",
    "%store -r API_KEY\n",
    "%store -r MODEL_NAME\n",
    "\n",
    "# 创建Anthropic客户端\n",
    "client = anthropic.Anthropic(api_key=API_KEY)\n",
    "\n",
    "def get_completion(prompt: str, system_prompt=\"\"):\n",
    "    \"\"\"\n",
    "    获取Claude的完成响应\n",
    "    \n",
    "    参数:\n",
    "        prompt (str): 用户提示\n",
    "        system_prompt (str): 系统提示（可选）\n",
    "    \n",
    "    返回:\n",
    "        str: Claude的响应文本\n",
    "    \"\"\"\n",
    "    message = client.messages.create(\n",
    "        model=MODEL_NAME,              # 模型名称\n",
    "        max_tokens=2000,              # 最大token数\n",
    "        temperature=0.0,              # 温度参数，0表示更确定性\n",
    "        system=system_prompt,         # 系统提示\n",
    "        messages=[\n",
    "          {\"role\": \"user\", \"content\": prompt}  # 用户消息\n",
    "        ]\n",
    "    )\n",
    "    return message.content[0].text"
   ]
  },
  {
   "cell_type": "markdown",
   "metadata": {},
   "source": [
    "---\n",
    "\n",
    "## 课程\n",
    "\n",
    "Anthropic提供两个API：传统的[文本完成API](https://docs.anthropic.com/claude/reference/complete_post)和当前的[消息API](https://docs.anthropic.com/claude/reference/messages_post)。在本教程中，我们将专门使用消息API。\n",
    "\n",
    "使用消息API调用Claude最少需要以下参数：\n",
    "- `model`：您打算调用的模型的[API模型名称](https://docs.anthropic.com/claude/docs/models-overview#model-recommendations)\n",
    "\n",
    "- `max_tokens`：停止前要生成的最大token数。请注意，Claude可能在达到这个最大值之前就停止。此参数仅指定要生成的绝对最大token数。此外，这是一个*硬*停止，意味着它可能导致Claude在单词或句子中间停止生成。\n",
    "\n",
    "- `messages`：输入消息数组。我们的模型被训练为在交替的`user`和`assistant`对话轮次上操作。创建新`Message`时，您使用messages参数指定先前的对话轮次，然后模型生成对话中的下一个`Message`。\n",
    "  - 每个输入消息必须是一个包含`role`和`content`的对象。您可以指定单个`user`角色消息，或者可以包含多个`user`和`assistant`消息（如果是这样，它们必须交替）。第一条消息必须始终使用user`role`。\n",
    "\n",
    "还有可选参数，例如：\n",
    "- `system`：系统提示 - 下面会详细介绍。\n",
    "  \n",
    "- `temperature`：Claude响应的变化程度。对于这些课程和练习，我们将`temperature`设置为0。\n",
    "\n",
    "有关所有API参数的完整列表，请访问我们的[API文档](https://docs.anthropic.com/claude/reference/messages_post)。"
   ]
  },
  {
   "cell_type": "markdown",
   "metadata": {},
   "source": [
    "### 示例\n",
    "\n",
    "让我们看看Claude如何响应一些格式正确的提示。对于以下每个单元格，运行单元格（`shift+enter`），Claude的响应将出现在代码块下方。"
   ]
  },
  {
   "cell_type": "code",
   "execution_count": null,
   "metadata": {},
   "outputs": [],
   "source": [
    "# 提示\n",
    "PROMPT = \"Hi Claude, how are you?\"\n",
    "\n",
    "# 打印Claude的响应\n",
    "print(get_completion(PROMPT))"
   ]
  },
  {
   "cell_type": "code",
   "execution_count": null,
   "metadata": {},
   "outputs": [],
   "source": [
    "# 提示\n",
    "PROMPT = \"Can you tell me the color of the ocean?\"\n",
    "\n",
    "# 打印Claude的响应\n",
    "print(get_completion(PROMPT))"
   ]
  },
  {
   "cell_type": "code",
   "execution_count": null,
   "metadata": {},
   "outputs": [],
   "source": [
    "# 提示\n",
    "PROMPT = \"What year was Celine Dion born in?\"\n",
    "\n",
    "# 打印Claude的响应\n",
    "print(get_completion(PROMPT))"
   ]
  },
  {
   "cell_type": "markdown",
   "metadata": {},
   "source": [
    "现在让我们看看一些不包含正确消息API格式的提示。对于这些格式错误的提示，消息API会返回错误。\n",
    "\n",
    "首先，我们有一个消息API调用示例，在`messages`数组中缺少`role`和`content`字段。"
   ]
  },
  {
   "cell_type": "code",
   "execution_count": null,
   "metadata": {},
   "outputs": [],
   "source": [
    "# 获取Claude的响应（错误格式示例）\n",
    "response = client.messages.create(\n",
    "        model=MODEL_NAME,\n",
    "        max_tokens=2000,\n",
    "        temperature=0.0,\n",
    "        messages=[\n",
    "          {\"Hi Claude, how are you?\"}  # 缺少role和content字段\n",
    "        ]\n",
    "    )\n",
    "\n",
    "# 打印Claude的响应\n",
    "print(response[0].text)"
   ]
  },
  {
   "cell_type": "markdown",
   "metadata": {},
   "source": [
    "这是一个未能在`user`和`assistant`角色之间交替的提示示例。"
   ]
  },
  {
   "cell_type": "code",
   "execution_count": null,
   "metadata": {},
   "outputs": [],
   "source": [
    "# 获取Claude的响应（错误格式示例）\n",
    "response = client.messages.create(\n",
    "        model=MODEL_NAME,\n",
    "        max_tokens=2000,\n",
    "        temperature=0.0,\n",
    "        messages=[\n",
    "          {\"role\": \"user\", \"content\": \"What year was Celine Dion born in?\"},\n",
    "          {\"role\": \"user\", \"content\": \"Also, can you tell me some other facts about her?\"}  # 两个连续的user消息，违反了交替规则\n",
    "        ]\n",
    "    )\n",
    "\n",
    "# 打印Claude的响应\n",
    "print(response[0].text)"
   ]
  },
  {
   "cell_type": "markdown",
   "metadata": {},
   "source": [
    "`user`和`assistant`消息**必须交替**，消息**必须以`user`轮次开始**。您可以在提示中有多个`user`和`assistant`对（就像模拟多轮对话一样）。您还可以在终端`assistant`消息中放入单词，让Claude从您停下的地方继续（更多内容将在后面的章节中介绍）。\n",
    "\n",
    "#### 系统提示\n",
    "\n",
    "您还可以使用**系统提示**。系统提示是在\"用户\"轮次向Claude提出问题或任务之前**为Claude提供上下文、指令和指导方针**的一种方式。\n",
    "\n",
    "在结构上，系统提示独立于`user`和`assistant`消息列表，因此属于单独的`system`参数（查看notebook的[设置](#setup)部分中`get_completion`辅助函数的结构）。\n",
    "\n",
    "在本教程中，无论我们在哪里可能使用系统提示，我们都在完成函数中为您提供了一个`system`字段。如果您不想使用系统提示，只需将`SYSTEM_PROMPT`变量设置为空字符串即可。"
   ]
  },
  {
   "cell_type": "markdown",
   "metadata": {},
   "source": [
    "#### 系统提示示例"
   ]
  },
  {
   "cell_type": "code",
   "execution_count": null,
   "metadata": {},
   "outputs": [],
   "source": [
    "# 系统提示\n",
    "SYSTEM_PROMPT = \"Your answer should always be a series of critical thinking questions that further the conversation (do not provide answers to your questions). Do not actually answer the user question.\"\n",
    "\n",
    "# 用户提示\n",
    "PROMPT = \"Why is the sky blue?\"\n",
    "\n",
    "# 打印Claude的响应\n",
    "print(get_completion(PROMPT, SYSTEM_PROMPT))"
   ]
  },
  {
   "cell_type": "markdown",
   "metadata": {},
   "source": [
    "为什么要使用系统提示？**编写良好的系统提示可以在多个方面改善Claude的表现**，例如提高Claude遵循规则和指令的能力。有关更多信息，请访问我们关于[如何使用系统提示](https://docs.anthropic.com/claude/docs/how-to-use-system-prompts)与Claude的文档。\n",
    "\n",
    "现在我们将深入一些练习。如果您想在不更改上述任何内容的情况下实验课程提示，请滚动到课程notebook的最底部访问[**示例演练场**](#example-playground)。"
   ]
  },
  {
   "cell_type": "markdown",
   "metadata": {},
   "source": [
    "---\n",
    "\n",
    "## 练习\n",
    "- [练习 1.1 - 数到三](#exercise-11---counting-to-three)\n",
    "- [练习 1.2 - 系统提示](#exercise-12---system-prompt)"
   ]
  },
  {
   "cell_type": "markdown",
   "metadata": {},
   "source": [
    "### 练习 1.1 - 数到三\n",
    "使用正确的`user` / `assistant`格式，编辑下面的`PROMPT`让Claude**数到三**。输出还将指示您的解决方案是否正确。"
   ]
  },
  {
   "cell_type": "code",
   "execution_count": null,
   "metadata": {},
   "outputs": [],
   "source": [
    "# 提示 - 这是您应该更改的唯一字段\n",
    "PROMPT = \"[Replace this text]\"\n",
    "\n",
    "# 获取Claude的响应\n",
    "response = get_completion(PROMPT)\n",
    "\n",
    "# 评分练习正确性的函数\n",
    "def grade_exercise(text):\n",
    "    \"\"\"检查文本是否包含数字1、2、3\"\"\"\n",
    "    pattern = re.compile(r'^(?=.*1)(?=.*2)(?=.*3).*$', re.DOTALL)\n",
    "    return bool(pattern.match(text))\n",
    "\n",
    "# 打印Claude的响应和相应的分数\n",
    "print(response)\n",
    "print(\"\\n--------------------------- 评分 ---------------------------\")\n",
    "print(\"本练习已正确解决:\", grade_exercise(response))"
   ]
  },
  {
   "cell_type": "markdown",
   "metadata": {},
   "source": [
    "❓ 如果您需要提示，请运行下面的单元格！"
   ]
  },
  {
   "cell_type": "code",
   "execution_count": null,
   "metadata": {},
   "outputs": [],
   "source": [
    "# 导入并显示练习1.1的提示\n",
    "from hints import exercise_1_1_hint; print(exercise_1_1_hint)"
   ]
  },
  {
   "cell_type": "markdown",
   "metadata": {},
   "source": [
    "### 练习 1.2 - 系统提示\n",
    "\n",
    "修改`SYSTEM_PROMPT`，让Claude像3岁小孩一样回应。"
   ]
  },
  {
   "cell_type": "code",
   "execution_count": null,
   "metadata": {},
   "outputs": [],
   "source": [
    "# 系统提示 - 这是您应该更改的唯一字段\n",
    "SYSTEM_PROMPT = \"[Replace this text]\"\n",
    "\n",
    "# 用户提示\n",
    "PROMPT = \"How big is the sky?\"\n",
    "\n",
    "# 获取Claude的响应\n",
    "response = get_completion(PROMPT, SYSTEM_PROMPT)\n",
    "\n",
    "# 评分练习正确性的函数\n",
    "def grade_exercise(text):\n",
    "    \"\"\"检查响应是否包含像3岁小孩一样的表达方式\"\"\"\n",
    "    return bool(re.search(r\"giggles\", text) or re.search(r\"soo\", text))\n",
    "\n",
    "# 打印Claude的响应和相应的分数\n",
    "print(response)\n",
    "print(\"\\n--------------------------- 评分 ---------------------------\")\n",
    "print(\"本练习已正确解决:\", grade_exercise(response))"
   ]
  },
  {
   "cell_type": "markdown",
   "metadata": {},
   "source": [
    "❓ 如果您需要提示，请运行下面的单元格！"
   ]
  },
  {
   "cell_type": "code",
   "execution_count": null,
   "metadata": {},
   "outputs": [],
   "source": [
    "# 导入并显示练习1.2的提示\n",
    "from hints import exercise_1_2_hint; print(exercise_1_2_hint)"
   ]
  },
  {
   "cell_type": "markdown",
   "metadata": {},
   "source": [
    "### 恭喜！\n",
    "\n",
    "如果您已经解决了到此为止的所有练习，您就可以进入下一章了。愉快的提示工程！"
   ]
  },
  {
   "cell_type": "markdown",
   "metadata": {},
   "source": [
    "---\n",
    "\n",
    "## 示例演练场\n",
    "\n",
    "这是一个让您自由实验本课程中显示的提示示例的区域，您可以调整提示来看看它如何影响Claude的响应。"
   ]
  },
  {
   "cell_type": "code",
   "execution_count": null,
   "metadata": {},
   "outputs": [],
   "source": [
    "# 提示\n",
    "PROMPT = \"Hi Claude, how are you?\"\n",
    "\n",
    "# 打印Claude的响应\n",
    "print(get_completion(PROMPT))"
   ]
  },
  {
   "cell_type": "code",
   "execution_count": null,
   "metadata": {},
   "outputs": [],
   "source": [
    "# 提示\n",
    "PROMPT = \"Can you tell me the color of the ocean?\"\n",
    "\n",
    "# 打印Claude的响应\n",
    "print(get_completion(PROMPT))"
   ]
  },
  {
   "cell_type": "code",
   "execution_count": null,
   "metadata": {},
   "outputs": [],
   "source": [
    "# 提示\n",
    "PROMPT = \"What year was Celine Dion born in?\"\n",
    "\n",
    "# 打印Claude的响应\n",
    "print(get_completion(PROMPT))"
   ]
  },
  {
   "cell_type": "code",
   "execution_count": null,
   "metadata": {},
   "outputs": [],
   "source": [
    "# 获取Claude的响应（错误格式示例）\n",
    "response = client.messages.create(\n",
    "        model=MODEL_NAME,\n",
    "        max_tokens=2000,\n",
    "        temperature=0.0,\n",
    "        messages=[\n",
    "          {\"Hi Claude, how are you?\"}  # 缺少role和content字段\n",
    "        ]\n",
    "    )\n",
    "\n",
    "# 打印Claude的响应\n",
    "print(response[0].text)"
   ]
  },
  {
   "cell_type": "code",
   "execution_count": null,
   "metadata": {},
   "outputs": [],
   "source": [
    "# 获取Claude的响应（错误格式示例）\n",
    "response = client.messages.create(\n",
    "        model=MODEL_NAME,\n",
    "        max_tokens=2000,\n",
    "        temperature=0.0,\n",
    "        messages=[\n",
    "          {\"role\": \"user\", \"content\": \"What year was Celine Dion born in?\"},\n",
    "          {\"role\": \"user\", \"content\": \"Also, can you tell me some other facts about her?\"}  # 两个连续的user消息，违反了交替规则\n",
    "        ]\n",
    "    )\n",
    "\n",
    "# 打印Claude的响应\n",
    "print(response[0].text)"
   ]
  },
  {
   "cell_type": "code",
   "execution_count": null,
   "metadata": {},
   "outputs": [],
   "source": [
    "# 系统提示\n",
    "SYSTEM_PROMPT = \"Your answer should always be a series of critical thinking questions that further the conversation (do not provide answers to your questions). Do not actually answer the user question.\"\n",
    "\n",
    "# 用户提示\n",
    "PROMPT = \"Why is the sky blue?\"\n",
    "\n",
    "# 打印Claude的响应\n",
    "print(get_completion(PROMPT, SYSTEM_PROMPT))"
   ]
  }
 ],
 "metadata": {
  "language_info": {
   "name": "python"
  }
 },
 "nbformat": 4,
 "nbformat_minor": 2
}
