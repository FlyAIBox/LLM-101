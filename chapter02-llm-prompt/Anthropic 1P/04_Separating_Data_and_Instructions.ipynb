{
 "cells": [
  {
   "cell_type": "raw",
   "metadata": {
    "vscode": {
     "languageId": "raw"
    }
   },
   "source": [
    "# 第四章：数据与指令分离（结构化提示工程）\n",
    "\n",
    "- [课程](#课程)\n",
    "- [练习](#练习)\n",
    "- [示例演练场](#示例演练场)\n",
    "\n",
    "## 设置\n",
    "\n",
    "运行以下设置单元格来加载您的API密钥并建立`get_completion`辅助函数。\n"
   ]
  },
  {
   "cell_type": "code",
   "execution_count": null,
   "metadata": {},
   "outputs": [],
   "source": [
    "# 安装Anthropic库 - 用于与Claude AI模型进行交互\n",
    "%pip install anthropic\n",
    "\n",
    "# 导入必要的Python库\n",
    "import re          # 正则表达式库，用于文本模式匹配和搜索\n",
    "import anthropic   # Anthropic官方库，用于调用Claude API\n",
    "\n",
    "# 从IPython存储中检索之前保存的配置变量\n",
    "# 这些变量应该在之前的章节中已经设置过\n",
    "%store -r API_KEY      # 恢复API密钥\n",
    "%store -r MODEL_NAME   # 恢复模型名称\n",
    "\n",
    "# 创建Anthropic客户端实例\n",
    "# 这是与Claude AI模型交互的核心接口\n",
    "client = anthropic.Anthropic(api_key=API_KEY)\n",
    "\n",
    "def get_completion(prompt: str, system_prompt=\"\"):\n",
    "    \"\"\"\n",
    "    获取Claude的完成响应 - 核心辅助函数\n",
    "    \n",
    "    这个函数封装了与Claude API的交互逻辑，\n",
    "    让我们可以方便地发送提示并获取响应。\n",
    "    \n",
    "    参数:\n",
    "        prompt (str): 用户提示内容 - 发送给Claude的主要消息\n",
    "        system_prompt (str): 系统提示（可选） - 用于设定AI的角色和行为准则\n",
    "    \n",
    "    返回:\n",
    "        str: Claude的响应文本\n",
    "    \"\"\"\n",
    "    # 创建消息请求 - 调用Claude API\n",
    "    message = client.messages.create(\n",
    "        model=MODEL_NAME,              # 使用的模型名称（如：claude-3-5-sonnet-20241022）\n",
    "        max_tokens=2000,              # 最大生成的token数量 - 控制响应长度\n",
    "        temperature=0.0,              # 温度参数，0表示更确定性、一致性的回答\n",
    "        system=system_prompt,         # 系统提示，定义AI的角色和行为模式\n",
    "        messages=[\n",
    "          {\"role\": \"user\", \"content\": prompt}  # 用户消息 - 实际的提示内容\n",
    "        ]\n",
    "    )\n",
    "    # 返回响应的文本内容（第一个内容块的文本）\n",
    "    return message.content[0].text\n"
   ]
  },
  {
   "cell_type": "raw",
   "metadata": {
    "vscode": {
     "languageId": "raw"
    }
   },
   "source": [
    "---\n",
    "\n",
    "## 课程\n",
    "\n",
    "通常，我们不想每次都编写完整的提示，而是希望**创建可复用的提示模板，可以在提交给Claude之前通过动态输入数据进行修改**。如果您希望Claude每次都执行相同的任务逻辑，但处理的具体数据内容每次都不同，这种方法会非常有用。\n",
    "\n",
    "幸运的是，我们可以通过**将提示的固定指令框架与可变的用户输入数据分离，然后在将完整提示发送给Claude之前动态地将用户输入替换到提示模板中**来相当容易地实现这一点。\n",
    "\n",
    "下面，我们将逐步介绍如何编写可复用的提示模板，以及如何安全地替换和处理用户输入数据。\n"
   ]
  },
  {
   "cell_type": "raw",
   "metadata": {
    "vscode": {
     "languageId": "raw"
    }
   },
   "source": [
    "### 示例\n",
    "\n",
    "在这第一个示例中，我们要求Claude充当动物叫声生成器。注意，提交给Claude的完整提示只是用输入（在这种情况下是\"牛\"）替换的提示模板。注意当我们打印完整提示时，单词\"牛\"通过f-string替换了`ANIMAL`占位符。\n",
    "\n",
    "**注意：** 在实际应用中，您不必将占位符变量叫做任何特定的名称。我们在这个示例中称它为`ANIMAL`，但同样容易地，我们可以称它为`CREATURE`或`A`（尽管让您的变量名称具体且相关通常是好的，这样您的提示模板即使在没有替换的情况下也容易理解，这样有助于代码的可读性）。只要确保您为变量命名的任何内容都是您用于提示模板f-string的内容。\n"
   ]
  },
  {
   "cell_type": "code",
   "execution_count": null,
   "metadata": {},
   "outputs": [],
   "source": [
    "# 可变内容变量 - 定义需要动态替换的数据\n",
    "# 这是模板中可变的部分，不同的使用场景可以使用不同的动物名称\n",
    "ANIMAL = \"牛\"\n",
    "\n",
    "# 带有占位符的提示模板\n",
    "# f-string语法用于将变量内容替换到模板中的特定位置\n",
    "# 这样我们可以复用相同的提示结构，只需要改变动物名称\n",
    "PROMPT = f\"我会告诉你一个动物的名字。请回答这个动物会发出什么声音。{ANIMAL}\"\n",
    "\n",
    "# 打印完整的提示和Claude的响应，便于调试和理解\n",
    "print(\"--------------------------- 变量替换后的完整提示 ---------------------------\")\n",
    "print(PROMPT)\n",
    "print(\"\\n------------------------------------- Claude的响应 -------------------------------------\")\n",
    "print(get_completion(PROMPT))\n"
   ]
  },
  {
   "cell_type": "raw",
   "metadata": {
    "vscode": {
     "languageId": "raw"
    }
   },
   "source": [
    "为什么我们要像这样分离和替换输入呢？嗯，**提示模板简化了重复性任务**。假设您构建了一个提示结构，邀请第三方用户向提示提交内容（在这种情况下是他们想要生成声音的动物）。这些第三方用户不必编写甚至看到完整的提示。他们所要做的就是填写变量。\n",
    "\n",
    "我们在这里使用变量和f-strings进行这种替换，但您也可以使用format()方法。\n",
    "\n",
    "**注意：** 提示模板可以根据需要拥有任意数量的变量！\n"
   ]
  },
  {
   "cell_type": "raw",
   "metadata": {
    "vscode": {
     "languageId": "raw"
    }
   },
   "source": [
    "当引入这样的替换变量时，非常重要的是**确保Claude知道变量从哪里开始和结束**（与指令或任务描述相对）。让我们看一个指令和替换变量之间没有分离的示例。\n",
    "\n",
    "对我们人类的眼睛来说，在下面的提示模板中变量从哪里开始和结束是非常清楚的。然而，在完全替换的提示中，这种划分变得不清楚。\n"
   ]
  },
  {
   "cell_type": "code",
   "execution_count": null,
   "metadata": {},
   "outputs": [],
   "source": [
    "# 可变内容变量 - 需要被处理的邮件内容\n",
    "EMAIL = \"明天早上6点到公司，因为我是CEO我说了算。\"\n",
    "\n",
    "# 带有占位符的提示模板 - 注意这里没有明确分隔变量和指令\n",
    "# 这可能导致Claude无法正确理解哪部分是指令，哪部分是需要处理的数据\n",
    "PROMPT = f\"嗨Claude。{EMAIL} <----- 让这封邮件更礼貌一些，但不要改变其他任何内容。\"\n",
    "\n",
    "# 打印Claude的响应\n",
    "print(\"--------------------------- 变量替换后的完整提示 ---------------------------\")\n",
    "print(PROMPT)\n",
    "print(\"\\n------------------------------------- Claude的响应 -------------------------------------\")\n",
    "print(get_completion(PROMPT))\n"
   ]
  },
  {
   "cell_type": "raw",
   "metadata": {
    "vscode": {
     "languageId": "raw"
    }
   },
   "source": [
    "在这里，**Claude认为\"嗨Claude\"是它应该重写的邮件的一部分**！您可以看出这一点，因为它在重写时以\"尊敬的Claude\"开头。对人类眼睛来说，这很清楚，特别是在提示模板中邮件的开始和结束位置，但在替换后的提示中就变得不那么清楚了。\n"
   ]
  },
  {
   "cell_type": "raw",
   "metadata": {
    "vscode": {
     "languageId": "raw"
    }
   },
   "source": [
    "我们如何解决这个问题？**将输入包装在XML标签中**！我们在下面做了这个，如您所见，输出中不再有\"尊敬的Claude\"。\n",
    "\n",
    "[XML标签](https://docs.anthropic.com/claude/docs/use-xml-tags)是像`<tag></tag>`这样的尖括号标签。它们成对出现，由开始标签（如`<tag>`）和用`/`标记的结束标签（如`</tag>`）组成。XML标签用于包装内容，像这样：`<tag>content</tag>`。\n",
    "\n",
    "**注意：** 虽然Claude可以识别和使用各种分隔符和定界符，但我们建议您**专门使用XML标签作为Claude的分隔符**，因为Claude经过专门训练，能够识别XML标签作为提示组织机制。除了函数调用之外，**没有Claude经过专门训练的特殊XML标签可以最大化提升您的性能**。我们有意让Claude在这方面非常灵活和可定制。\n"
   ]
  },
  {
   "cell_type": "code",
   "execution_count": null,
   "metadata": {},
   "outputs": [],
   "source": [
    "# 可变内容变量 - 需要被处理的邮件内容\n",
    "EMAIL = \"明天早上6点到公司，因为我是CEO我说了算。\"\n",
    "\n",
    "# 带有占位符的提示模板 - 使用XML标签明确标识变量内容\n",
    "# <email></email>标签清楚地标识了哪部分是需要处理的邮件内容\n",
    "# 这样Claude就能准确区分指令和数据\n",
    "PROMPT = f\"嗨Claude。<email>{EMAIL}</email> <----- 让这封邮件更礼貌一些，但不要改变其他任何内容。\"\n",
    "\n",
    "# 打印Claude的响应\n",
    "print(\"--------------------------- 变量替换后的完整提示 ---------------------------\")\n",
    "print(PROMPT)\n",
    "print(\"\\n------------------------------------- Claude的响应 -------------------------------------\")\n",
    "print(get_completion(PROMPT))\n"
   ]
  },
  {
   "cell_type": "raw",
   "metadata": {
    "vscode": {
     "languageId": "raw"
    }
   },
   "source": [
    "让我们看另一个XML标签如何帮助我们的示例。\n",
    "\n",
    "在下面的提示中，**Claude错误地解释了提示的哪个部分是指令对比输入**。由于格式的原因，它错误地认为`每个都是关于动物的，比如兔子`是列表的一部分，而用户（填写`SENTENCES`变量的人）可能并不希望这样。\n"
   ]
  },
  {
   "cell_type": "code",
   "execution_count": null,
   "metadata": {},
   "outputs": [],
   "source": [
    "# 可变内容变量 - 用户提供的句子列表\n",
    "# 这些是实际需要被分析的数据\n",
    "SENTENCES = \"\"\"- 我喜欢牛的叫声\n",
    "- 这个句子是关于蜘蛛的\n",
    "- 这个句子看起来是关于狗的但实际上是关于猪的\"\"\"\n",
    "\n",
    "# 带有占位符的提示模板 - 问题：没有清楚地分隔指令和数据\n",
    "# 由于格式相似，Claude可能会将指令中的示例误认为是数据的一部分\n",
    "PROMPT = f\"\"\"下面是一个句子列表。告诉我列表中的第二项。\n",
    "\n",
    "- 每个都是关于动物的，比如兔子。\n",
    "{SENTENCES}\"\"\"\n",
    "\n",
    "# 打印Claude的响应\n",
    "print(\"--------------------------- 变量替换后的完整提示 ---------------------------\")\n",
    "print(PROMPT)\n",
    "print(\"\\n------------------------------------- Claude的响应 -------------------------------------\")\n",
    "print(get_completion(PROMPT))\n"
   ]
  },
  {
   "cell_type": "raw",
   "metadata": {
    "vscode": {
     "languageId": "raw"
    }
   },
   "source": [
    "要解决这个问题，我们只需要**用XML标签包围用户输入的句子**。这向Claude显示了输入数据的开始和结束位置，尽管在`每个都是关于动物的，比如兔子。`之前有令人误解的连字符。\n"
   ]
  },
  {
   "cell_type": "code",
   "execution_count": null,
   "metadata": {},
   "outputs": [],
   "source": [
    "# 可变内容变量 - 用户提供的句子列表\n",
    "SENTENCES = \"\"\"- 我喜欢牛的叫声\n",
    "- 这个句子是关于蜘蛛的\n",
    "- 这个句子看起来是关于狗的但实际上是关于猪的\"\"\"\n",
    "\n",
    "# 带有占位符的提示模板 - 使用XML标签解决方案\n",
    "# <sentences></sentences>标签清楚地标识了用户数据的边界\n",
    "# 这样Claude就不会将指令中的示例与实际数据混淆\n",
    "PROMPT = f\"\"\"下面是一个句子列表。告诉我列表中的第二项。\n",
    "\n",
    "- 每个都是关于动物的，比如兔子。\n",
    "<sentences>\n",
    "{SENTENCES}\n",
    "</sentences>\"\"\"\n",
    "\n",
    "# 打印Claude的响应\n",
    "print(\"--------------------------- 变量替换后的完整提示 ---------------------------\")\n",
    "print(PROMPT)\n",
    "print(\"\\n------------------------------------- Claude的响应 -------------------------------------\")\n",
    "print(get_completion(PROMPT))\n"
   ]
  },
  {
   "cell_type": "markdown",
   "metadata": {},
   "source": [
    "# 第四章：数据与指令分离（结构化提示工程）\n",
    "\n",
    "- [课程](#课程)\n",
    "- [练习](#练习)\n",
    "- [示例演练场](#示例演练场)\n",
    "\n",
    "## 设置\n",
    "\n",
    "运行以下设置单元格来加载您的API密钥并建立`get_completion`辅助函数。"
   ]
  },
  {
   "cell_type": "code",
   "execution_count": null,
   "metadata": {},
   "outputs": [],
   "source": [
    "# 安装Anthropic库 - 用于与Claude AI模型进行交互\n",
    "%pip install anthropic\n",
    "\n",
    "# 导入必要的Python库\n",
    "import re          # 正则表达式库，用于文本模式匹配和搜索\n",
    "import anthropic   # Anthropic官方库，用于调用Claude API\n",
    "\n",
    "# 从IPython存储中检索之前保存的配置变量\n",
    "# 这些变量应该在之前的章节中已经设置过\n",
    "%store -r API_KEY      # 恢复API密钥\n",
    "%store -r MODEL_NAME   # 恢复模型名称\n",
    "\n",
    "# 创建Anthropic客户端实例\n",
    "# 这是与Claude AI模型交互的核心接口\n",
    "client = anthropic.Anthropic(api_key=API_KEY)\n",
    "\n",
    "def get_completion(prompt: str, system_prompt=\"\"):\n",
    "    \"\"\"\n",
    "    获取Claude的完成响应 - 核心辅助函数\n",
    "    \n",
    "    这个函数封装了与Claude API的交互逻辑，\n",
    "    让我们可以方便地发送提示并获取响应。\n",
    "    \n",
    "    参数:\n",
    "        prompt (str): 用户提示内容 - 发送给Claude的主要消息\n",
    "        system_prompt (str): 系统提示（可选） - 用于设定AI的角色和行为准则\n",
    "    \n",
    "    返回:\n",
    "        str: Claude的响应文本\n",
    "    \"\"\"\n",
    "    # 创建消息请求 - 调用Claude API\n",
    "    message = client.messages.create(\n",
    "        model=MODEL_NAME,              # 使用的模型名称（如：claude-3-5-sonnet-20241022）\n",
    "        max_tokens=2000,              # 最大生成的token数量 - 控制响应长度\n",
    "        temperature=0.0,              # 温度参数，0表示更确定性、一致性的回答\n",
    "        system=system_prompt,         # 系统提示，定义AI的角色和行为模式\n",
    "        messages=[\n",
    "          {\"role\": \"user\", \"content\": prompt}  # 用户消息 - 实际的提示内容\n",
    "        ]\n",
    "    )\n",
    "    # 返回响应的文本内容（第一个内容块的文本）\n",
    "    return message.content[0].text"
   ]
  },
  {
   "cell_type": "markdown",
   "metadata": {},
   "source": [
    "---\n",
    "\n",
    "## 课程\n",
    "\n",
    "通常，我们不想每次都编写完整的提示，而是希望**创建可复用的提示模板，可以在提交给Claude之前通过动态输入数据进行修改**。如果您希望Claude每次都执行相同的任务逻辑，但处理的具体数据内容每次都不同，这种方法会非常有用。\n",
    "\n",
    "幸运的是，我们可以通过**将提示的固定指令框架与可变的用户输入数据分离，然后在将完整提示发送给Claude之前动态地将用户输入替换到提示模板中**来相当容易地实现这一点。\n",
    "\n",
    "下面，我们将逐步介绍如何编写可复用的提示模板，以及如何安全地替换和处理用户输入数据。"
   ]
  },
  {
   "cell_type": "markdown",
   "metadata": {},
   "source": [
    "### 示例\n",
    "\n",
    "在这第一个示例中，我们要求Claude充当动物叫声生成器。注意，提交给Claude的完整提示只是用输入（在这种情况下是\"Cow\"）替换的提示模板。注意当我们打印完整提示时，单词\"Cow\"通过f-string替换了`ANIMAL`占位符。\n",
    "\n",
    "**注意：** 在实际应用中，您不必将占位符变量叫做任何特定的名称。我们在这个示例中称它为`ANIMAL`，但同样容易地，我们可以称它为`CREATURE`或`A`（尽管让您的变量名称具体且相关通常是好的，这样您的提示模板即使在没有替换的情况下也容易理解，这样有助于代码的可读性）。只要确保您为变量命名的任何内容都是您用于提示模板f-string的内容。"
   ]
  },
  {
   "cell_type": "code",
   "execution_count": null,
   "metadata": {},
   "outputs": [],
   "source": [
    "# 可变内容变量 - 定义需要动态替换的数据\n",
    "# 这是模板中可变的部分，不同的使用场景可以使用不同的动物名称\n",
    "ANIMAL = \"牛\"\n",
    "\n",
    "# 带有占位符的提示模板\n",
    "# f-string语法用于将变量内容替换到模板中的特定位置\n",
    "# 这样我们可以复用相同的提示结构，只需要改变动物名称\n",
    "PROMPT = f\"我会告诉你一个动物的名字。请回答这个动物会发出什么声音。{ANIMAL}\"\n",
    "\n",
    "# 打印完整的提示和Claude的响应，便于调试和理解\n",
    "print(\"--------------------------- 变量替换后的完整提示 ---------------------------\")\n",
    "print(PROMPT)\n",
    "print(\"\\n------------------------------------- Claude的响应 -------------------------------------\")\n",
    "print(get_completion(PROMPT))"
   ]
  },
  {
   "cell_type": "markdown",
   "metadata": {},
   "source": [
    "Why would we want to separate and substitute inputs like this? Well, **prompt templates simplify repetitive tasks**. Let's say you build a prompt structure that invites third party users to submit content to the prompt (in this case the animal whose sound they want to generate). These third party users don't have to write or even see the full prompt. All they have to do is fill in variables.\n",
    "\n",
    "We do this substitution here using variables and f-strings, but you can also do it with the format() method.\n",
    "\n",
    "**Note:** Prompt templates can have as many variables as desired!"
   ]
  },
  {
   "cell_type": "markdown",
   "metadata": {},
   "source": [
    "When introducing substitution variables like this, it is very important to **make sure Claude knows where variables start and end** (vs. instructions or task descriptions). Let's look at an example where there is no separation between the instructions and the substitution variable.\n",
    "\n",
    "To our human eyes, it is very clear where the variable begins and ends in the prompt template below. However, in the fully substituted prompt, that delineation becomes unclear."
   ]
  },
  {
   "cell_type": "code",
   "execution_count": null,
   "metadata": {},
   "outputs": [],
   "source": [
    "# Variable content\n",
    "EMAIL = \"Show up at 6am tomorrow because I'm the CEO and I say so.\"\n",
    "\n",
    "# Prompt template with a placeholder for the variable content\n",
    "PROMPT = f\"Yo Claude. {EMAIL} <----- Make this email more polite but don't change anything else about it.\"\n",
    "\n",
    "# Print Claude's response\n",
    "print(\"--------------------------- Full prompt with variable substutions ---------------------------\")\n",
    "print(PROMPT)\n",
    "print(\"\\n------------------------------------- Claude's response -------------------------------------\")\n",
    "print(get_completion(PROMPT))"
   ]
  },
  {
   "cell_type": "markdown",
   "metadata": {},
   "source": [
    "Here, **Claude thinks \"Yo Claude\" is part of the email it's supposed to rewrite**! You can tell because it begins its rewrite with \"Dear Claude\". To the human eye, it's clear, particularly in the prompt template where the email begins and ends, but it becomes much less clear in the prompt after substitution."
   ]
  },
  {
   "cell_type": "markdown",
   "metadata": {},
   "source": [
    "How do we solve this? **Wrap the input in XML tags**! We did this below, and as you can see, there's no more \"Dear Claude\" in the output.\n",
    "\n",
    "[XML tags](https://docs.anthropic.com/claude/docs/use-xml-tags) are angle-bracket tags like `<tag></tag>`. They come in pairs and consist of an opening tag, such as `<tag>`, and a closing tag marked by a `/`, such as `</tag>`. XML tags are used to wrap around content, like this: `<tag>content</tag>`.\n",
    "\n",
    "**Note:** While Claude can recognize and work with a wide range of separators and delimeters, we recommend that you **use specifically XML tags as separators** for Claude, as Claude was trained specifically to recognize XML tags as a prompt organizing mechanism. Outside of function calling, **there are no special sauce XML tags that Claude has been trained on that you should use to maximally boost your performance**. We have purposefully made Claude very malleable and customizable this way."
   ]
  },
  {
   "cell_type": "code",
   "execution_count": null,
   "metadata": {},
   "outputs": [],
   "source": [
    "# Variable content\n",
    "EMAIL = \"Show up at 6am tomorrow because I'm the CEO and I say so.\"\n",
    "\n",
    "# Prompt template with a placeholder for the variable content\n",
    "PROMPT = f\"Yo Claude. <email>{EMAIL}</email> <----- Make this email more polite but don't change anything else about it.\"\n",
    "\n",
    "# Print Claude's response\n",
    "print(\"--------------------------- Full prompt with variable substutions ---------------------------\")\n",
    "print(PROMPT)\n",
    "print(\"\\n------------------------------------- Claude's response -------------------------------------\")\n",
    "print(get_completion(PROMPT))"
   ]
  },
  {
   "cell_type": "markdown",
   "metadata": {},
   "source": [
    "Let's see another example of how XML tags can help us. \n",
    "\n",
    "In the following prompt, **Claude incorrectly interprets what part of the prompt is the instruction vs. the input**. It incorrectly considers `Each is about an animal, like rabbits` to be part of the list due to the formatting, when the user (the one filling out the `SENTENCES` variable) presumably did not want that."
   ]
  },
  {
   "cell_type": "code",
   "execution_count": null,
   "metadata": {},
   "outputs": [],
   "source": [
    "# Variable content\n",
    "SENTENCES = \"\"\"- I like how cows sound\n",
    "- This sentence is about spiders\n",
    "- This sentence may appear to be about dogs but it's actually about pigs\"\"\"\n",
    "\n",
    "# Prompt template with a placeholder for the variable content\n",
    "PROMPT = f\"\"\"Below is a list of sentences. Tell me the second item on the list.\n",
    "\n",
    "- Each is about an animal, like rabbits.\n",
    "{SENTENCES}\"\"\"\n",
    "\n",
    "# Print Claude's response\n",
    "print(\"--------------------------- Full prompt with variable substutions ---------------------------\")\n",
    "print(PROMPT)\n",
    "print(\"\\n------------------------------------- Claude's response -------------------------------------\")\n",
    "print(get_completion(PROMPT))"
   ]
  },
  {
   "cell_type": "markdown",
   "metadata": {},
   "source": [
    "To fix this, we just need to **surround the user input sentences in XML tags**. This shows Claude where the input data begins and ends despite the misleading hyphen before `Each is about an animal, like rabbits.`"
   ]
  },
  {
   "cell_type": "code",
   "execution_count": null,
   "metadata": {},
   "outputs": [],
   "source": [
    "# Variable content\n",
    "SENTENCES = \"\"\"- I like how cows sound\n",
    "- This sentence is about spiders\n",
    "- This sentence may appear to be about dogs but it's actually about pigs\"\"\"\n",
    "\n",
    "# Prompt template with a placeholder for the variable content\n",
    "PROMPT = f\"\"\" Below is a list of sentences. Tell me the second item on the list.\n",
    "\n",
    "- Each is about an animal, like rabbits.\n",
    "<sentences>\n",
    "{SENTENCES}\n",
    "</sentences>\"\"\"\n",
    "\n",
    "# Print Claude's response\n",
    "print(\"--------------------------- Full prompt with variable substutions ---------------------------\")\n",
    "print(PROMPT)\n",
    "print(\"\\n------------------------------------- Claude's response -------------------------------------\")\n",
    "print(get_completion(PROMPT))"
   ]
  },
  {
   "cell_type": "markdown",
   "metadata": {},
   "source": [
    "**Note:** In the incorrect version of the \"Each is about an animal\" prompt, we had to include the hyphen to get Claude to respond incorrectly in the way we wanted to for this example. This is an important lesson about prompting: **small details matter**! It's always worth it to **scrub your prompts for typos and grammatical errors**. Claude is sensitive to patterns (in its early years, before finetuning, it was a raw text-prediction tool), and it's more likely to make mistakes when you make mistakes, smarter when you sound smart, sillier when you sound silly, and so on.\n",
    "\n",
    "If you would like to experiment with the lesson prompts without changing any content above, scroll all the way to the bottom of the lesson notebook to visit the [**Example Playground**](#example-playground)."
   ]
  },
  {
   "cell_type": "markdown",
   "metadata": {},
   "source": [
    "---\n",
    "\n",
    "## Exercises\n",
    "- [Exercise 4.1 - Haiku Topic](#exercise-41---haiku-topic)\n",
    "- [Exercise 4.2 - Dog Question with Typos](#exercise-42---dog-question-with-typos)\n",
    "- [Exercise 4.3 - Dog Question Part 2](#exercise-42---dog-question-part-2)"
   ]
  },
  {
   "cell_type": "markdown",
   "metadata": {},
   "source": [
    "### Exercise 4.1 - Haiku Topic\n",
    "Modify the `PROMPT` so that it's a template that will take in a variable called `TOPIC` and output a haiku about the topic. This exercise is just meant to test your understanding of the variable templating structure with f-strings."
   ]
  },
  {
   "cell_type": "code",
   "execution_count": null,
   "metadata": {},
   "outputs": [],
   "source": [
    "# 可变内容变量\n",
    "TOPIC = \"Pigs\"\n",
    "\n",
    "# 带有占位符的提示模板\n",
    "# 请在这里填写您的提示模板，使用变量 {TOPIC}\n",
    "PROMPT = f\"\"\n",
    "\n",
    "# 获取Claude的响应\n",
    "response = get_completion(PROMPT)\n",
    "\n",
    "# 评分练习正确性的函数\n",
    "def grade_exercise(text):\n",
    "    return bool(re.search(\"pigs\", text.lower()) and re.search(\"haiku\", text.lower()))\n",
    "\n",
    "# 打印Claude的响应\n",
    "print(\"--------------------------- 变量替换后的完整提示 ---------------------------\")\n",
    "print(PROMPT)\n",
    "print(\"\\n------------------------------------- Claude的响应 -------------------------------------\")\n",
    "print(response)\n",
    "print(\"\\n------------------------------------------ 评分 ------------------------------------------\")\n",
    "print(\"本练习已正确解决:\", grade_exercise(response))"
   ]
  },
  {
   "cell_type": "markdown",
   "metadata": {},
   "source": [
    "❓ If you want a hint, run the cell below!"
   ]
  },
  {
   "cell_type": "code",
   "execution_count": null,
   "metadata": {},
   "outputs": [],
   "source": [
    "from hints import exercise_4_1_hint; print(exercise_4_1_hint)"
   ]
  },
  {
   "cell_type": "markdown",
   "metadata": {},
   "source": [
    "### Exercise 4.2 - Dog Question with Typos\n",
    "Fix the `PROMPT` by adding XML tags so that Claude produces the right answer. \n",
    "\n",
    "Try not to change anything else about the prompt. The messy and mistake-ridden writing is intentional, so you can see how Claude reacts to such mistakes."
   ]
  },
  {
   "cell_type": "code",
   "execution_count": null,
   "metadata": {},
   "outputs": [],
   "source": [
    "# Variable content\n",
    "QUESTION = \"ar cn brown?\"\n",
    "\n",
    "# Prompt template with a placeholder for the variable content\n",
    "PROMPT = f\"Hia its me i have a q about dogs jkaerjv {QUESTION} jklmvca tx it help me muhch much atx fst fst answer short short tx\"\n",
    "\n",
    "# Get Claude's response\n",
    "response = get_completion(PROMPT)\n",
    "\n",
    "# Function to grade exercise correctness\n",
    "def grade_exercise(text):\n",
    "    return bool(re.search(\"brown\", text.lower()))\n",
    "\n",
    "# Print Claude's response\n",
    "print(\"--------------------------- Full prompt with variable substutions ---------------------------\")\n",
    "print(PROMPT)\n",
    "print(\"\\n------------------------------------- Claude's response -------------------------------------\")\n",
    "print(response)\n",
    "print(\"\\n------------------------------------------ GRADING ------------------------------------------\")\n",
    "print(\"This exercise has been correctly solved:\", grade_exercise(response))"
   ]
  },
  {
   "cell_type": "markdown",
   "metadata": {},
   "source": [
    "❓ If you want a hint, run the cell below!"
   ]
  },
  {
   "cell_type": "code",
   "execution_count": null,
   "metadata": {},
   "outputs": [],
   "source": [
    "from hints import exercise_4_2_hint; print(exercise_4_2_hint)"
   ]
  },
  {
   "cell_type": "markdown",
   "metadata": {},
   "source": [
    "### Exercise 4.3 - Dog Question Part 2\n",
    "Fix the `PROMPT` **WITHOUT** adding XML tags. Instead, remove only one or two words from the prompt.\n",
    "\n",
    "Just as with the above exercises, try not to change anything else about the prompt. This will show you what kind of language Claude can parse and understand."
   ]
  },
  {
   "cell_type": "code",
   "execution_count": null,
   "metadata": {},
   "outputs": [],
   "source": [
    "# Variable content\n",
    "QUESTION = \"ar cn brown?\"\n",
    "\n",
    "# Prompt template with a placeholder for the variable content\n",
    "PROMPT = f\"Hia its me i have a q about dogs jkaerjv {QUESTION} jklmvca tx it help me muhch much atx fst fst answer short short tx\"\n",
    "\n",
    "# Get Claude's response\n",
    "response = get_completion(PROMPT)\n",
    "\n",
    "# Function to grade exercise correctness\n",
    "def grade_exercise(text):\n",
    "    return bool(re.search(\"brown\", text.lower()))\n",
    "\n",
    "# Print Claude's response\n",
    "print(\"--------------------------- Full prompt with variable substutions ---------------------------\")\n",
    "print(PROMPT)\n",
    "print(\"\\n------------------------------------- Claude's response -------------------------------------\")\n",
    "print(response)\n",
    "print(\"\\n------------------------------------------ GRADING ------------------------------------------\")\n",
    "print(\"This exercise has been correctly solved:\", grade_exercise(response))"
   ]
  },
  {
   "cell_type": "markdown",
   "metadata": {},
   "source": [
    "❓ If you want a hint, run the cell below!"
   ]
  },
  {
   "cell_type": "code",
   "execution_count": null,
   "metadata": {},
   "outputs": [],
   "source": [
    "from hints import exercise_4_3_hint; print(exercise_4_3_hint)"
   ]
  },
  {
   "cell_type": "markdown",
   "metadata": {},
   "source": [
    "### Congrats!\n",
    "\n",
    "If you've solved all exercises up until this point, you're ready to move to the next chapter. Happy prompting!"
   ]
  },
  {
   "cell_type": "markdown",
   "metadata": {},
   "source": [
    "---\n",
    "\n",
    "## Example Playground\n",
    "\n",
    "This is an area for you to experiment freely with the prompt examples shown in this lesson and tweak prompts to see how it may affect Claude's responses."
   ]
  },
  {
   "cell_type": "code",
   "execution_count": null,
   "metadata": {},
   "outputs": [],
   "source": [
    "# Variable content\n",
    "ANIMAL = \"Cow\"\n",
    "\n",
    "# Prompt template with a placeholder for the variable content\n",
    "PROMPT = f\"I will tell you the name of an animal. Please respond with the noise that animal makes. {ANIMAL}\"\n",
    "\n",
    "# Print Claude's response\n",
    "print(\"--------------------------- Full prompt with variable substutions ---------------------------\")\n",
    "print(PROMPT)\n",
    "print(\"\\n------------------------------------- Claude's response -------------------------------------\")\n",
    "print(get_completion(PROMPT))"
   ]
  },
  {
   "cell_type": "code",
   "execution_count": null,
   "metadata": {},
   "outputs": [],
   "source": [
    "# Variable content\n",
    "EMAIL = \"Show up at 6am tomorrow because I'm the CEO and I say so.\"\n",
    "\n",
    "# Prompt template with a placeholder for the variable content\n",
    "PROMPT = f\"Yo Claude. {EMAIL} <----- Make this email more polite but don't change anything else about it.\"\n",
    "\n",
    "# Print Claude's response\n",
    "print(\"--------------------------- Full prompt with variable substutions ---------------------------\")\n",
    "print(PROMPT)\n",
    "print(\"\\n------------------------------------- Claude's response -------------------------------------\")\n",
    "print(get_completion(PROMPT))"
   ]
  },
  {
   "cell_type": "code",
   "execution_count": null,
   "metadata": {},
   "outputs": [],
   "source": [
    "# Variable content\n",
    "EMAIL = \"Show up at 6am tomorrow because I'm the CEO and I say so.\"\n",
    "\n",
    "# Prompt template with a placeholder for the variable content\n",
    "PROMPT = f\"Yo Claude. <email>{EMAIL}</email> <----- Make this email more polite but don't change anything else about it.\"\n",
    "\n",
    "# Print Claude's response\n",
    "print(\"--------------------------- Full prompt with variable substutions ---------------------------\")\n",
    "print(PROMPT)\n",
    "print(\"\\n------------------------------------- Claude's response -------------------------------------\")\n",
    "print(get_completion(PROMPT))"
   ]
  },
  {
   "cell_type": "code",
   "execution_count": null,
   "metadata": {},
   "outputs": [],
   "source": [
    "# Variable content\n",
    "SENTENCES = \"\"\"- I like how cows sound\n",
    "- This sentence is about spiders\n",
    "- This sentence may appear to be about dogs but it's actually about pigs\"\"\"\n",
    "\n",
    "# Prompt template with a placeholder for the variable content\n",
    "PROMPT = f\"\"\"Below is a list of sentences. Tell me the second item on the list.\n",
    "\n",
    "- Each is about an animal, like rabbits.\n",
    "{SENTENCES}\"\"\"\n",
    "\n",
    "# Print Claude's response\n",
    "print(\"--------------------------- Full prompt with variable substutions ---------------------------\")\n",
    "print(PROMPT)\n",
    "print(\"\\n------------------------------------- Claude's response -------------------------------------\")\n",
    "print(get_completion(PROMPT))"
   ]
  },
  {
   "cell_type": "code",
   "execution_count": null,
   "metadata": {},
   "outputs": [],
   "source": [
    "# Variable content\n",
    "SENTENCES = \"\"\"- I like how cows sound\n",
    "- This sentence is about spiders\n",
    "- This sentence may appear to be about dogs but it's actually about pigs\"\"\"\n",
    "\n",
    "# Prompt template with a placeholder for the variable content\n",
    "PROMPT = f\"\"\" Below is a list of sentences. Tell me the second item on the list.\n",
    "\n",
    "- Each is about an animal, like rabbits.\n",
    "<sentences>\n",
    "{SENTENCES}\n",
    "</sentences>\"\"\"\n",
    "\n",
    "# Print Claude's response\n",
    "print(\"--------------------------- Full prompt with variable substutions ---------------------------\")\n",
    "print(PROMPT)\n",
    "print(\"\\n------------------------------------- Claude's response -------------------------------------\")\n",
    "print(get_completion(PROMPT))"
   ]
  }
 ],
 "metadata": {
  "language_info": {
   "name": "python"
  }
 },
 "nbformat": 4,
 "nbformat_minor": 2
}
