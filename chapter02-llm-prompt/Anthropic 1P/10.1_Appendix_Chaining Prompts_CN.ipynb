{
  "cells": [
    {
      "cell_type": "raw",
      "metadata": {
        "vscode": {
          "languageId": "raw"
        }
      },
      "source": [
        "# 附录 10.1：提示链式调用\n",
        "\n",
        "- [课程内容](#课程内容)\n",
        "- [示例练习场](#示例练习场)\n",
        "\n",
        "## 环境设置\n",
        "\n",
        "运行以下设置单元格来加载您的 API 密钥并建立 `get_completion` 辅助函数。\n"
      ]
    },
    {
      "cell_type": "code",
      "execution_count": null,
      "metadata": {},
      "outputs": [],
      "source": [
        "# 安装 anthropic 库\n",
        "%pip install anthropic\n",
        "\n",
        "# 导入 Python 内置的正则表达式库\n",
        "import re\n",
        "# 导入 anthropic 库用于调用 Claude API\n",
        "import anthropic\n",
        "\n",
        "# 从 IPython 存储中检索 API_KEY 和 MODEL_NAME 变量\n",
        "%store -r API_KEY\n",
        "%store -r MODEL_NAME\n",
        "\n",
        "# 创建 anthropic 客户端实例\n",
        "client = anthropic.Anthropic(api_key=API_KEY)\n",
        "\n",
        "# 定义获取完成响应的辅助函数\n",
        "# 该函数已被重写以接受任意长度的消息列表\n",
        "def get_completion(messages, system_prompt=\"\"):\n",
        "    \"\"\"\n",
        "    调用 Claude API 获取响应的辅助函数\n",
        "    \n",
        "    参数:\n",
        "    messages: 消息列表，包含用户和助手的对话历史\n",
        "    system_prompt: 系统提示词，用于设置 Claude 的行为模式\n",
        "    \n",
        "    返回:\n",
        "    Claude 的文本响应\n",
        "    \"\"\"\n",
        "    message = client.messages.create(\n",
        "        model=MODEL_NAME,           # 使用指定的模型\n",
        "        max_tokens=2000,            # 最大令牌数限制\n",
        "        temperature=0.0,            # 温度设置为0，确保输出稳定\n",
        "        system=system_prompt,       # 系统提示词\n",
        "        messages=messages           # 对话消息列表\n",
        "    )\n",
        "    return message.content[0].text  # 返回响应文本内容\n"
      ]
    },
    {
      "cell_type": "raw",
      "metadata": {
        "vscode": {
          "languageId": "raw"
        }
      },
      "source": [
        "---\n",
        "\n",
        "## 课程内容\n",
        "\n",
        "俗话说：\"写作就是重写。\"事实证明，**当要求 Claude 改进其响应时，它往往能够提高回答的准确性**！\n",
        "\n",
        "有许多方法可以提示 Claude \"重新思考\"。那些感觉自然的要求人类重新检查工作的方式，通常也适用于 Claude。（查看我们的[提示链式调用文档](https://docs.anthropic.com/claude/docs/chain-prompts)，了解何时以及如何使用提示链式调用的更多示例。）\n"
      ]
    },
    {
      "cell_type": "raw",
      "metadata": {
        "vscode": {
          "languageId": "raw"
        }
      },
      "source": [
        "### 示例\n",
        "\n",
        "在这个例子中，我们要求 Claude 想出十个单词...但其中一个或多个不是真实的单词。\n"
      ]
    },
    {
      "cell_type": "code",
      "execution_count": null,
      "metadata": {},
      "outputs": [],
      "source": [
        "# 初始提示词\n",
        "first_user = \"请说出十个都以字母 'ab' 结尾的单词。\"\n",
        "\n",
        "# API 消息数组\n",
        "# 这是一个包含对话历史的列表，每个元素都是一个字典\n",
        "messages = [\n",
        "    {\n",
        "        \"role\": \"user\",      # 角色：用户\n",
        "        \"content\": first_user # 内容：用户的提示词\n",
        "    }\n",
        "]\n",
        "\n",
        "# 存储并打印 Claude 的响应\n",
        "first_response = get_completion(messages)\n",
        "print(\"Claude 的第一次响应：\")\n",
        "print(first_response)\n"
      ]
    },
    {
      "cell_type": "raw",
      "metadata": {
        "vscode": {
          "languageId": "raw"
        }
      },
      "source": [
        "**要求 Claude 使其答案更准确**可以修复错误！\n",
        "\n",
        "下面，我们从上面获取了 Claude 的不正确响应，并在对话中添加了另一轮，要求 Claude 修正其之前的答案。\n"
      ]
    },
    {
      "cell_type": "code",
      "execution_count": null,
      "metadata": {},
      "outputs": [],
      "source": [
        "# 第二个用户提示词，要求 Claude 修正错误\n",
        "second_user = \"请为所有不是真实单词的'单词'找到替代词。\"\n",
        "\n",
        "# API 消息数组\n",
        "# 现在包含完整的对话历史：用户 -> 助手 -> 用户\n",
        "messages = [\n",
        "    {\n",
        "        \"role\": \"user\",         # 第一轮：用户的原始请求\n",
        "        \"content\": first_user\n",
        "    },\n",
        "    {\n",
        "        \"role\": \"assistant\",    # 第二轮：Claude 的第一次响应\n",
        "        \"content\": first_response\n",
        "    },\n",
        "    {\n",
        "        \"role\": \"user\",         # 第三轮：用户要求修正\n",
        "        \"content\": second_user\n",
        "    }\n",
        "]\n",
        "\n",
        "# 打印 Claude 的响应\n",
        "print(\"------------------------ 完整的消息数组（包含变量替换）------------------------\")\n",
        "print(messages)\n",
        "print(\"\\n------------------------------------- Claude 的响应 -------------------------------------\")\n",
        "print(get_completion(messages))\n"
      ]
    },
    {
      "cell_type": "raw",
      "metadata": {
        "vscode": {
          "languageId": "raw"
        }
      },
      "source": [
        "但是 Claude 是否仅仅因为我们告诉它要修正答案就修正答案呢？如果我们一开始就有正确的答案会怎样？Claude 会失去信心吗？在这里，我们在 `first_response` 的位置放置了一个正确的响应，并再次要求它进行双重检查。\n"
      ]
    },
    {
      "cell_type": "code",
      "execution_count": null,
      "metadata": {},
      "outputs": [],
      "source": [
        "# 使用相同的初始提示词\n",
        "first_user = \"请说出十个都以字母 'ab' 结尾的单词。\"\n",
        "\n",
        "# 这次我们手动提供一个正确的响应\n",
        "first_response = \"\"\"以下是10个以字母'ab'结尾的单词：\n",
        "\n",
        "1. Cab (出租车)\n",
        "2. Dab (轻拍)\n",
        "3. Grab (抓取)\n",
        "4. Gab (闲聊)\n",
        "5. Jab (猛击)\n",
        "6. Lab (实验室)\n",
        "7. Nab (抓住)\n",
        "8. Slab (厚板)\n",
        "9. Tab (标签)\n",
        "10. Blab (泄露秘密)\"\"\"\n",
        "\n",
        "# 相同的第二个用户提示词\n",
        "second_user = \"请为所有不是真实单词的'单词'找到替代词。\"\n",
        "\n",
        "# API 消息数组\n",
        "messages = [\n",
        "    {\n",
        "        \"role\": \"user\",\n",
        "        \"content\": first_user\n",
        "    },\n",
        "    {\n",
        "        \"role\": \"assistant\",\n",
        "        \"content\": first_response\n",
        "    },\n",
        "    {\n",
        "        \"role\": \"user\",\n",
        "        \"content\": second_user\n",
        "    }\n",
        "]\n",
        "\n",
        "# 打印 Claude 的响应\n",
        "print(\"------------------------ 完整的消息数组（包含变量替换）------------------------\")\n",
        "print(messages)\n",
        "print(\"\\n------------------------------------- Claude 的响应 -------------------------------------\")\n",
        "print(get_completion(messages))\n"
      ]
    },
    {
      "cell_type": "raw",
      "metadata": {
        "vscode": {
          "languageId": "raw"
        }
      },
      "source": [
        "您可能会注意到，如果您多次从上面的代码块生成响应，Claude 大多数时候会保持单词不变，但有时仍会偶尔更改单词，即使它们都已经是正确的。我们能做什么来缓解这种情况呢？根据第8章的内容，我们可以给 Claude 一个退路！让我们再试一次。\n"
      ]
    },
    {
      "cell_type": "code",
      "execution_count": null,
      "metadata": {},
      "outputs": [],
      "source": [
        "# 使用相同的初始提示词\n",
        "first_user = \"请说出十个都以字母 'ab' 结尾的单词。\"\n",
        "\n",
        "# 正确的响应\n",
        "first_response = \"\"\"以下是10个以字母'ab'结尾的单词：\n",
        "\n",
        "1. Cab (出租车)\n",
        "2. Dab (轻拍)\n",
        "3. Grab (抓取)\n",
        "4. Gab (闲聊)\n",
        "5. Jab (猛击)\n",
        "6. Lab (实验室)\n",
        "7. Nab (抓住)\n",
        "8. Slab (厚板)\n",
        "9. Tab (标签)\n",
        "10. Blab (泄露秘密)\"\"\"\n",
        "\n",
        "# 改进的第二个用户提示词，给 Claude 一个\"退路\"\n",
        "# 如果所有单词都是正确的，就返回原始列表\n",
        "second_user = \"请为所有不是真实单词的'单词'找到替代词。如果所有单词都是真实单词，请返回原始列表。\"\n",
        "\n",
        "# API 消息数组\n",
        "messages = [\n",
        "    {\n",
        "        \"role\": \"user\",\n",
        "        \"content\": first_user\n",
        "    },\n",
        "    {\n",
        "        \"role\": \"assistant\",\n",
        "        \"content\": first_response\n",
        "    },\n",
        "    {\n",
        "        \"role\": \"user\",\n",
        "        \"content\": second_user\n",
        "    }\n",
        "]\n",
        "\n",
        "# 打印 Claude 的响应\n",
        "print(\"------------------------ 完整的消息数组（包含变量替换）------------------------\")\n",
        "print(messages)\n",
        "print(\"\\n------------------------------------- Claude 的响应 -------------------------------------\")\n",
        "print(get_completion(messages))\n"
      ]
    },
    {
      "cell_type": "raw",
      "metadata": {
        "vscode": {
          "languageId": "raw"
        }
      },
      "source": [
        "尝试多次从上面的代码生成响应，您会发现 Claude 现在在坚持自己的立场方面表现得更好了。\n",
        "\n",
        "您还可以使用提示链式调用来**要求 Claude 改进其响应**。下面，我们要求 Claude 首先写一个故事，然后改进它写的故事。您的个人喜好可能有所不同，但许多人可能会同意 Claude 的第二个版本更好。\n",
        "\n",
        "首先，让我们生成 Claude 的第一个版本的故事。\n"
      ]
    },
    {
      "cell_type": "code",
      "execution_count": null,
      "metadata": {},
      "outputs": [],
      "source": [
        "# 初始提示词 - 要求写一个短故事\n",
        "first_user = \"请写一个关于一个喜欢跑步的女孩的三句话短故事。\"\n",
        "\n",
        "# API 消息数组\n",
        "messages = [\n",
        "    {\n",
        "        \"role\": \"user\",\n",
        "        \"content\": first_user\n",
        "    }\n",
        "]\n",
        "\n",
        "# 存储并打印 Claude 的响应\n",
        "first_response = get_completion(messages)\n",
        "print(\"Claude 的第一个版本故事：\")\n",
        "print(first_response)\n"
      ]
    },
    {
      "cell_type": "raw",
      "metadata": {
        "vscode": {
          "languageId": "raw"
        }
      },
      "source": [
        "现在让我们让 Claude 改进其第一稿。\n"
      ]
    },
    {
      "cell_type": "code",
      "execution_count": null,
      "metadata": {},
      "outputs": [],
      "source": [
        "# 第二个用户提示词 - 要求改进故事\n",
        "second_user = \"请让这个故事更好。\"\n",
        "\n",
        "# API 消息数组\n",
        "# 包含完整的对话历史：原始请求 -> 第一个故事 -> 改进请求\n",
        "messages = [\n",
        "    {\n",
        "        \"role\": \"user\",         # 用户的原始请求\n",
        "        \"content\": first_user\n",
        "    },\n",
        "    {\n",
        "        \"role\": \"assistant\",    # Claude 的第一个故事版本\n",
        "        \"content\": first_response\n",
        "    },\n",
        "    {\n",
        "        \"role\": \"user\",         # 用户要求改进\n",
        "        \"content\": second_user\n",
        "    }\n",
        "]\n",
        "\n",
        "# 打印 Claude 的响应\n",
        "print(\"------------------------ 完整的消息数组（包含变量替换）------------------------\")\n",
        "print(messages)\n",
        "print(\"\\n------------------------------------- Claude 的响应 -------------------------------------\")\n",
        "print(get_completion(messages))\n"
      ]
    },
    {
      "cell_type": "raw",
      "metadata": {
        "vscode": {
          "languageId": "raw"
        }
      },
      "source": [
        "这种形式的替换非常强大。我们一直在使用替换占位符来传递列表、单词、Claude 的之前响应等等。您还可以**使用替换来执行我们称为\"函数调用\"的操作，即要求 Claude 执行某个函数，然后获取该函数的结果，并要求 Claude 之后对结果做更多处理**。它的工作方式与任何其他替换一样。更多内容请参见下一个附录。\n",
        "\n",
        "下面是另一个例子，展示如何获取对 Claude 的一次调用的结果，并将其插入到另一个更长的调用中。让我们从第一个提示开始（这次包括预填充 Claude 的响应）。\n"
      ]
    },
    {
      "cell_type": "code",
      "execution_count": null,
      "metadata": {},
      "outputs": [],
      "source": [
        "# 第一个用户提示词 - 要求从文本中找出所有姓名\n",
        "first_user = \"\"\"请从以下文本中找出所有姓名：\n",
        "\n",
        "\"嘿，Jesse。是我，Erin。我打电话是关于 Joey 明天要举办的聚会。Keisha 说她会来，我想 Mel 也会在那里。\\\"\"\"\"\n",
        "\n",
        "# 预填充 Claude 的响应开头\n",
        "# 这是一种技术，用于引导 Claude 以特定格式开始响应\n",
        "prefill = \"<names>\"\n",
        "\n",
        "# API 消息数组\n",
        "messages = [\n",
        "    {\n",
        "        \"role\": \"user\",         # 用户的请求\n",
        "        \"content\": first_user\n",
        "    },\n",
        "    {\n",
        "        \"role\": \"assistant\",    # 预填充的助手响应开头\n",
        "        \"content\": prefill\n",
        "    }\n",
        "]\n",
        "\n",
        "# 存储并打印 Claude 的响应\n",
        "first_response = get_completion(messages)\n",
        "print(\"------------------------ 完整的消息数组（包含变量替换）------------------------\")\n",
        "print(messages)\n",
        "print(\"\\n------------------------------------- Claude 的响应 -------------------------------------\")\n",
        "print(\"预填充内容 + Claude 的响应：\")\n",
        "print(prefill + first_response)\n"
      ]
    },
    {
      "cell_type": "raw",
      "metadata": {
        "vscode": {
          "languageId": "raw"
        }
      },
      "source": [
        "让我们将这个姓名列表传递到另一个提示中。\n"
      ]
    },
    {
      "cell_type": "code",
      "execution_count": null,
      "metadata": {},
      "outputs": [],
      "source": [
        "# 第二个用户提示词 - 要求按字母顺序排列列表\n",
        "second_user = \"请按字母顺序排列这个列表。\"\n",
        "\n",
        "# API 消息数组\n",
        "# 这次我们将完整的第一次响应（包括预填充）作为助手的消息\n",
        "messages = [\n",
        "    {\n",
        "        \"role\": \"user\",         # 原始的姓名提取请求\n",
        "        \"content\": first_user\n",
        "    },\n",
        "    {\n",
        "        \"role\": \"assistant\",    # 完整的第一次响应（预填充 + Claude的响应）\n",
        "        \"content\": prefill + \"\\n\" + first_response\n",
        "    },\n",
        "    {\n",
        "        \"role\": \"user\",         # 新的排序请求\n",
        "        \"content\": second_user\n",
        "    }\n",
        "]\n",
        "\n",
        "# 打印 Claude 的响应\n",
        "print(\"------------------------ 完整的消息数组（包含变量替换）------------------------\")\n",
        "print(messages)\n",
        "print(\"\\n------------------------------------- Claude 的响应 -------------------------------------\")\n",
        "print(get_completion(messages))\n"
      ]
    },
    {
      "cell_type": "raw",
      "metadata": {
        "vscode": {
          "languageId": "raw"
        }
      },
      "source": [
        "现在您已经了解了提示链式调用，请前往附录 10.2 学习如何使用提示链式调用实现函数调用。\n"
      ]
    },
    {
      "cell_type": "raw",
      "metadata": {
        "vscode": {
          "languageId": "raw"
        }
      },
      "source": [
        "---\n",
        "\n",
        "## 示例练习场\n",
        "\n",
        "这是一个供您自由实验本课程中显示的提示示例的区域，您可以调整提示来看看它如何影响 Claude 的响应。\n"
      ]
    },
    {
      "cell_type": "code",
      "execution_count": null,
      "metadata": {},
      "outputs": [],
      "source": [
        "# 练习示例 1：基本的提示链式调用\n",
        "# 初始提示词 - 练习区域\n",
        "first_user = \"请说出十个都以字母 'ab' 结尾的单词。\"\n",
        "\n",
        "# API 消息数组\n",
        "messages = [\n",
        "    {\n",
        "        \"role\": \"user\",\n",
        "        \"content\": first_user\n",
        "    }\n",
        "]\n",
        "\n",
        "# 存储并打印 Claude 的响应\n",
        "first_response = get_completion(messages)\n",
        "print(\"练习：Claude 的第一次响应\")\n",
        "print(first_response)\n"
      ]
    },
    {
      "cell_type": "code",
      "execution_count": null,
      "metadata": {},
      "outputs": [],
      "source": [
        "# 练习示例 2：修正响应\n",
        "# 第二个用户提示词 - 练习修正\n",
        "second_user = \"请为所有不是真实单词的'单词'找到替代词。\"\n",
        "\n",
        "# API 消息数组\n",
        "messages = [\n",
        "    {\n",
        "        \"role\": \"user\",\n",
        "        \"content\": first_user\n",
        "    },\n",
        "    {\n",
        "        \"role\": \"assistant\",\n",
        "        \"content\": first_response\n",
        "    },\n",
        "    {\n",
        "        \"role\": \"user\",\n",
        "        \"content\": second_user\n",
        "    }\n",
        "]\n",
        "\n",
        "# 打印 Claude 的响应\n",
        "print(\"练习：修正后的响应\")\n",
        "print(get_completion(messages))\n"
      ]
    },
    {
      "cell_type": "code",
      "execution_count": null,
      "metadata": {},
      "outputs": [],
      "source": [
        "# 练习示例 3：故事改进\n",
        "# 故事写作和改进练习\n",
        "story_prompt = \"请写一个关于一个喜欢跑步的女孩的三句话短故事。\"\n",
        "\n",
        "# 获取第一版故事\n",
        "messages = [{\"role\": \"user\", \"content\": story_prompt}]\n",
        "first_story = get_completion(messages)\n",
        "print(\"练习：第一版故事\")\n",
        "print(first_story)\n",
        "print(\"\\n\" + \"=\"*50 + \"\\n\")\n",
        "\n",
        "# 要求改进故事\n",
        "improve_prompt = \"请让这个故事更好。\"\n",
        "messages = [\n",
        "    {\"role\": \"user\", \"content\": story_prompt},\n",
        "    {\"role\": \"assistant\", \"content\": first_story},\n",
        "    {\"role\": \"user\", \"content\": improve_prompt}\n",
        "]\n",
        "\n",
        "improved_story = get_completion(messages)\n",
        "print(\"练习：改进后的故事\")\n",
        "print(improved_story)\n"
      ]
    },
    {
      "cell_type": "code",
      "execution_count": null,
      "metadata": {},
      "outputs": [],
      "source": [
        "# 练习示例 4：预填充和函数调用风格\n",
        "# 姓名提取和排序练习\n",
        "extract_prompt = \"\"\"请从以下文本中找出所有姓名：\n",
        "\n",
        "\"嘿，Jesse。是我，Erin。我打电话是关于 Joey 明天要举办的聚会。Keisha 说她会来，我想 Mel 也会在那里。\\\"\"\"\"\n",
        "\n",
        "# 使用预填充技术\n",
        "prefill = \"<names>\"\n",
        "messages = [\n",
        "    {\"role\": \"user\", \"content\": extract_prompt},\n",
        "    {\"role\": \"assistant\", \"content\": prefill}\n",
        "]\n",
        "\n",
        "# 获取姓名列表\n",
        "names_response = get_completion(messages)\n",
        "print(\"练习：提取的姓名\")\n",
        "print(prefill + names_response)\n",
        "print(\"\\n\" + \"=\"*50 + \"\\n\")\n",
        "\n",
        "# 对姓名进行排序\n",
        "sort_prompt = \"请按字母顺序排列这个列表。\"\n",
        "messages = [\n",
        "    {\"role\": \"user\", \"content\": extract_prompt},\n",
        "    {\"role\": \"assistant\", \"content\": prefill + \"\\n\" + names_response},\n",
        "    {\"role\": \"user\", \"content\": sort_prompt}\n",
        "]\n",
        "\n",
        "sorted_names = get_completion(messages)\n",
        "print(\"练习：排序后的姓名\")\n",
        "print(sorted_names)\n"
      ]
    },
    {
      "cell_type": "raw",
      "metadata": {
        "vscode": {
          "languageId": "raw"
        }
      },
      "source": [
        "## 总结\n",
        "\n",
        "通过本章的学习，您已经掌握了：\n",
        "\n",
        "1. **提示链式调用的基本概念**：将一个 Claude 响应作为输入传递给下一个提示\n",
        "2. **响应改进技术**：要求 Claude 重新检查和改进其答案\n",
        "3. **预填充技术**：引导 Claude 以特定格式开始响应\n",
        "4. **给出\"退路\"**：在提示中提供替代选项，避免 Claude 过度修正正确答案\n",
        "5. **函数调用风格**：将 Claude 的输出作为\"函数\"结果传递给后续处理\n",
        "\n",
        "### 关键要点：\n",
        "\n",
        "- 提示链式调用可以显著提高 Claude 响应的准确性和质量\n",
        "- 适当的提示设计可以避免 Claude 过度修正正确答案\n",
        "- 预填充技术有助于控制响应格式\n",
        "- 这种技术为更复杂的 AI 工作流程奠定了基础\n",
        "\n",
        "### 下一步：\n",
        "\n",
        "继续学习附录 10.2，了解如何使用提示链式调用实现更复杂的函数调用模式。\n"
      ]
    }
  ],
  "metadata": {
    "language_info": {
      "name": "python"
    }
  },
  "nbformat": 4,
  "nbformat_minor": 2
}
