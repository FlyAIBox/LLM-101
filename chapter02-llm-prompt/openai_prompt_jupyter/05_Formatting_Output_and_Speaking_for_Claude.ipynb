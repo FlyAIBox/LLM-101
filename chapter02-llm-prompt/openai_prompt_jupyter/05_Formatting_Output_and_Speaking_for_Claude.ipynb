{
 "cells": [
  {
   "cell_type": "markdown",
   "metadata": {},
   "source": [
    "# 第五章：格式化输出和为Claude预设响应\n",
    "\n",
    "- [课程](#lesson)\n",
    "- [练习](#exercises)\n",
    "- [示例演练场](#example-playground)\n",
    "\n",
    "## 设置\n",
    "\n",
    "运行以下设置单元格来加载您的API密钥并建立`get_completion`辅助函数。"
   ]
  },
  {
   "cell_type": "code",
   "execution_count": null,
   "metadata": {},
   "outputs": [],
   "source": [
    "# 安装OpenAI库\n",
    "%pip install openai==1.61.0\n",
    "\n",
    "# 导入Python内置的正则表达式库\n",
    "import re\n",
    "import openai\n",
    "import os\n",
    "\n",
    "# 优先从环境变量读取API配置，如果没有则从IPython存储中检索\n",
    "API_KEY = os.getenv('OPENAI_API_KEY')\n",
    "BASE_URL = os.getenv('OPENAI_BASE_URL', 'https://api.openai.com/v1')\n",
    "MODEL_NAME = os.getenv('OPENAI_MODEL_NAME', 'gpt-4o')\n",
    "\n",
    "# 如果环境变量中没有API_KEY，尝试从IPython存储中获取\n",
    "if not API_KEY:\n",
    "    try:\n",
    "        %store -r API_KEY\n",
    "        %store -r MODEL_NAME\n",
    "    except:\n",
    "        pass\n",
    "\n",
    "# 如果没有设置MODEL_NAME，使用默认值\n",
    "if not MODEL_NAME:\n",
    "    MODEL_NAME = \"gpt-4o\"\n",
    "\n",
    "# 创建OpenAI客户端实例\n",
    "client = openai.OpenAI(\n",
    "    api_key=API_KEY,\n",
    "    base_url=BASE_URL\n",
    ")\n",
    "\n",
    "# 新增了prefill参数用于预填充文本，默认值为空字符串\n",
    "def get_completion(prompt: str, system_prompt=\"\", prefill=\"\"):\n",
    "    \"\"\"\n",
    "    获取GPT的完成响应\n",
    "    \n",
    "    参数:\n",
    "        prompt (str): 用户提示内容\n",
    "        system_prompt (str): 系统提示（可选）\n",
    "        prefill (str): 预填充文本（可选），用于引导GPT的响应开始\n",
    "    \n",
    "    返回:\n",
    "        str: GPT的响应文本\n",
    "    \"\"\"\n",
    "    # 构建消息列表\n",
    "    messages = []\n",
    "    \n",
    "    # 如果有系统提示，添加系统消息\n",
    "    if system_prompt:\n",
    "        messages.append({\"role\": \"system\", \"content\": system_prompt})\n",
    "    \n",
    "    # 添加用户消息\n",
    "    messages.append({\"role\": \"user\", \"content\": prompt})\n",
    "    \n",
    "    # 如果有预填充内容，添加助手消息\n",
    "    if prefill:\n",
    "        messages.append({\"role\": \"assistant\", \"content\": prefill})\n",
    "    \n",
    "    # 调用OpenAI API\n",
    "    response = client.chat.completions.create(\n",
    "        model=MODEL_NAME,              # 使用的模型名称\n",
    "        messages=messages,             # 消息列表\n",
    "        max_tokens=2000,              # 最大生成的token数量\n",
    "        temperature=0.0               # 温度参数，0表示更确定性的回答\n",
    "    )\n",
    "    \n",
    "    # 如果有预填充内容，将其与生成的内容组合\n",
    "    if prefill:\n",
    "        return prefill + response.choices[0].message.content\n",
    "    else:\n",
    "        return response.choices[0].message.content"
   ]
  },
  {
   "cell_type": "markdown",
   "metadata": {},
   "source": [
    "---\n\n## 课程 {#lesson}\n\n**Claude可以以多种方式格式化其输出**。您只需要明确要求它这样做！\n\n其中一种方式是使用XML标签将响应与其他多余文本分离。您已经学会了可以使用XML标签使您的提示对Claude更清晰、更易解析。事实证明，您还可以要求Claude**使用XML标签使其输出对人类更清晰、更容易理解**。"
   ]
  },
  {
   "cell_type": "markdown",
   "metadata": {},
   "source": [
    "### 示例\n",
    "\n",
    "还记得我们在第二章中通过要求Claude完全跳过前言来解决的\"诗歌前言问题\"吗？事实证明，我们也可以通过**告诉Claude将诗歌放在XML标签中**来实现类似的效果。"
   ]
  },
  {
   "cell_type": "code",
   "execution_count": null,
   "metadata": {},
   "outputs": [],
   "source": [
    "# 可变内容变量\n",
    "ANIMAL = \"Rabbit\"\n",
    "\n",
    "# 带有占位符的提示模板\n",
    "# 要求Claude将结果放在特定的XML标签中，便于后续处理\n",
    "PROMPT = f\"Please write a haiku about {ANIMAL}. Put it in <haiku> tags.\"\n",
    "\n",
    "# 打印Claude的响应\n",
    "print(\"--------------------------- 变量替换后的完整提示 ---------------------------\")\n",
    "print(PROMPT)\n",
    "print(\"\\n------------------------------------- Claude的响应 -------------------------------------\")\n",
    "print(get_completion(PROMPT))"
   ]
  },
  {
   "cell_type": "markdown",
   "metadata": {},
   "source": [
    "为什么我们要这样做呢？因为将输出放在**XML标签中可以让最终用户通过编写简短的程序来提取XML标签之间的内容，从而可靠地获得诗歌内容且只有诗歌内容**。\n",
    "\n",
    "这种技术的一个扩展是**将第一个XML标签放在`assistant`轮次中。当您在`assistant`轮次中放置文本时，您基本上是在告诉Claude它已经说了一些话，应该从那个点继续。这种技术被称为\"为Claude代言\"或\"预填充Claude的响应\"。**\n",
    "\n",
    "下面，我们用第一个`<haiku>`XML标签做了这件事。注意Claude如何直接从我们停下的地方继续。"
   ]
  },
  {
   "cell_type": "code",
   "execution_count": null,
   "metadata": {},
   "outputs": [],
   "source": [
    "# 可变内容变量\n",
    "ANIMAL = \"Cat\"\n",
    "\n",
    "# 带有占位符的提示模板\n",
    "PROMPT = f\"Please write a haiku about {ANIMAL}. Put it in <haiku> tags.\"\n",
    "\n",
    "# 预填充Claude的响应\n",
    "# 这个技术强制Claude从我们指定的标签开始，确保输出格式的一致性\n",
    "PREFILL = \"<haiku>\"\n",
    "\n",
    "# 打印Claude的响应\n",
    "print(\"--------------------------- 变量替换后的完整提示 ---------------------------\")\n",
    "print(\"用户轮次:\")\n",
    "print(PROMPT)\n",
    "print(\"\\n助手轮次:\")\n",
    "print(PREFILL)\n",
    "print(\"\\n------------------------------------- Claude的响应 -------------------------------------\")\n",
    "print(get_completion(PROMPT, prefill=PREFILL))"
   ]
  },
  {
   "cell_type": "markdown",
   "metadata": {},
   "source": [
    "Claude在使用其他输出格式方面也很出色，特别是`JSON`格式。如果您想强制JSON输出（虽然不是确定性的，但接近确定性），您也可以用开括号`{`来预填充Claude的响应。"
   ]
  },
  {
   "cell_type": "code",
   "execution_count": null,
   "metadata": {},
   "outputs": [],
   "source": [
    "# 可变内容变量\n",
    "ANIMAL = \"Cat\"\n",
    "\n",
    "# 带有占位符的提示模板\n",
    "# 明确要求使用JSON格式并指定键名\n",
    "PROMPT = f\"Please write a haiku about {ANIMAL}. Use JSON format with the keys as \\\"first_line\\\", \\\"second_line\\\", and \\\"third_line\\\".\"\n",
    "\n",
    "# 预填充Claude的响应\n",
    "# 使用开括号强制Claude输出JSON格式\n",
    "PREFILL = \"{\"\n",
    "\n",
    "# 打印Claude的响应\n",
    "print(\"--------------------------- 变量替换后的完整提示 ---------------------------\")\n",
    "print(\"用户轮次\")\n",
    "print(PROMPT)\n",
    "print(\"\\n助手轮次\")\n",
    "print(PREFILL)\n",
    "print(\"\\n------------------------------------- Claude的响应 -------------------------------------\")\n",
    "print(get_completion(PROMPT, prefill=PREFILL))"
   ]
  },
  {
   "cell_type": "markdown",
   "metadata": {},
   "source": [
    "下面是一个**在同一个提示中使用多个输入变量和输出格式规范，全部使用XML标签完成**的示例。"
   ]
  },
  {
   "cell_type": "code",
   "execution_count": null,
   "metadata": {},
   "outputs": [],
   "source": [
    "# 第一个输入变量\n",
    "EMAIL = \"Hi Zack, just pinging you for a quick update on that prompt you were supposed to write.\"\n",
    "\n",
    "# 第二个输入变量\n",
    "ADJECTIVE = \"olde english\"\n",
    "\n",
    "# 带有占位符的提示模板\n",
    "# 这个例子展示如何在同一个提示中使用多个变量，并用XML标签格式化输出\n",
    "PROMPT = f\"Hey Claude. Here is an email: <email>{EMAIL}</email>. Make this email more {ADJECTIVE}. Write the new version in <{ADJECTIVE}_email> XML tags.\"\n",
    "\n",
    "# 预填充Claude的响应（现在是带有变量的f字符串）\n",
    "# 使用动态XML标签名称，根据ADJECTIVE变量的值生成对应的标签\n",
    "PREFILL = f\"<{ADJECTIVE}_email>\"\n",
    "\n",
    "# 打印Claude的响应\n",
    "print(\"--------------------------- 变量替换后的完整提示 ---------------------------\")\n",
    "print(\"用户轮次\")\n",
    "print(PROMPT)\n",
    "print(\"\\n助手轮次\")\n",
    "print(PREFILL)\n",
    "print(\"\\n------------------------------------- Claude的响应 -------------------------------------\")\n",
    "print(get_completion(PROMPT, prefill=PREFILL))"
   ]
  },
  {
   "cell_type": "markdown",
   "metadata": {},
   "source": [
    "#### 额外课程 {#额外lesson}\n\n如果您通过API调用Claude，可以将结束XML标签传递给`stop_sequences`参数，让Claude在输出您期望的标签后停止采样。这可以通过消除Claude在已经给出您关心的答案后的结束语来节省金钱和减少最后一个token的时间。\n\n如果您想要在不更改上述任何内容的情况下尝试课程提示，请滚动到课程笔记本的最底部访问[**示例演练场**](#example-playground)。"
   ]
  },
  {
   "cell_type": "markdown",
   "metadata": {},
   "source": [
    "---\n\n## 练习 {#exercises}\n- [练习 5.1 - 斯蒂芬·库里最佳球员](#exercise-51---steph-curry-goat)\n- [练习 5.2 - 两首俳句](#exercise-52---two-haikus)\n- [练习 5.3 - 两首俳句，两种动物](#exercise-53---two-haikus-two-animals)"
   ]
  },
  {
   "cell_type": "markdown",
   "metadata": {},
   "source": [
    "### 练习 5.1 - 斯蒂芬·库里最佳球员 {#exercises-51-斯蒂芬库里最佳球员}\n被迫做出选择时，Claude会指定迈克尔·乔丹为历史上最好的篮球运动员。我们能让Claude选择其他人吗？\n\n修改`PREFILL`变量来**迫使Claude做出详细论证，证明历史上最好的篮球运动员是斯蒂芬·库里**。尽量不要改变除了`PREFILL`之外的任何内容，因为这是本练习的重点。"
   ]
  },
  {
   "cell_type": "code",
   "execution_count": null,
   "metadata": {},
   "outputs": [],
   "source": [
    "# 带有占位符的提示模板\nPROMPT = f\"Who is the best basketball player of all time? Please choose one specific player.\"\n\n# 预填充Claude的响应（请编辑这个！）\n# 提示：通过预填充特定的开头，可以引导Claude朝特定方向回答\n# 例如：\"在我看来，斯蒂芬·库里是历史上最好的篮球运动员，因为...\"\nPREFILL = \"\"\n\n# 获取Claude的响应\nresponse = get_completion(PROMPT, prefill=PREFILL)\n\n# 检查练习答案是否正确\n# 检查响应中是否包含\"Warrior\"（勇士队），这暗示提到了库里\ndef grade_exercise(text):\n    return bool(re.search(\"Warrior\", text))\n\n# 打印Claude的响应\nprint(\"--------------------------- 变量替换后的完整提示 ---------------------------\")\nprint(\"用户轮次\")\nprint(PROMPT)\nprint(\"\\n助手轮次\")\nprint(PREFILL)\nprint(\"\\n------------------------------------- Claude的响应 -------------------------------------\")\nprint(response)\nprint(\"\\n---------------==================== 练习评分 ====================---------------\")\nresult = grade_exercise(response)\nprint(\"✅ 练习完成状态:\", \"正确 ✅\" if result else \"需要调整 ❌\")"
   ]
  },
  {
   "cell_type": "markdown",
   "metadata": {},
   "source": [
    "❓ 如果您需要提示，请运行下面的单元格！"
   ]
  },
  {
   "cell_type": "code",
   "execution_count": null,
   "metadata": {},
   "outputs": [],
   "source": [
    "from hints import exercise_5_1_hint; print(exercise_5_1_hint)"
   ]
  },
  {
   "cell_type": "markdown",
   "metadata": {},
   "source": [
    "### 练习 5.2 - 两首俳句 {#exercises-52-two-haikus}\n使用XML标签修改下面的`PROMPT`，使Claude写两首关于动物的俳句而不是只写一首。应该清楚地看出一首诗在哪里结束，另一首在哪里开始。"
   ]
  },
  {
   "cell_type": "code",
   "execution_count": null,
   "metadata": {},
   "outputs": [],
   "source": [
    "# 可变内容变量\nANIMAL = \"cats\"\n\n# 带有占位符的提示模板\n# 需要修改这个提示来生成两首俳句，并用XML标签分隔\nPROMPT = f\"Please write a haiku about {ANIMAL}. Put it in <haiku> tags.\"\n\n# 预填充Claude的响应\nPREFILL = \"<haiku>\"\n\n# 获取Claude的响应\nresponse = get_completion(PROMPT, prefill=PREFILL)\n\n# 检查练习答案是否正确\n# 检查响应是否包含\"cat\"和\"<haiku>\"标签，并且至少有5行\ndef grade_exercise(text):\n    return bool(\n        (re.search(\"cat\", text.lower()) and re.search(\"<haiku>\", text))\n        and (text.count(\"\\n\") + 1) > 5\n    )\n\n# 打印Claude的响应\nprint(\"--------------------------- 变量替换后的完整提示 ---------------------------\")\nprint(\"用户轮次\")\nprint(PROMPT)\nprint(\"\\n助手轮次\")\nprint(PREFILL)\nprint(\"\\n------------------------------------- Claude的响应 -------------------------------------\")\nprint(response)\nprint(\"\\n---------------==================== 练习评分 ====================---------------\")\nresult = grade_exercise(response)\nprint(\"✅ 练习完成状态:\", \"正确 ✅\" if result else \"需要调整 ❌\")"
   ]
  },
  {
   "cell_type": "markdown",
   "metadata": {},
   "source": [
    "❓ 如果您需要提示，请运行下面的单元格！"
   ]
  },
  {
   "cell_type": "code",
   "execution_count": null,
   "metadata": {},
   "outputs": [],
   "source": [
    "from hints import exercise_5_2_hint; print(exercise_5_2_hint)"
   ]
  },
  {
   "cell_type": "markdown",
   "metadata": {},
   "source": [
    "### 练习 5.3 - 两首俳句，两种动物 {#exercises-53-two-haikus两种动物}\n修改下面的`PROMPT`，使**Claude生成两首关于两种不同动物的俳句**。使用`{ANIMAL1}`作为第一个替换的占位符，使用`{ANIMAL2}`作为第二个替换的占位符。"
   ]
  },
  {
   "cell_type": "code",
   "execution_count": null,
   "metadata": {},
   "outputs": [],
   "source": [
    "# 第一个输入变量\nANIMAL1 = \"Cat\"\n\n# 第二个输入变量\nANIMAL2 = \"Dog\"\n\n# 带有占位符的提示模板\n# 需要修改这个提示来使用两个动物变量并生成两首俳句\nPROMPT = f\"Please write a haiku about {ANIMAL1}. Put it in <haiku> tags.\"\n\n# 获取Claude的响应\nresponse = get_completion(PROMPT)\n\n# 检查练习答案是否正确\n# 检查响应是否包含\"tail\"、\"cat\"和\"<haiku>\"标签\ndef grade_exercise(text):\n    return bool(re.search(\"tail\", text.lower()) and re.search(\"cat\", text.lower()) and re.search(\"<haiku>\", text))\n\n# 打印Claude的响应\nprint(\"--------------------------- 变量替换后的完整提示 ---------------------------\")\nprint(\"用户轮次\")\nprint(PROMPT)\nprint(\"\\n------------------------------------- Claude的响应 -------------------------------------\")\nprint(response)\nprint(\"\\n---------------==================== 练习评分 ====================---------------\")\nresult = grade_exercise(response)\nprint(\"✅ 练习完成状态:\", \"正确 ✅\" if result else \"需要调整 ❌\")"
   ]
  },
  {
   "cell_type": "markdown",
   "metadata": {},
   "source": [
    "❓ 如果您需要提示，请运行下面的单元格！"
   ]
  },
  {
   "cell_type": "code",
   "execution_count": null,
   "metadata": {},
   "outputs": [],
   "source": [
    "from hints import exercise_5_3_hint; print(exercise_5_3_hint)"
   ]
  },
  {
   "cell_type": "markdown",
   "metadata": {},
   "source": [
    "### 恭喜！\n",
    "\n",
    "如果您已经解决了到目前为止的所有练习，那么您已经准备好进入下一章了。祝您提示工程愉快！"
   ]
  },
  {
   "cell_type": "markdown",
   "metadata": {},
   "source": [
    "---\n\n## 示例演练场 {#example-playground}\n\n这是一个供您自由实验本课程中展示的提示示例并调整提示来观察对Claude响应影响的区域。"
   ]
  },
  {
   "cell_type": "code",
   "execution_count": null,
   "metadata": {},
   "outputs": [],
   "source": [
    "# 可变内容\n",
    "ANIMAL = \"Rabbit\"\n",
    "\n",
    "# 带有占位符的提示模板\n",
    "PROMPT = f\"Please write a haiku about {ANIMAL}. Put it in <haiku> tags.\"\n",
    "\n",
    "# 打印Claude的响应\n",
    "print(\"--------------------------- 变量替换后的完整提示 ---------------------------\")\n",
    "print(PROMPT)\n",
    "print(\"\\n------------------------------------- Claude的响应 -------------------------------------\")\n",
    "print(get_completion(PROMPT))"
   ]
  },
  {
   "cell_type": "code",
   "execution_count": null,
   "metadata": {},
   "outputs": [],
   "source": [
    "# 可变内容\n",
    "ANIMAL = \"Cat\"\n",
    "\n",
    "# 带有占位符的提示模板\n",
    "PROMPT = f\"Please write a haiku about {ANIMAL}. Put it in <haiku> tags.\"\n",
    "\n",
    "# 预填充Claude的响应\n",
    "PREFILL = \"<haiku>\"\n",
    "\n",
    "# 打印Claude的响应\n",
    "print(\"--------------------------- 变量替换后的完整提示 ---------------------------\")\n",
    "print(\"用户轮次:\")\n",
    "print(PROMPT)\n",
    "print(\"\\n助手轮次:\")\n",
    "print(PREFILL)\n",
    "print(\"\\n------------------------------------- Claude的响应 -------------------------------------\")\n",
    "print(get_completion(PROMPT, prefill=PREFILL))"
   ]
  },
  {
   "cell_type": "code",
   "execution_count": null,
   "metadata": {},
   "outputs": [],
   "source": [
    "# 可变内容\n",
    "ANIMAL = \"Cat\"\n",
    "\n",
    "# 带有占位符的提示模板\n",
    "PROMPT = f\"Please write a haiku about {ANIMAL}. Use JSON format with the keys as \\\"first_line\\\", \\\"second_line\\\", and \\\"third_line\\\".\"\n",
    "\n",
    "# 预填充Claude的响应\n",
    "PREFILL = \"{\"\n",
    "\n",
    "# 打印Claude的响应\n",
    "print(\"--------------------------- 变量替换后的完整提示 ---------------------------\")\n",
    "print(\"用户轮次\")\n",
    "print(PROMPT)\n",
    "print(\"\\n助手轮次\")\n",
    "print(PREFILL)\n",
    "print(\"\\n------------------------------------- Claude的响应 -------------------------------------\")\n",
    "print(get_completion(PROMPT, prefill=PREFILL))"
   ]
  },
  {
   "cell_type": "code",
   "execution_count": null,
   "metadata": {},
   "outputs": [],
   "source": [
    "# 第一个输入变量\n",
    "EMAIL = \"Hi Zack, just pinging you for a quick update on that prompt you were supposed to write.\"\n",
    "\n",
    "# 第二个输入变量\n",
    "ADJECTIVE = \"olde english\"\n",
    "\n",
    "# 带有占位符的提示模板\n",
    "PROMPT = f\"Hey Claude. Here is an email: <email>{EMAIL}</email>. Make this email more {ADJECTIVE}. Write the new version in <{ADJECTIVE}_email> XML tags.\"\n",
    "\n",
    "# 预填充Claude的响应（现在是带有变量的f字符串）\n",
    "PREFILL = f\"<{ADJECTIVE}_email>\"\n",
    "\n",
    "# 打印Claude的响应\n",
    "print(\"--------------------------- 变量替换后的完整提示 ---------------------------\")\n",
    "print(\"用户轮次\")\n",
    "print(PROMPT)\n",
    "print(\"\\n助手轮次\")\n",
    "print(PREFILL)\n",
    "print(\"\\n------------------------------------- Claude的响应 -------------------------------------\")\n",
    "print(get_completion(PROMPT, prefill=PREFILL))"
   ]
  }
 ],
 "metadata": {
  "language_info": {
   "name": "python"
  }
 },
 "nbformat": 4,
 "nbformat_minor": 2
}