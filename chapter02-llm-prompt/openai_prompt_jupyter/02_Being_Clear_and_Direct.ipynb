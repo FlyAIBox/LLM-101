{
 "cells": [
  {
   "cell_type": "markdown",
   "metadata": {},
   "source": [
    "# 第二章：明确和直接\n",
    "\n",
    "- [课程](#lesson)\n",
    "- [练习](#exercises)\n",
    "- [示例演练场](#example-playground)\n",
    "\n",
    "## 设置\n",
    "\n",
    "运行以下设置单元格来加载您的API密钥并建立`get_completion`辅助函数。"
   ]
  },
  {
   "cell_type": "code",
   "execution_count": null,
   "metadata": {},
   "outputs": [],
   "source": [
    "# 安装OpenAI库\n",
    "%pip install openai==1.61.0\n",
    "\n",
    "# 导入Python内置的正则表达式库\n",
    "import re\n",
    "import openai\n",
    "\n",
    "# 从IPython存储中检索API_KEY和MODEL_NAME变量\n",
    "%store -r API_KEY\n",
    "%store -r MODEL_NAME\n",
    "\n",
    "# 如果没有设置MODEL_NAME，使用默认值\n",
    "try:\n",
    "    MODEL_NAME\n",
    "except NameError:\n",
    "    MODEL_NAME = \"gpt-4o\"  # 默认使用gpt-4o模型\n",
    "\n",
    "# 创建OpenAI客户端\n",
    "client = openai.OpenAI(api_key=API_KEY)\n",
    "\n",
    "# 注意：我们为本课程将max_tokens改为4K，以允许练习中更长的完成响应\n",
    "def get_completion(prompt: str, system_prompt=\"\"):\n",
    "    \"\"\"\n",
    "    获取GPT的完成响应\n",
    "    \n",
    "    参数:\n",
    "        prompt (str): 用户提示\n",
    "        system_prompt (str): 系统提示（可选）\n",
    "    \n",
    "    返回:\n",
    "        str: GPT的响应文本\n",
    "    \"\"\"\n",
    "    # 构建消息列表\n",
    "    messages = []\n",
    "    \n",
    "    # 如果有系统提示，添加系统消息\n",
    "    if system_prompt:\n",
    "        messages.append({\"role\": \"system\", \"content\": system_prompt})\n",
    "    \n",
    "    # 添加用户消息\n",
    "    messages.append({\"role\": \"user\", \"content\": prompt})\n",
    "    \n",
    "    # 调用OpenAI API\n",
    "    response = client.chat.completions.create(\n",
    "        model=MODEL_NAME,              # 模型名称 (gpt-4o 或 deepseek-r1)\n",
    "        messages=messages,             # 消息列表\n",
    "        max_tokens=4000,              # 最大token数（为本课程增加到4K）\n",
    "        temperature=0.0               # 温度参数，0表示更确定性\n",
    "    )\n",
    "    return response.choices[0].message.content"
   ]
  },
  {
   "cell_type": "markdown",
   "metadata": {},
   "source": [
    "---\n",
    "\n",
    "## 课程\n",
    "\n",
    "**GPT对清晰直接的指令响应最佳。**\n",
    "\n",
    "把GPT想象成任何一个刚入职的人。除了您直接告诉它的内容外，**GPT对该做什么没有任何上下文**。就像您第一次指导人类完成任务一样，您越是以直接的方式向GPT准确解释您想要什么，GPT的响应就会越好、越准确。\"\t\t\t\t\n",
    "\t\t\t\t\n",
    "当有疑问时，遵循**清晰提示的黄金法则**：\n",
    "- 将您的提示展示给同事或朋友，让他们自己按照指令操作，看看他们能否产生您想要的结果。如果他们感到困惑，GPT也会困惑。\t\t\t\t"
   ]
  },
  {
   "cell_type": "markdown",
   "metadata": {},
   "source": [
    "### 示例\n",
    "\n",
    "让我们来看一个写诗的任务。（忽略任何音节不匹配 - LLM还不擅长计算音节。）"
   ]
  },
  {
   "cell_type": "code",
   "execution_count": null,
   "metadata": {},
   "outputs": [],
   "source": [
    "# 提示\n",
    "PROMPT = \"写一首关于机器人的俳句。\"\n",
    "\n",
    "# 打印GPT的响应\n",
    "print(get_completion(PROMPT))"
   ]
  },
  {
   "cell_type": "markdown",
   "metadata": {},
   "source": [
    "这首俳句很不错，但用户可能希望GPT直接进入诗歌，而不要\"这是一首俳句\"的前言。\n",
    "\n",
    "我们如何实现这一点？我们**直接要求**！"
   ]
  },
  {
   "cell_type": "code",
   "execution_count": null,
   "metadata": {},
   "outputs": [],
   "source": [
    "# 提示\n",
    "PROMPT = \"写一首关于机器人的俳句。跳过前言；直接进入诗歌。\"\n",
    "\n",
    "# 打印GPT的响应\n",
    "print(get_completion(PROMPT))"
   ]
  },
  {
   "cell_type": "markdown",
   "metadata": {},
   "source": [
    "这是另一个例子。让我们问GPT谁是史上最佳篮球运动员。您可以在下面看到，虽然GPT列出了几个名字，但**它没有给出明确的\"最佳\"答案**。"
   ]
  },
  {
   "cell_type": "code",
   "execution_count": null,
   "metadata": {},
   "outputs": [],
   "source": [
    "# 提示\n",
    "PROMPT = \"史上最佳篮球运动员是谁？\"\n",
    "\n",
    "# 打印GPT的响应\n",
    "print(get_completion(PROMPT))"
   ]
  },
  {
   "cell_type": "markdown",
   "metadata": {},
   "source": [
    "我们能让GPT下定决心并决定一个最佳球员吗？是的！直接问！"
   ]
  },
  {
   "cell_type": "code",
   "execution_count": null,
   "metadata": {},
   "outputs": [],
   "source": [
    "# 提示\n",
    "PROMPT = \"史上最佳篮球运动员是谁？是的，观点各不相同，但如果你绝对必须选择一个球员，你会选择谁？\"\n",
    "\n",
    "# 打印GPT的响应\n",
    "print(get_completion(PROMPT))"
   ]
  },
  {
   "cell_type": "markdown",
   "metadata": {},
   "source": [
    "如果您想在不更改上述任何内容的情况下实验课程提示，请滚动到课程notebook的最底部访问[**示例演练场**](#example-playground)。"
   ]
  },
  {
   "cell_type": "markdown",
   "metadata": {},
   "source": [
    "---\n",
    "\n",
    "## 练习\n",
    "- [练习 2.1 - 西班牙语](#exercise-21---spanish)\n",
    "- [练习 2.2 - 仅一名球员](#exercise-22---one-player-only)\n",
    "- [练习 2.3 - 写故事](#exercise-23---write-a-story)"
   ]
  },
  {
   "cell_type": "markdown",
   "metadata": {},
   "source": [
    "### 练习 2.1 - 西班牙语\n",
    "修改`SYSTEM_PROMPT`让GPT用西班牙语输出答案。"
   ]
  },
  {
   "cell_type": "code",
   "execution_count": null,
   "metadata": {},
   "outputs": [],
   "source": [
    "# 系统提示 - 这是您应该更改的唯一字段\n",
    "SYSTEM_PROMPT = \"[请替换此文本]\"\n",
    "\n",
    "# 用户提示\n",
    "PROMPT = \"你好GPT，你好吗？\"\n",
    "\n",
    "# 获取GPT的响应\n",
    "response = get_completion(PROMPT, SYSTEM_PROMPT)\n",
    "\n",
    "# 评分练习正确性的函数\n",
    "def grade_exercise(text):\n",
    "    \"\"\"检查响应是否包含西班牙语问候语\"\"\"\n",
    "    return \"hola\" in text.lower()\n",
    "\n",
    "# 打印GPT的响应和相应的分数\n",
    "print(response)\n",
    "print(\"\\n--------------------------- 评分 ---------------------------\")\n",
    "print(\"本练习已正确解决:\", grade_exercise(response))"
   ]
  },
  {
   "cell_type": "markdown",
   "metadata": {},
   "source": [
    "❓ 如果您需要提示，请运行下面的单元格！"
   ]
  },
  {
   "cell_type": "code",
   "execution_count": null,
   "metadata": {},
   "outputs": [],
   "source": [
    "# 导入并显示练习2.1的提示\n",
    "from hints import exercise_2_1_hint; print(exercise_2_1_hint)"
   ]
  },
  {
   "cell_type": "markdown",
   "metadata": {},
   "source": [
    "### 练习 2.2 - 仅一名球员\n",
    "\n",
    "修改`PROMPT`，使GPT完全不含糊其辞，**仅仅**回复一个特定球员的姓名，**不包含任何其他单词或标点符号**。 "
   ]
  },
  {
   "cell_type": "code",
   "execution_count": null,
   "metadata": {},
   "outputs": [],
   "source": [
    "# 提示 - 这是您应该更改的唯一字段\n",
    "PROMPT = \"[请替换此文本]\"\n",
    "\n",
    "# 获取GPT的响应\n",
    "response = get_completion(PROMPT)\n",
    "\n",
    "# 评分练习正确性的函数\n",
    "def grade_exercise(text):\n",
    "    \"\"\"检查响应是否完全等于\"Michael Jordan\" \"\"\"\n",
    "    return text == \"Michael Jordan\"\n",
    "\n",
    "# 打印GPT的响应和相应的分数\n",
    "print(response)\n",
    "print(\"\\n--------------------------- 评分 ---------------------------\")\n",
    "print(\"本练习已正确解决:\", grade_exercise(response))"
   ]
  },
  {
   "cell_type": "markdown",
   "metadata": {},
   "source": [
    "❓ 如果您需要提示，请运行下面的单元格！"
   ]
  },
  {
   "cell_type": "code",
   "execution_count": null,
   "metadata": {},
   "outputs": [],
   "source": [
    "# 导入并显示练习2.2的提示\n",
    "from hints import exercise_2_2_hint; print(exercise_2_2_hint)"
   ]
  },
  {
   "cell_type": "markdown",
   "metadata": {},
   "source": [
    "### 练习 2.3 - 写故事\n",
    "\n",
    "修改`PROMPT`，使GPT尽可能给出长篇响应。如果您的答案**超过800个单词**，GPT的响应将被评为正确。"
   ]
  },
  {
   "cell_type": "code",
   "execution_count": null,
   "metadata": {},
   "outputs": [],
   "source": [
    "# 提示 - 这是您应该更改的唯一字段\n",
    "PROMPT = \"[请替换此文本]\"\n",
    "\n",
    "# 获取GPT的响应\n",
    "response = get_completion(PROMPT)\n",
    "\n",
    "# 评分练习正确性的函数\n",
    "def grade_exercise(text):\n",
    "    \"\"\"检查响应是否超过800个单词\"\"\"\n",
    "    trimmed = text.strip()\n",
    "    words = len(trimmed.split())\n",
    "    return words >= 800\n",
    "\n",
    "# 打印GPT的响应和相应的分数\n",
    "print(response)\n",
    "print(\"\\n--------------------------- 评分 ---------------------------\")\n",
    "print(\"本练习已正确解决:\", grade_exercise(response))"
   ]
  },
  {
   "cell_type": "markdown",
   "metadata": {},
   "source": [
    "❓ 如果您需要提示，请运行下面的单元格！"
   ]
  },
  {
   "cell_type": "code",
   "execution_count": null,
   "metadata": {},
   "outputs": [],
   "source": [
    "# 导入并显示练习2.3的提示\n",
    "from hints import exercise_2_3_hint; print(exercise_2_3_hint)"
   ]
  },
  {
   "cell_type": "markdown",
   "metadata": {},
   "source": [
    "### 恭喜！\n",
    "\n",
    "如果您已经解决了到此为止的所有练习，您就可以进入下一章了。愉快的提示工程！"
   ]
  },
  {
   "cell_type": "markdown",
   "metadata": {},
   "source": [
    "---\n",
    "\n",
    "## 示例演练场\n",
    "\n",
    "这是一个让您自由实验本课程中显示的提示示例的区域，您可以调整提示来看看它如何影响GPT的响应。"
   ]
  },
  {
   "cell_type": "code",
   "execution_count": null,
   "metadata": {},
   "outputs": [],
   "source": [
    "# 提示\n",
    "PROMPT = \"写一首关于机器人的俳句。\"\n",
    "\n",
    "# 打印GPT的响应\n",
    "print(get_completion(PROMPT))"
   ]
  },
  {
   "cell_type": "code",
   "execution_count": null,
   "metadata": {},
   "outputs": [],
   "source": [
    "# 提示\n",
    "PROMPT = \"写一首关于机器人的俳句。跳过前言；直接进入诗歌。\"\n",
    "\n",
    "# 打印GPT的响应\n",
    "print(get_completion(PROMPT))"
   ]
  },
  {
   "cell_type": "code",
   "execution_count": null,
   "metadata": {},
   "outputs": [],
   "source": [
    "# 提示\n",
    "PROMPT = \"史上最佳篮球运动员是谁？\"\n",
    "\n",
    "# 打印GPT的响应\n",
    "print(get_completion(PROMPT))"
   ]
  },
  {
   "cell_type": "code",
   "execution_count": null,
   "metadata": {},
   "outputs": [],
   "source": [
    "# 提示\n",
    "PROMPT = \"史上最佳篮球运动员是谁？是的，观点各不相同，但如果你绝对必须选择一个球员，你会选择谁？\"\n",
    "\n",
    "# 打印GPT的响应\n",
    "print(get_completion(PROMPT))"
   ]
  }
 ],
 "metadata": {
  "kernelspec": {
   "display_name": "Python 3 (ipykernel)",
   "language": "python",
   "name": "python3"
  },
  "language_info": {
   "codemirror_mode": {
    "name": "ipython",
    "version": 3
   },
   "file_extension": ".py",
   "mimetype": "text/x-python",
   "name": "python",
   "nbconvert_exporter": "python",
   "pygments_lexer": "ipython3",
   "version": "3.13.3"
  }
 },
 "nbformat": 4,
 "nbformat_minor": 4
}
