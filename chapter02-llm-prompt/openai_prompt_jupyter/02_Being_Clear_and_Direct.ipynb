{
 "cells": [
  {
   "cell_type": "markdown",
   "metadata": {},
   "source": [
    "# 第二章：明确和直接\n",
    "\n",
    "## 设置\n",
    "\n",
    "运行以下设置单元格来加载您的API密钥并建立`get_completion`辅助函数。"
   ]
  },
  {
   "cell_type": "code",
   "execution_count": 1,
   "metadata": {},
   "outputs": [
    {
     "name": "stdout",
     "output_type": "stream",
     "text": [
      "Looking in indexes: https://pypi.tuna.tsinghua.edu.cn/simple\n",
      "Requirement already satisfied: openai==1.61.0 in /root/anaconda3/envs/deepseek/lib/python3.13/site-packages (1.61.0)\n",
      "Requirement already satisfied: anyio<5,>=3.5.0 in /root/anaconda3/envs/deepseek/lib/python3.13/site-packages (from openai==1.61.0) (4.9.0)\n",
      "Requirement already satisfied: distro<2,>=1.7.0 in /root/anaconda3/envs/deepseek/lib/python3.13/site-packages (from openai==1.61.0) (1.9.0)\n",
      "Requirement already satisfied: httpx<1,>=0.23.0 in /root/anaconda3/envs/deepseek/lib/python3.13/site-packages (from openai==1.61.0) (0.28.1)\n",
      "Requirement already satisfied: jiter<1,>=0.4.0 in /root/anaconda3/envs/deepseek/lib/python3.13/site-packages (from openai==1.61.0) (0.10.0)\n",
      "Requirement already satisfied: pydantic<3,>=1.9.0 in /root/anaconda3/envs/deepseek/lib/python3.13/site-packages (from openai==1.61.0) (2.11.5)\n",
      "Requirement already satisfied: sniffio in /root/anaconda3/envs/deepseek/lib/python3.13/site-packages (from openai==1.61.0) (1.3.1)\n",
      "Requirement already satisfied: tqdm>4 in /root/anaconda3/envs/deepseek/lib/python3.13/site-packages (from openai==1.61.0) (4.67.1)\n",
      "Requirement already satisfied: typing-extensions<5,>=4.11 in /root/anaconda3/envs/deepseek/lib/python3.13/site-packages (from openai==1.61.0) (4.14.0)\n",
      "Requirement already satisfied: idna>=2.8 in /root/anaconda3/envs/deepseek/lib/python3.13/site-packages (from anyio<5,>=3.5.0->openai==1.61.0) (3.10)\n",
      "Requirement already satisfied: certifi in /root/anaconda3/envs/deepseek/lib/python3.13/site-packages (from httpx<1,>=0.23.0->openai==1.61.0) (2025.4.26)\n",
      "Requirement already satisfied: httpcore==1.* in /root/anaconda3/envs/deepseek/lib/python3.13/site-packages (from httpx<1,>=0.23.0->openai==1.61.0) (1.0.9)\n",
      "Requirement already satisfied: h11>=0.16 in /root/anaconda3/envs/deepseek/lib/python3.13/site-packages (from httpcore==1.*->httpx<1,>=0.23.0->openai==1.61.0) (0.16.0)\n",
      "Requirement already satisfied: annotated-types>=0.6.0 in /root/anaconda3/envs/deepseek/lib/python3.13/site-packages (from pydantic<3,>=1.9.0->openai==1.61.0) (0.7.0)\n",
      "Requirement already satisfied: pydantic-core==2.33.2 in /root/anaconda3/envs/deepseek/lib/python3.13/site-packages (from pydantic<3,>=1.9.0->openai==1.61.0) (2.33.2)\n",
      "Requirement already satisfied: typing-inspection>=0.4.0 in /root/anaconda3/envs/deepseek/lib/python3.13/site-packages (from pydantic<3,>=1.9.0->openai==1.61.0) (0.4.1)\n",
      "\u001b[33mWARNING: Running pip as the 'root' user can result in broken permissions and conflicting behaviour with the system package manager, possibly rendering your system unusable. It is recommended to use a virtual environment instead: https://pip.pypa.io/warnings/venv. Use the --root-user-action option if you know what you are doing and want to suppress this warning.\u001b[0m\u001b[33m\n",
      "\u001b[0mNote: you may need to restart the kernel to use updated packages.\n",
      "Looking in indexes: https://pypi.tuna.tsinghua.edu.cn/simple\n",
      "Requirement already satisfied: openai==1.61.0 in /root/anaconda3/envs/deepseek/lib/python3.13/site-packages (1.61.0)\n",
      "Requirement already satisfied: anyio<5,>=3.5.0 in /root/anaconda3/envs/deepseek/lib/python3.13/site-packages (from openai==1.61.0) (4.9.0)\n",
      "Requirement already satisfied: distro<2,>=1.7.0 in /root/anaconda3/envs/deepseek/lib/python3.13/site-packages (from openai==1.61.0) (1.9.0)\n",
      "Requirement already satisfied: httpx<1,>=0.23.0 in /root/anaconda3/envs/deepseek/lib/python3.13/site-packages (from openai==1.61.0) (0.28.1)\n",
      "Requirement already satisfied: jiter<1,>=0.4.0 in /root/anaconda3/envs/deepseek/lib/python3.13/site-packages (from openai==1.61.0) (0.10.0)\n",
      "Requirement already satisfied: pydantic<3,>=1.9.0 in /root/anaconda3/envs/deepseek/lib/python3.13/site-packages (from openai==1.61.0) (2.11.5)\n",
      "Requirement already satisfied: sniffio in /root/anaconda3/envs/deepseek/lib/python3.13/site-packages (from openai==1.61.0) (1.3.1)\n",
      "Requirement already satisfied: tqdm>4 in /root/anaconda3/envs/deepseek/lib/python3.13/site-packages (from openai==1.61.0) (4.67.1)\n",
      "Requirement already satisfied: typing-extensions<5,>=4.11 in /root/anaconda3/envs/deepseek/lib/python3.13/site-packages (from openai==1.61.0) (4.14.0)\n",
      "Requirement already satisfied: idna>=2.8 in /root/anaconda3/envs/deepseek/lib/python3.13/site-packages (from anyio<5,>=3.5.0->openai==1.61.0) (3.10)\n",
      "Requirement already satisfied: certifi in /root/anaconda3/envs/deepseek/lib/python3.13/site-packages (from httpx<1,>=0.23.0->openai==1.61.0) (2025.4.26)\n",
      "Requirement already satisfied: httpcore==1.* in /root/anaconda3/envs/deepseek/lib/python3.13/site-packages (from httpx<1,>=0.23.0->openai==1.61.0) (1.0.9)\n",
      "Requirement already satisfied: h11>=0.16 in /root/anaconda3/envs/deepseek/lib/python3.13/site-packages (from httpcore==1.*->httpx<1,>=0.23.0->openai==1.61.0) (0.16.0)\n",
      "Requirement already satisfied: annotated-types>=0.6.0 in /root/anaconda3/envs/deepseek/lib/python3.13/site-packages (from pydantic<3,>=1.9.0->openai==1.61.0) (0.7.0)\n",
      "Requirement already satisfied: pydantic-core==2.33.2 in /root/anaconda3/envs/deepseek/lib/python3.13/site-packages (from pydantic<3,>=1.9.0->openai==1.61.0) (2.33.2)\n",
      "Requirement already satisfied: typing-inspection>=0.4.0 in /root/anaconda3/envs/deepseek/lib/python3.13/site-packages (from pydantic<3,>=1.9.0->openai==1.61.0) (0.4.1)\n",
      "\u001b[33mWARNING: Running pip as the 'root' user can result in broken permissions and conflicting behaviour with the system package manager, possibly rendering your system unusable. It is recommended to use a virtual environment instead: https://pip.pypa.io/warnings/venv. Use the --root-user-action option if you know what you are doing and want to suppress this warning.\u001b[0m\u001b[33m\n",
      "\u001b[0mNote: you may need to restart the kernel to use updated packages.\n",
      "✅ OpenAI环境设置完成!\n",
      "🔧 OpenAI API 配置信息:\n",
      "  📡 配置来源: 环境变量 + 自定义API地址: https://vip.apiyi.com/v1\n",
      "  🤖 模型: gpt-4o\n",
      "  🌐 API地址: https://vip.apiyi.com/v1\n",
      "  🔑 API密钥: sk-R2utG...B944\n",
      "\n",
      "✅ 使用统一配置管理成功！\n"
     ]
    }
   ],
   "source": [
    "# 安装OpenAI库\n",
    "%pip install openai==1.61.0\n",
    "\n",
    "# 🔧 OpenAI环境自动配置\n",
    "# 此设置会自动从环境变量或IPython存储中加载配置\n",
    "\n",
    "# 安装OpenAI库\n",
    "%pip install openai==1.61.0\n",
    "\n",
    "# 导入Python内置的正则表达式库\n",
    "import re\n",
    "\n",
    "# 🚀 使用统一配置管理系统\n",
    "from config import setup_notebook_environment, print_config_info\n",
    "\n",
    "# 自动设置OpenAI客户端和get_completion函数\n",
    "# 优先级：环境变量 > IPython存储 > 默认值\n",
    "try:\n",
    "    client, get_completion = setup_notebook_environment()\n",
    "    print(\"✅ 使用统一配置管理成功！\")\n",
    "except Exception as e:\n",
    "    print(f\"❌ 统一配置失败，回退到传统方式: {e}\")\n",
    "    \n",
    "    # 回退到传统的配置方式\n",
    "    import openai\n",
    "    \n",
    "    # 从IPython存储中检索API_KEY和MODEL_NAME变量\n",
    "    %store -r API_KEY\n",
    "    %store -r MODEL_NAME\n",
    "\n",
    "    # 如果没有设置MODEL_NAME，使用默认值\n",
    "    try:\n",
    "        MODEL_NAME\n",
    "    except NameError:\n",
    "        MODEL_NAME = \"gpt-4o\"  # 默认使用gpt-4o模型\n",
    "\n",
    "    # 创建OpenAI客户端\n",
    "    client = openai.OpenAI(api_key=API_KEY)\n",
    "\n",
    "    def get_completion(prompt: str, system_prompt=\"\"):\n",
    "        \"\"\"\n",
    "        获取GPT的完成响应\n",
    "        \n",
    "        参数:\n",
    "            prompt (str): 用户提示\n",
    "            system_prompt (str): 系统提示（可选）\n",
    "        \n",
    "        返回:\n",
    "            str: GPT的响应文本\n",
    "        \"\"\"\n",
    "        # 构建消息列表\n",
    "        messages = []\n",
    "        \n",
    "        # 如果有系统提示，添加系统消息\n",
    "        if system_prompt:\n",
    "            messages.append({\"role\": \"system\", \"content\": system_prompt})\n",
    "        \n",
    "        # 添加用户消息\n",
    "        messages.append({\"role\": \"user\", \"content\": prompt})\n",
    "        \n",
    "        # 调用OpenAI API\n",
    "        response = client.chat.completions.create(\n",
    "            model=MODEL_NAME,              # 模型名称 (gpt-4o 或 deepseek-r1)\n",
    "            messages=messages,             # 消息列表\n",
    "            max_completion_tokens=2000,    # 最大token数\n",
    "            temperature=0.0               # 温度参数，0表示更确定性\n",
    "        )\n",
    "        return response.choices[0].message.content\n",
    "    \n",
    "    print(\"⚠️  使用传统配置方式，建议配置环境变量以获得更好体验\")"
   ]
  },
  {
   "cell_type": "markdown",
   "metadata": {},
   "source": [
    "---\n",
    "\n",
    "## 课程 {#lesson}\n",
    "\n",
    "**GPT对清晰直接的指令响应最佳。**\n",
    "\n",
    "把GPT想象成任何一个刚入职的人。除了您直接告诉它的内容外，**GPT对该做什么没有任何上下文**。就像您第一次指导人类完成任务一样，您越是以直接的方式向GPT准确解释您想要什么，GPT的响应就会越好、越准确。\"\t\t\t\t\n",
    "\t\t\t\t\n",
    "当有疑问时，遵循**清晰提示的黄金法则**：\n",
    "- 将您的提示展示给同事或朋友，让他们自己按照指令操作，看看他们能否产生您想要的结果。如果他们感到困惑，GPT也会困惑。\t\t\t\t"
   ]
  },
  {
   "cell_type": "markdown",
   "metadata": {},
   "source": [
    "### 示例\n",
    "\n",
    "让我们通过几个对比鲜明的例子来演示明确和直接的重要性。\n",
    "\n",
    "#### 示例1：模糊 vs 明确的任务指令"
   ]
  },
  {
   "cell_type": "code",
   "execution_count": 2,
   "metadata": {},
   "outputs": [
    {
     "name": "stdout",
     "output_type": "stream",
     "text": [
      "模糊提示的回答:\n",
      "当然可以！请提供您需要处理的数据，并告诉我您希望如何处理它。无论是数据清理、分析还是可视化，我都会尽力帮助您。\n",
      "\n"
     ]
    }
   ],
   "source": [
    "# 模糊的提示\n",
    "PROMPT = \"帮我处理一下这个数据\"\n",
    "\n",
    "# 显示GPT回答\n",
    "print(\"模糊提示的回答:\")\n",
    "print(get_completion(PROMPT))\n",
    "print()"
   ]
  },
  {
   "cell_type": "markdown",
   "metadata": {},
   "source": [
    "可以看到，GPT无法理解\"处理数据\"具体指什么，只能给出通用的回答。\n",
    "\n",
    "现在让我们提供一个**明确和直接**的指令："
   ]
  },
  {
   "cell_type": "code",
   "execution_count": 3,
   "metadata": {},
   "outputs": [
    {
     "name": "stdout",
     "output_type": "stream",
     "text": [
      "明确提示的回答:\n",
      "为了计算每个月的同比增长率，我们需要假设去年每个月的销售额。由于没有提供去年的数据，我将假设去年每个月的销售额与今年相同，以便展示表格格式和计算方法。\n",
      "\n",
      "假设去年每个月的销售额如下：\n",
      "- 去年1月：100万\n",
      "- 去年2月：120万\n",
      "- 去年3月：110万\n",
      "- 去年4月：130万\n",
      "\n",
      "根据这个假设，计算每个月的同比增长率：\n",
      "\n",
      "| 月份 | 销售额 (万元) | 同比增长率 |\n",
      "|------|--------------|------------|\n",
      "| 1月  | 100          | 0.00%      |\n",
      "| 2月  | 120          | 0.00%      |\n",
      "| 3月  | 110          | 0.00%      |\n",
      "| 4月  | 130          | 0.00%      |\n",
      "\n",
      "如果有去年的实际数据，请提供，以便进行准确的同比增长率计算。否则，以上表格仅用于展示格式。\n"
     ]
    }
   ],
   "source": [
    "# 明确和直接的提示\n",
    "PROMPT = \"\"\"分析以下销售数据，计算每个月的同比增长率：\n",
    "1月：100万\n",
    "2月：120万\n",
    "3月：110万\n",
    "4月：130万\n",
    "\n",
    "要求：\n",
    "- 以表格形式输出结果\n",
    "- 包含月份、销售额、同比增长率三列\n",
    "- 同比增长率保留2位小数，用百分比表示\"\"\"\n",
    "\n",
    "# 显示GPT回答\n",
    "print(\"明确提示的回答:\")\n",
    "print(get_completion(PROMPT))"
   ]
  },
  {
   "cell_type": "markdown",
   "metadata": {},
   "source": [
    "看到差别了吗？明确的指令让GPT能够准确理解任务，并按照要求的格式输出结果。\n",
    "\n",
    "#### 示例2：输出格式的明确指定\n",
    "\n",
    "让我们看另一个例子，关于如何明确指定输出格式。首先是一个**模糊的请求**："
   ]
  },
  {
   "cell_type": "code",
   "execution_count": 4,
   "metadata": {},
   "outputs": [
    {
     "name": "stdout",
     "output_type": "stream",
     "text": [
      "模糊提示的回答:\n",
      "学习Python是一项非常有益的技能，无论你是初学者还是有经验的程序员。以下是一些建议，可以帮助你有效地学习Python：\n",
      "\n",
      "1. **设定明确的目标**：首先，明确你学习Python的目的。是为了数据分析、机器学习、Web开发还是自动化任务？根据你的目标选择合适的学习路径。\n",
      "\n",
      "2. **掌握基础知识**：确保你理解Python的基本语法和概念，包括变量、数据类型、操作符、条件语句、循环、函数和类等。\n",
      "\n",
      "3. **使用交互式学习平台**：像Codecademy、LeetCode、HackerRank和Kaggle等平台提供了交互式的Python练习，可以帮助你巩固基础知识。\n",
      "\n",
      "4. **阅读官方文档**：Python的官方文档是一个非常全面的资源，帮助你深入理解Python的功能和库。\n",
      "\n",
      "5. **动手实践**：理论学习固然重要，但实践才能让你真正掌握Python。尝试编写小项目，比如简单的计算器、数据分析脚本或网页爬虫。\n",
      "\n",
      "6. **学习Python库**：根据你的目标，学习相关的Python库。例如，数据分析可以学习Pandas和NumPy，机器学习可以学习Scikit-learn和TensorFlow，Web开发可以学习Flask和Django。\n",
      "\n",
      "7. **参与社区**：加入Python社区，比如Stack Overflow、Reddit的r/learnpython或GitHub，参与讨论，寻求帮助，分享你的项目。\n",
      "\n",
      "8. **定期练习**：编程技能需要不断练习。设定一个学习计划，每天或每周定期编写代码，解决问题。\n",
      "\n",
      "9. **解决实际问题**：尝试解决实际问题或挑战，比如自动化日常任务、分析数据集或开发一个简单的应用程序。\n",
      "\n",
      "10. **持续学习**：Python生态系统不断发展，保持学习新技术、新库和新工具的习惯。\n",
      "\n",
      "通过这些建议，你可以逐步提高你的Python技能，并应用到实际项目中。祝你学习愉快！\n",
      "\n",
      "==================================================\n",
      "\n"
     ]
    }
   ],
   "source": [
    "# 模糊的提示 - 没有指定输出格式\n",
    "PROMPT = \"给我一些Python学习建议\"\n",
    "\n",
    "# 显示GPT回答\n",
    "print(\"模糊提示的回答:\")\n",
    "print(get_completion(PROMPT))\n",
    "print(\"\\n\" + \"=\"*50 + \"\\n\")"
   ]
  },
  {
   "cell_type": "markdown",
   "metadata": {},
   "source": [
    "GPT给出了一般性的建议，但格式不够结构化。现在让我们用**明确的格式要求**："
   ]
  },
  {
   "cell_type": "code",
   "execution_count": 5,
   "metadata": {},
   "outputs": [
    {
     "name": "stdout",
     "output_type": "stream",
     "text": [
      "明确提示的回答:\n",
      "| 阶段 | 学习时长 | 核心概念 | 推荐资源 | 实战项目 |\n",
      "|------|----------|----------|----------|----------|\n",
      "| 初级 | 4周 | 变量与数据类型、基本运算符、条件语句、循环 | 《Python编程：从入门到实践》、Codecademy Python课程 | 计算器程序、猜数字游戏 |\n",
      "| 中级 | 6周 | 函数、列表与字典、文件操作、错误和异常处理 | 《流畅的Python》、LeetCode编程题 | 图书管理系统、数据分析脚本 |\n",
      "| 高级 | 8周 | 面向对象编程、模块与包、网络编程、数据库操作 | 《Python高级编程》、Coursera Python课程 | Web应用开发、自动化脚本工具 |\n"
     ]
    }
   ],
   "source": [
    "# 明确和直接的提示 - 指定了具体的输出格式\n",
    "PROMPT = \"\"\"为初学者制定一个Python学习计划。\n",
    "\n",
    "要求：\n",
    "1. 分为3个阶段：初级、中级、高级\n",
    "2. 每个阶段包含：学习时长、核心概念、推荐资源、实战项目\n",
    "3. 用表格形式呈现\n",
    "4. 不要添加额外解释，直接给出表格\n",
    "\n",
    "输出格式示例：\n",
    "| 阶段 | 学习时长 | 核心概念 | 推荐资源 | 实战项目 |\n",
    "|------|----------|----------|----------|----------|\n",
    "| 初级 | ... | ... | ... | ... |\"\"\"\n",
    "\n",
    "# 显示GPT回答\n",
    "print(\"明确提示的回答:\")\n",
    "print(get_completion(PROMPT))"
   ]
  },
  {
   "cell_type": "markdown",
   "metadata": {
    "vscode": {
     "languageId": "raw"
    }
   },
   "source": [
    "#### 示例3：避免歧义的明确指令\n",
    "\n",
    "最后一个例子展示如何通过明确指令避免歧义。先看一个**容易产生歧义**的提示：\n"
   ]
  },
  {
   "cell_type": "code",
   "execution_count": 6,
   "metadata": {},
   "outputs": [
    {
     "name": "stdout",
     "output_type": "stream",
     "text": [
      "歧义提示的回答:\n",
      "机器学习是一种通过算法和统计模型使计算机系统能够从数据中自动学习和改进的技术。它是人工智能的一个分支，旨在开发能够从经验中学习的系统，而无需明确编程。机器学习的核心思想是利用数据来训练模型，使其能够识别模式、做出预测或决策。\n",
      "\n",
      "机器学习可以分为几种主要类型：\n",
      "\n",
      "1. **监督学习**：在这种类型中，模型从标记的数据中学习。数据集包含输入和对应的正确输出，模型通过学习输入与输出之间的关系来进行预测。常见的监督学习任务包括分类（如垃圾邮件检测）和回归（如房价预测）。\n",
      "\n",
      "2. **无监督学习**：模型从未标记的数据中寻找模式或结构。常见的无监督学习任务包括聚类（如客户分群）和降维（如主成分分析）。\n",
      "\n",
      "3. **半监督学习**：结合了监督学习和无监督学习，使用少量标记数据和大量未标记数据进行训练。这种方法在标记数据难以获取时特别有用。\n",
      "\n",
      "4. **强化学习**：模型通过与环境交互来学习策略，以最大化某种奖励。常用于机器人控制、游戏和自动驾驶等领域。\n",
      "\n",
      "机器学习的应用非常广泛，包括图像识别、自然语言处理、推荐系统、金融预测、医疗诊断等。随着数据量的增加和计算能力的提升，机器学习在各个领域的影响力和应用范围不断扩大。\n",
      "\n",
      "==================================================\n",
      "\n"
     ]
    }
   ],
   "source": [
    "# 容易产生歧义的提示\n",
    "PROMPT = \"解释一下机器学习\"\n",
    "\n",
    "# 显示GPT回答\n",
    "print(\"歧义提示的回答:\")\n",
    "print(get_completion(PROMPT))\n",
    "print(\"\\n\" + \"=\"*50 + \"\\n\")\n"
   ]
  },
  {
   "cell_type": "raw",
   "metadata": {
    "vscode": {
     "languageId": "raw"
    }
   },
   "source": [
    "这个回答可能过于宽泛或技术性。现在让我们提供一个**明确的上下文和要求**：\n"
   ]
  },
  {
   "cell_type": "code",
   "execution_count": 7,
   "metadata": {},
   "outputs": [
    {
     "name": "stdout",
     "output_type": "stream",
     "text": [
      "明确提示的回答:\n",
      "1. **监督学习**：想象你在学习如何识别水果。你的老师给你一篮子标有名称的水果（苹果、香蕉等），你通过观察这些标记来学习识别不同的水果。这就是监督学习，机器通过已知的输入和输出对来学习模式。应用场景包括垃圾邮件过滤和图像识别。\n",
      "\n",
      "2. **无监督学习**：假设你有一篮子没有标签的水果，你需要自己找出哪些水果相似。无监督学习就是这样，机器在没有明确答案的情况下寻找数据中的模式。常用于客户分群和推荐系统。\n",
      "\n",
      "3. **强化学习**：想象你在玩电子游戏，通过不断尝试和失败来学习如何过关。强化学习就是这样，机器通过试错和从环境中获得反馈来学习最佳策略。应用于机器人控制和自动驾驶。\n"
     ]
    }
   ],
   "source": [
    "# 明确的上下文和要求\n",
    "PROMPT = \"\"\"你是一名面向大学一年级计算机专业学生的讲师。用简单易懂的语言解释机器学习。\n",
    "\n",
    "要求：\n",
    "1. 用日常生活中的例子来说明概念\n",
    "2. 避免复杂的数学公式\n",
    "3. 重点说明机器学习的3个主要类型及其应用场景\n",
    "4. 控制在200字以内\n",
    "5. 用1-2-3的序号格式组织内容\"\"\"\n",
    "\n",
    "# 显示GPT回答\n",
    "print(\"明确提示的回答:\")\n",
    "print(get_completion(PROMPT))\n"
   ]
  },
  {
   "cell_type": "markdown",
   "metadata": {
    "vscode": {
     "languageId": "raw"
    }
   },
   "source": [
    "### 关键要点总结\n",
    "\n",
    "通过以上三个对比鲜明的例子，我们可以看到明确和直接的提示带来的巨大差异：\n",
    "\n",
    "**模糊提示的问题：**\n",
    "- 任务不明确：「帮我处理数据」vs「分析销售数据并计算同比增长率」\n",
    "- 格式不清晰：「给建议」vs「用表格形式输出学习计划」  \n",
    "- 缺乏上下文：「解释机器学习」vs「为大一学生用简单语言解释」\n",
    "\n",
    "**明确提示的要素：**\n",
    "1. **具体的任务描述** - 明确说明要做什么\n",
    "2. **清晰的输出格式** - 指定表格、列表、字数等要求\n",
    "3. **明确的上下文** - 说明目标受众和使用场景\n",
    "4. **具体的约束条件** - 字数限制、格式要求等\n",
    "\n",
    "记住：**GPT无法读懂你的想法，只能按照你给出的指令执行**。越明确越直接的指令，越能得到符合期望的结果。\n"
   ]
  },
  {
   "cell_type": "markdown",
   "metadata": {},
   "source": [
    "如果您想在不更改上述任何内容的情况下实验课程提示，请滚动到课程notebook的最底部访问[**示例演练场**](#example-playground)。"
   ]
  },
  {
   "cell_type": "markdown",
   "metadata": {},
   "source": [
    "### 练习 2.1 - 西班牙语 {#exercise-21---spanish}\n",
    "修改`SYSTEM_PROMPT`让GPT用西班牙语输出答案。"
   ]
  },
  {
   "cell_type": "code",
   "execution_count": 8,
   "metadata": {},
   "outputs": [
    {
     "name": "stdout",
     "output_type": "stream",
     "text": [
      "你好！我很好，谢谢你的关心。有什么我可以帮助你的吗？\n",
      "\n",
      "==================== 练习评分 ====================\n",
      "✅ 练习完成状态: 需要调整 ❌\n"
     ]
    }
   ],
   "source": [
    "# 系统提示 - 这是您应该更改的唯一字段\n",
    "SYSTEM_PROMPT = \"[请替换此文本]\"\n",
    "\n",
    "# 用户提示\n",
    "PROMPT = \"你好GPT，你好吗？\"\n",
    "\n",
    "# 获取GPT回答\n",
    "response = get_completion(PROMPT, SYSTEM_PROMPT)\n",
    "\n",
    "# 检查练习答案是否正确\n",
    "def grade_exercise(text):\n",
    "    \"\"\"检查回答中是否包含西班牙语问候语\"\"\"\n",
    "    return \"hola\" in text.lower()\n",
    "\n",
    "# 显示GPT回答和评分结果\n",
    "print(response)\n",
    "print(\"\\n\" + \"=\"*20 + \" 练习评分 \" + \"=\"*20)\n",
    "result = grade_exercise(response)\n",
    "print(\"✅ 练习完成状态:\", \"正确 ✅\" if result else \"需要调整 ❌\")"
   ]
  },
  {
   "cell_type": "markdown",
   "metadata": {},
   "source": [
    "❓ 如果您需要提示，请运行下面的单元格！"
   ]
  },
  {
   "cell_type": "code",
   "execution_count": 9,
   "metadata": {},
   "outputs": [
    {
     "name": "stdout",
     "output_type": "stream",
     "text": [
      "本练习中的评分函数正在寻找包含\"hola\"单词的任何答案。\n",
      "像您与人类交谈时一样要求GPT用西班牙语回复。就是这么简单！\n"
     ]
    }
   ],
   "source": [
    "# 导入并显示练习2.1的提示\n",
    "from hints import exercise_2_1_hint; print(exercise_2_1_hint)"
   ]
  },
  {
   "cell_type": "markdown",
   "metadata": {},
   "source": [
    "### 练习 2.2 - 仅一名球员 {#exercise-22---one-player-only}\n",
    "\n",
    "修改`PROMPT`，使GPT完全不含糊其辞，**仅仅**回复一个特定球员的姓名，**不包含任何其他单词或标点符号**。 "
   ]
  },
  {
   "cell_type": "code",
   "execution_count": 10,
   "metadata": {},
   "outputs": [
    {
     "name": "stdout",
     "output_type": "stream",
     "text": [
      "当然可以！请告诉我您希望替换的文本内容，以及您想要替换成什么内容。\n",
      "\n",
      "==================== 练习评分 ====================\n",
      "✅ 练习完成状态: 需要调整 ❌\n"
     ]
    }
   ],
   "source": [
    "# 提示 - 这是您应该更改的唯一字段\n",
    "PROMPT = \"[请替换此文本]\"\n",
    "\n",
    "# 获取GPT回答\n",
    "response = get_completion(PROMPT)\n",
    "\n",
    "# 检查练习答案是否正确\n",
    "def grade_exercise(text):\n",
    "    \"\"\"检查回答是否精确匹配\"Michael Jordan\" \"\"\"\n",
    "    return text == \"Michael Jordan\"\n",
    "\n",
    "# 显示GPT回答和评分结果\n",
    "print(response)\n",
    "print(\"\\n\" + \"=\"*20 + \" 练习评分 \" + \"=\"*20)\n",
    "result = grade_exercise(response)\n",
    "print(\"✅ 练习完成状态:\", \"正确 ✅\" if result else \"需要调整 ❌\")"
   ]
  },
  {
   "cell_type": "markdown",
   "metadata": {},
   "source": [
    "❓ 如果您需要提示，请运行下面的单元格！"
   ]
  },
  {
   "cell_type": "code",
   "execution_count": 11,
   "metadata": {},
   "outputs": [
    {
     "name": "stdout",
     "output_type": "stream",
     "text": [
      "本练习中的评分函数正在寻找完全匹配\"Michael Jordan\"。\n",
      "您会如何要求另一个人这样做？只回复不包含其他单词？只回复姓名而不回复其他任何内容？有几种方法可以解决这个答案。\n"
     ]
    }
   ],
   "source": [
    "# 导入并显示练习2.2的提示\n",
    "from hints import exercise_2_2_hint; print(exercise_2_2_hint)"
   ]
  },
  {
   "cell_type": "markdown",
   "metadata": {},
   "source": [
    "### 练习 2.3 - 写故事 {#exercise-23---write-a-story}\n",
    "\n",
    "修改`PROMPT`，使GPT尽可能给出长篇响应。如果您的答案**超过800个单词**，GPT的响应将被评为正确。"
   ]
  },
  {
   "cell_type": "code",
   "execution_count": 12,
   "metadata": {},
   "outputs": [
    {
     "name": "stdout",
     "output_type": "stream",
     "text": [
      "当然可以！请告诉我您希望替换的具体内容或主题，我会根据您的要求进行修改。\n",
      "\n",
      "==================== 练习评分 ====================\n",
      "✅ 练习完成状态: 需要调整 ❌\n"
     ]
    }
   ],
   "source": [
    "# 提示 - 这是您应该更改的唯一字段\n",
    "PROMPT = \"[请替换此文本]\"\n",
    "\n",
    "# 获取GPT回答\n",
    "response = get_completion(PROMPT)\n",
    "\n",
    "# 检查练习答案是否正确\n",
    "def grade_exercise(text):\n",
    "    \"\"\"检查回答字数是否达到800词以上\"\"\"\n",
    "    trimmed = text.strip()\n",
    "    words = len(trimmed.split())\n",
    "    return words >= 800\n",
    "\n",
    "# 显示GPT回答和评分结果\n",
    "print(response)\n",
    "print(\"\\n\" + \"=\"*20 + \" 练习评分 \" + \"=\"*20)\n",
    "result = grade_exercise(response)\n",
    "print(\"✅ 练习完成状态:\", \"正确 ✅\" if result else \"需要调整 ❌\")"
   ]
  },
  {
   "cell_type": "markdown",
   "metadata": {},
   "source": [
    "❓ 如果您需要提示，请运行下面的单元格！"
   ]
  },
  {
   "cell_type": "code",
   "execution_count": 13,
   "metadata": {},
   "outputs": [
    {
     "name": "stdout",
     "output_type": "stream",
     "text": [
      "本单元格中的评分函数正在寻找等于或大于800个单词的响应。\n",
      "因为LLM还不擅长计算单词数，您可能需要超过目标。\n"
     ]
    }
   ],
   "source": [
    "# 导入并显示练习2.3的提示\n",
    "from hints import exercise_2_3_hint; print(exercise_2_3_hint)"
   ]
  },
  {
   "cell_type": "markdown",
   "metadata": {},
   "source": [
    "### 恭喜！\n",
    "\n",
    "如果您已经解决了到此为止的所有练习，您就可以进入下一章了。愉快的提示工程！"
   ]
  },
  {
   "cell_type": "code",
   "execution_count": 14,
   "metadata": {},
   "outputs": [
    {
     "name": "stdout",
     "output_type": "stream",
     "text": [
      "模糊提示的回答:\n",
      "当然可以！请提供你需要处理的数据，并告诉我你希望如何处理它。无论是数据清理、分析还是可视化，我都会尽力帮助你。\n",
      "\n",
      "==================================================\n",
      "\n",
      "明确提示的回答:\n",
      "为了计算每个月的同比增长率，我们需要将当前月的销售额与去年同月的销售额进行比较。然而，您提供的数据仅包含今年的销售额，因此无法直接计算同比增长率。如果您有去年的数据，请提供以便进行计算。\n",
      "\n",
      "假设您提供了去年的数据，我们可以按照以下步骤进行计算：\n",
      "\n",
      "1. 计算同比增长率公式：\n",
      "   \\[\n",
      "   \\text{同比增长率} = \\left( \\frac{\\text{今年销售额} - \\text{去年销售额}}{\\text{去年销售额}} \\right) \\times 100\\%\n",
      "   \\]\n",
      "\n",
      "2. 以表格形式输出结果。\n",
      "\n",
      "请提供去年的销售数据以便继续计算。如果没有去年的数据，我们可以计算环比增长率（即与上个月相比的增长率）。如果您希望计算环比增长率，请确认。\n"
     ]
    }
   ],
   "source": [
    "# 示例1：数据分析任务\n",
    "# 模糊的提示\n",
    "PROMPT = \"帮我处理一下这个数据\"\n",
    "print(\"模糊提示的回答:\")\n",
    "print(get_completion(PROMPT))\n",
    "print(\"\\n\" + \"=\"*50 + \"\\n\")\n",
    "\n",
    "# 明确的提示\n",
    "PROMPT = \"\"\"分析以下销售数据，计算每个月的同比增长率：\n",
    "1月：100万\n",
    "2月：120万\n",
    "3月：110万\n",
    "4月：130万\n",
    "\n",
    "要求：\n",
    "- 以表格形式输出结果\n",
    "- 包含月份、销售额、同比增长率三列\n",
    "- 同比增长率保留2位小数，用百分比表示\"\"\"\n",
    "\n",
    "print(\"明确提示的回答:\")\n",
    "print(get_completion(PROMPT))"
   ]
  },
  {
   "cell_type": "code",
   "execution_count": 15,
   "metadata": {},
   "outputs": [
    {
     "name": "stdout",
     "output_type": "stream",
     "text": [
      "模糊提示的回答:\n",
      "学习Python是一项非常有益的技能，无论你是编程新手还是有经验的开发者。以下是一些建议，帮助你有效地学习Python：\n",
      "\n",
      "1. **设定明确的目标**：首先，明确你学习Python的目的。是为了数据分析、机器学习、Web开发还是自动化任务？根据你的目标选择合适的学习路径。\n",
      "\n",
      "2. **掌握基础知识**：从Python的基本语法开始，包括变量、数据类型、运算符、条件语句、循环、函数等。可以使用在线教程、书籍或视频课程。\n",
      "\n",
      "3. **动手实践**：理论学习固然重要，但实践更能巩固知识。尝试编写简单的程序，解决实际问题。可以从一些小项目开始，比如计算器、猜数字游戏等。\n",
      "\n",
      "4. **使用在线资源**：利用在线平台如Codecademy、Coursera、edX、LeetCode等进行系统学习。这些平台提供结构化的课程和练习题。\n",
      "\n",
      "5. **参与社区**：加入Python社区，如Stack Overflow、Reddit的r/learnpython、GitHub等。参与讨论、寻求帮助、分享你的项目。\n",
      "\n",
      "6. **学习Python库**：根据你的目标，学习相关的Python库。例如，数据分析可以学习Pandas和NumPy，机器学习可以学习Scikit-learn和TensorFlow，Web开发可以学习Django和Flask。\n",
      "\n",
      "7. **阅读代码**：通过阅读他人的代码来提高自己的编程能力。GitHub是一个很好的资源，可以找到各种项目的源代码。\n",
      "\n",
      "8. **定期练习**：编程技能需要不断练习。每天花一些时间写代码，解决编程挑战或参与开源项目。\n",
      "\n",
      "9. **解决问题**：尝试解决编程挑战和问题，比如参加在线编程竞赛或完成Kaggle上的数据科学项目。\n",
      "\n",
      "10. **持续学习**：技术不断发展，保持学习的习惯。关注Python的最新发展和更新，学习新版本的特性。\n",
      "\n",
      "通过这些方法，你可以逐步提高自己的Python技能，并应用到实际项目中。祝你学习愉快！\n",
      "\n",
      "==================================================\n",
      "\n",
      "明确提示的回答:\n",
      "| 阶段 | 学习时长 | 核心概念 | 推荐资源 | 实战项目 |\n",
      "|------|----------|----------|----------|----------|\n",
      "| 初级 | 4周 | 变量与数据类型、基本运算、条件语句、循环 | 《Python编程：从入门到实践》、Codecademy Python课程 | 计算器程序、猜数字游戏 |\n",
      "| 中级 | 6周 | 函数、文件操作、错误和异常处理、模块与包 | 《流畅的Python》、Real Python网站 | 文本分析工具、简单的Web爬虫 |\n",
      "| 高级 | 8周 | 面向对象编程、数据库操作、网络编程、并发编程 | 《Python高级编程》、Coursera Python课程 | Web应用开发、数据可视化项目 |\n"
     ]
    }
   ],
   "source": [
    "# 示例2：学习建议任务\n",
    "# 模糊的提示\n",
    "PROMPT = \"给我一些Python学习建议\"\n",
    "print(\"模糊提示的回答:\")\n",
    "print(get_completion(PROMPT))\n",
    "print(\"\\n\" + \"=\"*50 + \"\\n\")\n",
    "\n",
    "# 明确的提示\n",
    "PROMPT = \"\"\"为初学者制定一个Python学习计划。\n",
    "\n",
    "要求：\n",
    "1. 分为3个阶段：初级、中级、高级\n",
    "2. 每个阶段包含：学习时长、核心概念、推荐资源、实战项目\n",
    "3. 用表格形式呈现\n",
    "4. 不要添加额外解释，直接给出表格\n",
    "\n",
    "输出格式示例：\n",
    "| 阶段 | 学习时长 | 核心概念 | 推荐资源 | 实战项目 |\n",
    "|------|----------|----------|----------|----------|\n",
    "| 初级 | ... | ... | ... | ... |\"\"\"\n",
    "\n",
    "print(\"明确提示的回答:\")\n",
    "print(get_completion(PROMPT))"
   ]
  },
  {
   "cell_type": "code",
   "execution_count": 16,
   "metadata": {},
   "outputs": [
    {
     "name": "stdout",
     "output_type": "stream",
     "text": [
      "歧义提示的回答:\n",
      "机器学习是一种通过算法和统计模型使计算机系统能够从数据中自动学习和改进的技术。它是人工智能的一个分支，旨在让计算机系统在没有明确编程指令的情况下进行预测或决策。机器学习的核心思想是利用数据来训练模型，使其能够识别模式、进行分类、预测结果或生成新的数据。\n",
      "\n",
      "机器学习通常分为以下几类：\n",
      "\n",
      "1. **监督学习**：在监督学习中，模型从带有标签的数据中学习。标签是已知的输出或结果，模型通过学习输入数据与输出标签之间的关系来进行预测。常见的监督学习算法包括线性回归、逻辑回归、支持向量机和神经网络。\n",
      "\n",
      "2. **无监督学习**：无监督学习处理没有标签的数据，目标是发现数据中的结构或模式。常见的无监督学习算法包括聚类（如K均值聚类）和降维（如主成分分析）。\n",
      "\n",
      "3. **半监督学习**：半监督学习结合了监督学习和无监督学习，使用部分标记的数据来提高模型的性能。\n",
      "\n",
      "4. **强化学习**：强化学习通过与环境的交互来学习策略，以最大化某种奖励。模型通过试错来学习最佳行动策略，常用于机器人控制和游戏AI。\n",
      "\n",
      "5. **深度学习**：深度学习是机器学习的一个子领域，使用多层神经网络来处理复杂的数据。它在图像识别、自然语言处理和语音识别等领域取得了显著的成功。\n",
      "\n",
      "机器学习的应用非常广泛，包括推荐系统、图像识别、自然语言处理、金融预测、医疗诊断等。随着数据量的增加和计算能力的提升，机器学习在各个领域的影响力和应用范围不断扩大。\n",
      "\n",
      "==================================================\n",
      "\n",
      "明确提示的回答:\n",
      "1. 机器学习就像教电脑识别水果。比如，你给电脑看很多苹果和香蕉的图片，并告诉它哪个是苹果，哪个是香蕉。电脑通过这些例子学习如何区分它们。\n",
      "\n",
      "2. 机器学习有三种主要类型：监督学习、无监督学习和强化学习。监督学习就像老师给学生答案，然后让学生根据答案做题，比如分类邮件是垃圾邮件还是正常邮件。无监督学习则是让电脑自己找规律，比如根据顾客购买习惯分组。强化学习类似于训练宠物，通过奖励和惩罚让它学会做某件事，比如自动驾驶汽车学习如何在道路上行驶。\n",
      "\n",
      "3. 这些方法在日常生活中应用广泛，如推荐系统、图像识别和游戏AI等。通过不断学习，机器可以更好地完成任务。\n"
     ]
    }
   ],
   "source": [
    "# 示例3：概念解释任务\n",
    "# 容易产生歧义的提示\n",
    "PROMPT = \"解释一下机器学习\"\n",
    "print(\"歧义提示的回答:\")\n",
    "print(get_completion(PROMPT))\n",
    "print(\"\\n\" + \"=\"*50 + \"\\n\")\n",
    "\n",
    "# 明确的上下文和要求\n",
    "PROMPT = \"\"\"你是一名面向大学一年级计算机专业学生的讲师。用简单易懂的语言解释机器学习。\n",
    "\n",
    "要求：\n",
    "1. 用日常生活中的例子来说明概念\n",
    "2. 避免复杂的数学公式\n",
    "3. 重点说明机器学习的3个主要类型及其应用场景\n",
    "4. 控制在200字以内\n",
    "5. 用1-2-3的序号格式组织内容\"\"\"\n",
    "\n",
    "print(\"明确提示的回答:\")\n",
    "print(get_completion(PROMPT))"
   ]
  },
  {
   "cell_type": "code",
   "execution_count": 17,
   "metadata": {},
   "outputs": [
    {
     "name": "stdout",
     "output_type": "stream",
     "text": [
      "你的模糊提示:\n",
      "当然！请告诉我您想要编写什么样的程序，以及使用哪种编程语言。我会尽力帮助您。\n",
      "\n",
      "==================================================\n",
      "\n",
      "你的明确提示:\n",
      "下面是一个简单的Python程序，用于管理学生成绩。该程序包含一个`Student`类，并实现了添加学生、计算平均分、查找最高分学生的功能。学生数据存储在字典中，并包含了错误处理和详细的注释说明。\n",
      "\n",
      "```python\n",
      "class Student:\n",
      "    def __init__(self, name, student_id, score):\n",
      "        \"\"\"\n",
      "        初始化Student类的实例。\n",
      "\n",
      "        :param name: 学生姓名\n",
      "        :param student_id: 学生学号\n",
      "        :param score: 学生成绩\n",
      "        \"\"\"\n",
      "        self.name = name\n",
      "        self.student_id = student_id\n",
      "        self.score = score\n",
      "\n",
      "def add_student(students_dict, name, student_id, score):\n",
      "    \"\"\"\n",
      "    添加学生到字典中。\n",
      "\n",
      "    :param students_dict: 存储学生数据的字典\n",
      "    :param name: 学生姓名\n",
      "    :param student_id: 学生学号\n",
      "    :param score: 学生成绩\n",
      "    :return: None\n",
      "    \"\"\"\n",
      "    try:\n",
      "        if student_id in students_dict:\n",
      "            raise ValueError(\"学号已存在，请使用唯一的学号。\")\n",
      "        students_dict[student_id] = Student(name, student_id, score)\n",
      "    except ValueError as e:\n",
      "        print(f\"错误: {e}\")\n",
      "\n",
      "def calculate_average_score(students_dict):\n",
      "    \"\"\"\n",
      "    计算所有学生的平均分。\n",
      "\n",
      "    :param students_dict: 存储学生数据的字典\n",
      "    :return: 平均分\n",
      "    \"\"\"\n",
      "    try:\n",
      "        if not students_dict:\n",
      "            raise ValueError(\"学生列表为空，无法计算平均分。\")\n",
      "        total_score = sum(student.score for student in students_dict.values())\n",
      "        average_score = total_score / len(students_dict)\n",
      "        return average_score\n",
      "    except ValueError as e:\n",
      "        print(f\"错误: {e}\")\n",
      "        return None\n",
      "\n",
      "def find_highest_score_student(students_dict):\n",
      "    \"\"\"\n",
      "    查找成绩最高的学生。\n",
      "\n",
      "    :param students_dict: 存储学生数据的字典\n",
      "    :return: 成绩最高的学生对象\n",
      "    \"\"\"\n",
      "    try:\n",
      "        if not students_dict:\n",
      "            raise ValueError(\"学生列表为空，无法查找最高分学生。\")\n",
      "        highest_score_student = max(students_dict.values(), key=lambda student: student.score)\n",
      "        return highest_score_student\n",
      "    except ValueError as e:\n",
      "        print(f\"错误: {e}\")\n",
      "        return None\n",
      "\n",
      "def main():\n",
      "    # 存储学生数据的字典\n",
      "    students_dict = {}\n",
      "\n",
      "    # 添加学生\n",
      "    add_student(students_dict, \"Alice\", \"001\", 85)\n",
      "    add_student(students_dict, \"Bob\", \"002\", 90)\n",
      "    add_student(students_dict, \"Charlie\", \"003\", 78)\n",
      "\n",
      "    # 计算平均分\n",
      "    average_score = calculate_average_score(students_dict)\n",
      "    if average_score is not None:\n",
      "        print(f\"平均分: {average_score:.2f}\")\n",
      "\n",
      "    # 查找最高分学生\n",
      "    highest_score_student = find_highest_score_student(students_dict)\n",
      "    if highest_score_student is not None:\n",
      "        print(f\"最高分学生: {highest_score_student.name}, 学号: {highest_score_student.student_id}, 成绩: {highest_score_student.score}\")\n",
      "\n",
      "if __name__ == \"__main__\":\n",
      "    main()\n",
      "```\n",
      "\n",
      "### 说明：\n",
      "1. **Student类**: 包含`name`、`student_id`、`score`属性，用于存储学生信息。\n",
      "2. **add_student函数**: 用于向字典中添加学生，包含学号唯一性检查。\n",
      "3. **calculate_average_score函数**: 计算所有学生的平均分，处理空字典的情况。\n",
      "4. **find_highest_score_student函数**: 查找成绩最高的学生，处理空字典的情况。\n",
      "5. **main函数**: 演示如何使用上述功能，包括添加学生、计算平均分和查找最高分学生。\n"
     ]
    }
   ],
   "source": [
    "# 额外示例：你可以在这里尝试自己的提示\n",
    "# 尝试对比模糊提示和明确提示的效果\n",
    "\n",
    "# 你的模糊提示\n",
    "PROMPT_VAGUE = \"写个程序\"\n",
    "print(\"你的模糊提示:\")\n",
    "print(get_completion(PROMPT_VAGUE))\n",
    "print(\"\\n\" + \"=\"*50 + \"\\n\")\n",
    "\n",
    "# 你的明确提示  \n",
    "PROMPT_CLEAR = \"\"\"写一个Python程序来管理学生成绩。\n",
    "\n",
    "要求：\n",
    "1. 创建一个Student类，包含姓名、学号、成绩属性\n",
    "2. 实现添加学生、计算平均分、查找最高分学生的功能\n",
    "3. 用字典存储多个学生数据\n",
    "4. 包含完整的错误处理\n",
    "5. 添加详细的注释说明\"\"\"\n",
    "\n",
    "print(\"你的明确提示:\")\n",
    "print(get_completion(PROMPT_CLEAR))"
   ]
  }
 ],
 "metadata": {
  "kernelspec": {
   "display_name": "Python 3 (ipykernel)",
   "language": "python",
   "name": "python3"
  },
  "language_info": {
   "codemirror_mode": {
    "name": "ipython",
    "version": 3
   },
   "file_extension": ".py",
   "mimetype": "text/x-python",
   "name": "python",
   "nbconvert_exporter": "python",
   "pygments_lexer": "ipython3",
   "version": "3.13.3"
  }
 },
 "nbformat": 4,
 "nbformat_minor": 4
}
