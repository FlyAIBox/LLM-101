{
 "cells": [
  {
   "cell_type": "markdown",
   "metadata": {},
   "source": [
    "# 教程使用指南\n",
    "\n",
    "本教程**需要API密钥**进行交互。如果您没有API密钥，可以通过[OpenAI Platform](https://platform.openai.com/)注册获取。如果您想使用DeepSeek模型，也可以通过[DeepSeek Platform](https://platform.deepseek.com/)获取API密钥。"
   ]
  },
  {
   "cell_type": "markdown",
   "metadata": {},
   "source": [
    "## 如何开始\n",
    "\n",
    "1. 将此仓库克隆到本地机器。\n",
    "\n",
    "2. 通过运行以下命令安装所需的依赖项：\n",
    " "
   ]
  },
  {
   "cell_type": "code",
   "execution_count": null,
   "metadata": {},
   "outputs": [],
   "source": [
    "# 安装OpenAI Python SDK\n",
    "%pip install openai==1.61.0"
   ]
  },
  {
   "cell_type": "markdown",
   "metadata": {},
   "source": [
    "3. 设置您的API密钥和模型名称。将`\"your_api_key_here\"`替换为您实际的OpenAI API密钥。"
   ]
  },
  {
   "cell_type": "code",
   "execution_count": null,
   "metadata": {},
   "outputs": [],
   "source": [
    "# 设置API密钥和模型名称\n",
    "API_KEY = \"your_api_key_here\"  # 请替换为您的实际OpenAI API密钥\n",
    "MODEL_NAME = \"gpt-4o\"  # GPT-4o模型（推荐）或 \"deepseek-r1\"\n",
    "\n",
    "# 将API_KEY和MODEL_NAME变量存储在IPython存储中，以便在不同notebook中使用\n",
    "%store API_KEY\n",
    "%store MODEL_NAME"
   ]
  },
  {
   "cell_type": "markdown",
   "metadata": {},
   "source": [
    "4. 按顺序运行notebook单元格，遵循提供的说明。"
   ]
  },
  {
   "cell_type": "markdown",
   "metadata": {},
   "source": [
    "---\n",
    "\n",
    "## 使用说明和提示 💡\n",
    "\n",
    "- 本课程使用GPT-4o，温度设置为0。我们将在课程后面详细讨论温度参数。现在，只需理解这些设置能产生更确定性的结果。本课程中的所有提示工程技术也适用于其他OpenAI模型，如GPT-4o-mini，以及DeepSeek的deepseek-r1等模型。\n",
    "\n",
    "- 您可以使用`Shift + Enter`执行单元格并移动到下一个。\n",
    "\n",
    "- 当您到达教程页面底部时，导航到文件夹中的下一个编号文件，或者如果您已完成该章节文件内的内容，则转到下一个编号文件夹。\n",
    "\n",
    "### OpenAI SDK和Chat Completions API\n",
    "我们将在整个教程中使用[OpenAI Python SDK](https://platform.openai.com/docs/libraries)和[Chat Completions API](https://platform.openai.com/docs/api-reference/chat)。\n",
    "\n",
    "下面是本教程中运行提示的示例。首先，我们创建`get_completion`，这是一个辅助函数，用于向GPT发送提示并返回GPT生成的响应。现在运行该单元格。"
   ]
  },
  {
   "cell_type": "code",
   "execution_count": null,
   "metadata": {},
   "outputs": [],
   "source": [
    "# 导入OpenAI库\n",
    "import openai\n",
    "\n",
    "# 如果没有设置MODEL_NAME，使用默认值\n",
    "try:\n",
    "    MODEL_NAME\n",
    "except NameError:\n",
    "    MODEL_NAME = \"gpt-4o\"  # 默认使用gpt-4o模型\n",
    "\n",
    "# 创建OpenAI客户端实例\n",
    "client = openai.OpenAI(api_key=API_KEY)\n",
    "\n",
    "def get_completion(prompt: str):\n",
    "    \"\"\"\n",
    "    辅助函数：向GPT发送提示并获取回复\n",
    "    \n",
    "    参数:\n",
    "        prompt (str): 发送给GPT的提示文本\n",
    "    \n",
    "    返回:\n",
    "        str: GPT的回复文本\n",
    "    \"\"\"\n",
    "    # 构建消息列表\n",
    "    messages = [{\"role\": \"user\", \"content\": prompt}]\n",
    "    \n",
    "    # 调用OpenAI API\n",
    "    response = client.chat.completions.create(\n",
    "        model=MODEL_NAME,           # 使用的模型名称 (gpt-4o 或 deepseek-r1)\n",
    "        messages=messages,          # 消息列表\n",
    "        max_tokens=2000,           # 最大生成token数\n",
    "        temperature=0.0            # 温度参数，0表示更确定性的输出\n",
    "    )\n",
    "    return response.choices[0].message.content"
   ]
  },
  {
   "cell_type": "markdown",
   "metadata": {},
   "source": [
    "现在我们将为GPT编写一个示例提示，并通过运行我们的`get_completion`辅助函数来打印GPT的输出。运行下面的单元格将在其下方打印出GPT的响应。\n",
    "\n",
    "请随意修改提示字符串，以获得GPT的不同响应。"
   ]
  },
  {
   "cell_type": "code",
   "execution_count": null,
   "metadata": {},
   "outputs": [],
   "source": [
    "# 提示文本\n",
    "prompt = \"Hello, GPT!\"\n",
    "\n",
    "# 获取GPT的响应\n",
    "print(get_completion(prompt))"
   ]
  },
  {
   "cell_type": "markdown",
   "metadata": {},
   "source": [
    "之前定义的`API_KEY`和`MODEL_NAME`变量将在整个教程中使用。请确保从上到下运行每个教程页面的单元格。"
   ]
  }
 ],
 "metadata": {
  "kernelspec": {
   "display_name": "py310",
   "language": "python",
   "name": "python3"
  },
  "language_info": {
   "codemirror_mode": {
    "name": "ipython",
    "version": 3
   },
   "file_extension": ".py",
   "mimetype": "text/x-python",
   "name": "python",
   "nbconvert_exporter": "python",
   "pygments_lexer": "ipython3",
   "version": "3.10.14"
  }
 },
 "nbformat": 4,
 "nbformat_minor": 2
}
