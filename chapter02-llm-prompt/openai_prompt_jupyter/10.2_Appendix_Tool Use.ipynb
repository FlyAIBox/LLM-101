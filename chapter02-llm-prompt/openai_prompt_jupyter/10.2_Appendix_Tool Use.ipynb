{
 "cells": [
  {
   "cell_type": "markdown",
   "metadata": {},
   "source": [
    "# 附录 10.2: 工具使用\n",
    "\n",
    "- [课程](#lesson)\n",
    "- [练习](#exercises)\n",
    "- [示例练习场](#example-playground)\n",
    "\n",
    "## 设置\n",
    "\n",
    "运行以下设置单元格来加载您的 API 密钥并建立 `get_completion` 辅助函数。"
   ]
  },
  {
   "cell_type": "code",
   "execution_count": null,
   "metadata": {},
   "outputs": [],
   "source": [
    "# 安装 anthropic 库\n",
    "%pip install anthropic\n",
    "\n",
    "# 导入 Python 内置的正则表达式库\n",
    "import re\n",
    "import anthropic\n",
    "\n",
    "# 从 IPython 存储中检索 API_KEY 变量\n",
    "%store -r API_KEY\n",
    "\n",
    "# 初始化 Anthropic 客户端\n",
    "client = anthropic.Anthropic(api_key=API_KEY)\n",
    "\n",
    "# 重写以调用 Claude 3 Sonnet，它在工具使用方面通常表现更好，并包含停止序列\n",
    "def get_completion(messages, system_prompt=\"\", prefill=\"\", stop_sequences=None):\n",
    "    \"\"\"\n",
    "    获取 Claude 模型的完成响应\n",
    "    \n",
    "    参数:\n",
    "    - messages: 消息列表\n",
    "    - system_prompt: 系统提示词\n",
    "    - prefill: 预填充内容\n",
    "    - stop_sequences: 停止序列列表\n",
    "    \n",
    "    返回:\n",
    "    - 模型生成的文本响应\n",
    "    \"\"\"\n",
    "    message = client.messages.create(\n",
    "        model=\"claude-3-sonnet-20240229\",  # 使用 Claude 3 Sonnet 模型\n",
    "        max_tokens=2000,                   # 最大令牌数\n",
    "        temperature=0.0,                   # 温度设置为0，确保确定性输出\n",
    "        system=system_prompt,              # 系统提示词\n",
    "        messages=messages,                 # 对话消息列表\n",
    "        stop_sequences=stop_sequences      # 停止序列\n",
    "    )\n",
    "    return message.content[0].text"
   ]
  },
  {
   "cell_type": "markdown",
   "metadata": {},
   "source": [
    "---\n",
    "\n",
    "## 课程\n",
    "\n",
    "虽然乍一看可能在概念上比较复杂，但工具使用（也叫函数调用）实际上非常简单！您已经掌握了实现工具使用所需的所有技能，它实际上只是替换和提示链的组合。\n",
    "\n",
    "在之前的替换练习中，我们将文本替换到提示中。而在工具使用中，我们将工具或函数的结果替换到提示中。Claude 不能直接调用或访问工具和函数。相反，我们让 Claude：\n",
    "1. 输出它想要调用的工具名称和参数\n",
    "2. 在调用工具时暂停任何进一步的响应生成\n",
    "3. 然后我们用附加的工具结果重新提示"
   ]
  },
  {
   "cell_type": "markdown",
   "metadata": {},
   "source": [
    "函数调用很有用，因为它扩展了 Claude 的能力，使 Claude 能够处理更复杂的多步骤任务。\n",
    "您可以给 Claude 的一些函数示例：\n",
    "- 计算器\n",
    "- 单词计数器\n",
    "- SQL 数据库查询和数据检索\n",
    "- 天气 API"
   ]
  },
  {
   "cell_type": "markdown",
   "metadata": {},
   "source": [
    "您可以通过结合以下两个元素让 Claude 进行工具使用：\n",
    "\n",
    "1. 系统提示词，在其中我们向 Claude 解释工具使用的概念，以及它可以访问的工具的详细描述列表\n",
    "2. 控制逻辑，用于编排和执行 Claude 的工具使用请求"
   ]
  },
  {
   "cell_type": "markdown",
   "metadata": {},
   "source": [
    "### 工具使用路线图\n",
    "\n",
    "*本课程教授我们当前的工具使用格式。但是，我们将在不久的将来更新和改进工具使用功能，包括：*\n",
    "* *更简化的函数定义和调用格式*\n",
    "* *更强健的错误处理和边缘情况覆盖*\n",
    "* *与我们 API 其余部分的更紧密集成*\n",
    "* *更好的可靠性和性能，特别是对于更复杂的工具使用任务*"
   ]
  },
  {
   "cell_type": "markdown",
   "metadata": {},
   "source": [
    "### 示例\n",
    "\n",
    "要在 Claude 中启用工具使用，我们从系统提示词开始。在这个特殊的工具使用系统提示词中，我们告诉 Claude：\n",
    "* 工具使用的基本前提和它所涉及的内容\n",
    "* Claude 如何调用和使用给定的工具\n",
    "* 在这个特定场景中它可以访问的工具的详细列表\n",
    "\n",
    "这是系统提示词的第一部分，向 Claude 解释工具使用。系统提示词的这一部分在所有 Claude 工具使用的实例中都是通用的。我们给 Claude 的工具调用结构（`<function_calls> [...] </function_calls>`）是 Claude 专门训练使用的结构，所以我们建议您坚持使用这个结构。"
   ]
  },
  {
   "cell_type": "code",
   "execution_count": null,
   "metadata": {},
   "outputs": [],
   "source": [
    "system_prompt_tools_general_explanation = \"\"\"You have access to a set of functions you can use to answer the user's question. This includes access to a\n",
    "sandboxed computing environment. You do NOT currently have the ability to inspect files or interact with external\n",
    "resources, except by invoking the below functions.\n",
    "\n",
    "You can invoke one or more functions by writing a \"<function_calls>\" block like the following as part of your\n",
    "reply to the user:\n",
    "<function_calls>\n",
    "<invoke name=\"$FUNCTION_NAME\">\n",
    "<antml:parameter name=\"$PARAMETER_NAME\">$PARAMETER_VALUE</parameter>\n",
    "...\n",
    "</invoke>\n",
    "<nvoke name=\"$FUNCTION_NAME2\">\n",
    "...\n",
    "</invoke>\n",
    "</function_calls>\n",
    "\n",
    "String and scalar parameters should be specified as is, while lists and objects should use JSON format. Note that\n",
    "spaces for string values are not stripped. The output is not expected to be valid XML and is parsed with regular\n",
    "expressions.\n",
    "\n",
    "The output and/or any errors will appear in a subsequent \"<function_results>\" block, and remain there as part of\n",
    "your reply to the user.\n",
    "You may then continue composing the rest of your reply to the user, respond to any errors, or make further function\n",
    "calls as appropriate.\n",
    "If a \"<function_results>\" does NOT appear after your function calls, then they are likely malformatted and not\n",
    "recognized as a call.\"\"\""
   ]
  },
  {
   "cell_type": "markdown",
   "metadata": {},
   "source": [
    "这是系统提示词的第二部分，它定义了 Claude 在这个特定情况下可以访问的确切工具。在这个示例中，我们将给 Claude 一个计算器工具，它需要三个参数：两个操作数和一个运算符。\n",
    "\n",
    "然后我们将系统提示词的两个部分组合起来。"
   ]
  },
  {
   "cell_type": "code",
   "execution_count": null,
   "metadata": {},
   "outputs": [],
   "source": [
    "# 系统提示词的特定工具部分 - 定义计算器工具\n",
    "system_prompt_tools_specific_tools = \"\"\"以下是 JSONSchema 格式的可用函数：\n",
    "<tools>\n",
    "<tool_description>\n",
    "<tool_name>calculator</tool_name>\n",
    "<description>\n",
    "用于进行基本算术运算的计算器函数。\n",
    "支持加法、减法、乘法和除法\n",
    "</description>\n",
    "<parameters>\n",
    "<parameter>\n",
    "<name>first_operand</name>\n",
    "<type>int</type>\n",
    "<description>第一个操作数（运算符之前）</description>\n",
    "</parameter>\n",
    "<parameter>\n",
    "<name>second_operand</name>\n",
    "<type>int</type>\n",
    "<description>第二个操作数（运算符之后）</description>\n",
    "</parameter>\n",
    "<parameter>\n",
    "<name>operator</name>\n",
    "<type>str</type>\n",
    "<description>要执行的运算。必须是 +、-、* 或 / 中的一个</description>\n",
    "</parameter>\n",
    "</parameters>\n",
    "</tool_description>\n",
    "</tools>\n",
    "\"\"\"\n",
    "\n",
    "# 组合通用说明和特定工具定义\n",
    "system_prompt = system_prompt_tools_general_explanation + system_prompt_tools_specific_tools"
   ]
  },
  {
   "cell_type": "markdown",
   "metadata": {},
   "source": [
    "现在我们可以给 Claude 一个需要使用 `calculator` 工具的问题。我们将在 `stop_sequences` 中使用 `<function_calls\\>` 来检测 Claude 是否以及何时调用函数。"
   ]
  },
  {
   "cell_type": "code",
   "execution_count": null,
   "metadata": {},
   "outputs": [],
   "source": [
    "# 创建一个需要乘法运算的用户消息\n",
    "multiplication_message = {\n",
    "    \"role\": \"user\",\n",
    "    \"content\": \"计算 1,984,135 乘以 9,343,116\"\n",
    "}\n",
    "\n",
    "# 设置停止序列来检测函数调用的结束\n",
    "stop_sequences = [\"</function_calls>\"]\n",
    "\n",
    "# 获取 Claude 的响应\n",
    "function_calling_response = get_completion([multiplication_message], system_prompt=system_prompt, stop_sequences=stop_sequences)\n",
    "print(function_calling_response)"
   ]
  },
  {
   "cell_type": "markdown",
   "metadata": {},
   "source": [
    "现在，我们可以从 Claude 的函数调用中提取参数，并代表 Claude 实际运行函数。\n",
    "\n",
    "首先我们定义函数的代码。"
   ]
  },
  {
   "cell_type": "code",
   "execution_count": null,
   "metadata": {},
   "outputs": [],
   "source": [
    "def do_pairwise_arithmetic(num1, num2, operation):\n",
    "    \"\"\"\n",
    "    执行两个数字之间的基本算术运算\n",
    "    \n",
    "    参数:\n",
    "    - num1: 第一个操作数\n",
    "    - num2: 第二个操作数  \n",
    "    - operation: 运算符 (+, -, *, /)\n",
    "    \n",
    "    返回:\n",
    "    - 运算结果或错误信息\n",
    "    \"\"\"\n",
    "    if operation == '+':\n",
    "        return num1 + num2      # 加法\n",
    "    elif operation == \"-\":\n",
    "        return num1 - num2      # 减法\n",
    "    elif operation == \"*\":\n",
    "        return num1 * num2      # 乘法\n",
    "    elif operation == \"/\":\n",
    "        return num1 / num2      # 除法\n",
    "    else:\n",
    "        return \"错误：不支持的运算。\""
   ]
  },
  {
   "cell_type": "markdown",
   "metadata": {},
   "source": [
    "然后我们从 Claude 的函数调用响应中提取参数。如果所有参数都存在，我们就运行计算器工具。"
   ]
  },
  {
   "cell_type": "code",
   "execution_count": null,
   "metadata": {},
   "outputs": [],
   "source": [
    "def find_parameter(message, parameter_name):\n",
    "    \"\"\"\n",
    "    从 Claude 的响应消息中提取指定的参数值\n",
    "    \n",
    "    参数:\n",
    "    - message: Claude 的响应消息\n",
    "    - parameter_name: 要查找的参数名称\n",
    "    \n",
    "    返回:\n",
    "    - 参数值或 None（如果未找到）\n",
    "    \"\"\"\n",
    "    parameter_start_string = f\"name=\\\"{parameter_name}\\\">\"\n",
    "    start = message.index(parameter_start_string)\n",
    "    if start == -1:\n",
    "        return None\n",
    "    if start > 0:\n",
    "        start = start + len(parameter_start_string)\n",
    "        end = start\n",
    "        while message[end] != \"<\":\n",
    "            end += 1\n",
    "    return message[start:end]\n",
    "\n",
    "# 从 Claude 的响应中提取函数参数\n",
    "first_operand = find_parameter(function_calling_response, \"first_operand\")\n",
    "second_operand = find_parameter(function_calling_response, \"second_operand\")\n",
    "operator = find_parameter(function_calling_response, \"operator\")\n",
    "\n",
    "# 如果所有参数都存在，执行计算\n",
    "if first_operand and second_operand and operator:\n",
    "    result = do_pairwise_arithmetic(int(first_operand), int(second_operand), operator)\n",
    "    print(\"---------------- 结果 ----------------\")\n",
    "    print(f\"{result:,}\")"
   ]
  },
  {
   "cell_type": "markdown",
   "metadata": {},
   "source": [
    "现在我们有了结果，我们必须正确格式化该结果，以便当我们将其传回给 Claude 时，Claude 能够理解该结果与哪个工具相关。Claude 已经被训练识别以下固定格式：\n",
    "```\n",
    "<function_results>\n",
    "<result>\n",
    "<tool_name>{TOOL_NAME}</tool_name>\n",
    "<stdout>\n",
    "{TOOL_RESULT}\n",
    "</stdout>\n",
    "</result>\n",
    "</function_results>\n",
    "```\n",
    "\n",
    "运行下面的单元格将上述工具结果格式化为这种结构。"
   ]
  },
  {
   "cell_type": "code",
   "execution_count": null,
   "metadata": {},
   "outputs": [],
   "source": [
    "def construct_successful_function_run_injection_prompt(invoke_results):\n",
    "    \"\"\"\n",
    "    构造成功的函数运行结果注入提示\n",
    "    \n",
    "    参数:\n",
    "    - invoke_results: 包含工具名称和结果的字典列表\n",
    "    \n",
    "    返回:\n",
    "    - 格式化的函数结果字符串\n",
    "    \"\"\"\n",
    "    constructed_prompt = (\n",
    "        \"<function_results>\\n\"\n",
    "        + '\\n'.join(\n",
    "            f\"<result>\\n<tool_name>{res['tool_name']}</tool_name>\\n<stdout>\\n{res['tool_result']}\\n</stdout>\\n</result>\"\n",
    "            for res in invoke_results\n",
    "        ) + \"\\n</function_results>\"\n",
    "    )\n",
    "\n",
    "    return constructed_prompt\n",
    "\n",
    "# 格式化工具结果\n",
    "formatted_results = [{\n",
    "    'tool_name': 'do_pairwise_arithmetic',  # 工具名称\n",
    "    'tool_result': result                   # 工具执行结果\n",
    "}]\n",
    "function_results = construct_successful_function_run_injection_prompt(formatted_results)\n",
    "print(function_results)"
   ]
  },
  {
   "cell_type": "markdown",
   "metadata": {},
   "source": [
    "现在我们要做的就是通过将结果附加到之前相同的消息链中，将这个结果发送回 Claude，就完成了！"
   ]
  },
  {
   "cell_type": "code",
   "execution_count": null,
   "metadata": {},
   "outputs": [],
   "source": [
    "# 完整的第一次响应（添加结束标签）\n",
    "full_first_response = function_calling_response + \"</function_calls>\"\n",
    "\n",
    "# 构造完整的对话\n",
    "messages = [multiplication_message,\n",
    "{\n",
    "    \"role\": \"assistant\",           # Claude 的响应\n",
    "    \"content\": full_first_response\n",
    "},\n",
    "{\n",
    "    \"role\": \"user\",               # 用户提供的函数结果\n",
    "    \"content\": function_results\n",
    "}]\n",
    "   \n",
    "# 打印 Claude 的最终响应\n",
    "final_response = get_completion(messages, system_prompt=system_prompt, stop_sequences=stop_sequences)\n",
    "print(\"------------- 最终结果 -------------\")\n",
    "print(final_response)"
   ]
  },
  {
   "cell_type": "markdown",
   "metadata": {},
   "source": [
    "恭喜您端到端地运行了完整的工具使用链！\n",
    "\n",
    "那么如果我们给 Claude 一个根本不需要使用给定工具的问题会怎样呢？"
   ]
  },
  {
   "cell_type": "code",
   "execution_count": null,
   "metadata": {},
   "outputs": [],
   "source": [
    "# 创建一个不需要计算的问题\n",
    "non_multiplication_message = {\n",
    "    \"role\": \"user\",\n",
    "    \"content\": \"告诉我法国的首都是什么。\"\n",
    "}\n",
    "\n",
    "stop_sequences = [\"</function_calls>\"]\n",
    "\n",
    "# 获取 Claude 的响应\n",
    "function_calling_response = get_completion([non_multiplication_message], system_prompt=system_prompt, stop_sequences=stop_sequences)\n",
    "print(function_calling_response)"
   ]
  },
  {
   "cell_type": "markdown",
   "metadata": {},
   "source": [
    "成功！如您所见，Claude 知道在不需要时不调用函数。\n",
    "\n",
    "如果您想在不更改上述任何内容的情况下试验课程提示，请滚动到课程笔记本的最底部访问 [**示例练习场**](#example-playground)。"
   ]
  },
  {
   "cell_type": "markdown",
   "metadata": {},
   "source": [
    "---\n",
    "\n",
    "## 练习\n",
    "- [练习 10.2.1 - SQL](#exercise-1021---SQL)"
   ]
  },
  {
   "cell_type": "markdown",
   "metadata": {},
   "source": [
    "### 练习 10.2.1 - SQL\n",
    "在这个练习中，您将编写一个工具使用提示，用于查询和写入世界上最小的\"数据库\"。这是初始化的数据库，实际上只是一个字典。"
   ]
  },
  {
   "cell_type": "code",
   "execution_count": null,
   "metadata": {},
   "outputs": [],
   "source": [
    "# 初始化一个简单的\"数据库\"（实际上是一个字典）\n",
    "db = {\n",
    "    \"users\": [                                                    # 用户表\n",
    "        {\"id\": 1, \"name\": \"Alice\", \"email\": \"alice@example.com\"},\n",
    "        {\"id\": 2, \"name\": \"Bob\", \"email\": \"bob@example.com\"},\n",
    "        {\"id\": 3, \"name\": \"Charlie\", \"email\": \"charlie@example.com\"}\n",
    "    ],\n",
    "    \"products\": [                                                 # 产品表\n",
    "        {\"id\": 1, \"name\": \"Widget\", \"price\": 9.99},\n",
    "        {\"id\": 2, \"name\": \"Gadget\", \"price\": 14.99},\n",
    "        {\"id\": 3, \"name\": \"Doohickey\", \"price\": 19.99}\n",
    "    ]\n",
    "}"
   ]
  },
  {
   "cell_type": "markdown",
   "metadata": {},
   "source": [
    "以下是读取和写入数据库的函数代码。"
   ]
  },
  {
   "cell_type": "code",
   "execution_count": null,
   "metadata": {},
   "outputs": [],
   "source": [
    "def get_user(user_id):\n",
    "    \"\"\"\n",
    "    根据用户ID获取用户信息\n",
    "    \n",
    "    参数:\n",
    "    - user_id: 用户ID\n",
    "    \n",
    "    返回:\n",
    "    - 用户字典或None（如果未找到）\n",
    "    \"\"\"\n",
    "    for user in db[\"users\"]:\n",
    "        if user[\"id\"] == user_id:\n",
    "            return user\n",
    "    return None\n",
    "\n",
    "def get_product(product_id):\n",
    "    \"\"\"\n",
    "    根据产品ID获取产品信息\n",
    "    \n",
    "    参数:\n",
    "    - product_id: 产品ID\n",
    "    \n",
    "    返回:\n",
    "    - 产品字典或None（如果未找到）\n",
    "    \"\"\"\n",
    "    for product in db[\"products\"]:\n",
    "        if product[\"id\"] == product_id:\n",
    "            return product\n",
    "    return None\n",
    "\n",
    "def add_user(name, email):\n",
    "    \"\"\"\n",
    "    向数据库添加新用户\n",
    "    \n",
    "    参数:\n",
    "    - name: 用户姓名\n",
    "    - email: 用户邮箱\n",
    "    \n",
    "    返回:\n",
    "    - 新创建的用户字典\n",
    "    \"\"\"\n",
    "    user_id = len(db[\"users\"]) + 1              # 生成新的用户ID\n",
    "    user = {\"id\": user_id, \"name\": name, \"email\": email}\n",
    "    db[\"users\"].append(user)                    # 添加到用户列表\n",
    "    return user\n",
    "\n",
    "def add_product(name, price):\n",
    "    \"\"\"\n",
    "    向数据库添加新产品\n",
    "    \n",
    "    参数:\n",
    "    - name: 产品名称\n",
    "    - price: 产品价格\n",
    "    \n",
    "    返回:\n",
    "    - 新创建的产品字典\n",
    "    \"\"\"\n",
    "    product_id = len(db[\"products\"]) + 1        # 生成新的产品ID\n",
    "    product = {\"id\": product_id, \"name\": name, \"price\": price}\n",
    "    db[\"products\"].append(product)              # 添加到产品列表\n",
    "    return product"
   ]
  },
  {
   "cell_type": "markdown",
   "metadata": {},
   "source": [
    "要解决这个练习，首先定义一个类似于上面 `system_prompt_tools_specific_tools` 的系统提示。确保包含每个工具的名称和描述，以及每个函数的每个参数的名称、类型和描述。我们在下面给您提供了一些起始框架。"
   ]
  },
  {
   "cell_type": "code",
   "execution_count": null,
   "metadata": {},
   "outputs": [],
   "source": [
    "# 练习：为 SQL 数据库操作定义工具提示\n",
    "system_prompt_tools_specific_tools_sql = \"\"\"\n",
    "# 在这里定义您的SQL工具...\n",
    "# 提示：需要定义 get_user, get_product, add_user, add_product 四个工具\n",
    "\"\"\"\n",
    "\n",
    "# 组合通用说明和SQL特定工具定义\n",
    "system_prompt = system_prompt_tools_general_explanation + system_prompt_tools_specific_tools_sql"
   ]
  },
  {
   "cell_type": "markdown",
   "metadata": {},
   "source": [
    "准备好后，您可以在下面的示例上测试您的工具定义系统提示。只需运行下面的单元格！"
   ]
  },
  {
   "cell_type": "code",
   "execution_count": null,
   "metadata": {},
   "outputs": [],
   "source": [
    "# 测试示例\n",
    "examples = [\n",
    "    \"向数据库添加一个名为 Deborah 的用户。\",\n",
    "    \"向数据库添加一个名为 Thingo 的产品\",\n",
    "    \"告诉我用户2的姓名\",\n",
    "    \"告诉我产品3的名称\"\n",
    "]\n",
    "\n",
    "# 遍历每个示例进行测试\n",
    "for example in examples:\n",
    "    message = {\n",
    "        \"role\": \"user\",\n",
    "        \"content\": example\n",
    "    }\n",
    "\n",
    "    # 获取并打印 Claude 的响应\n",
    "    function_calling_response = get_completion([message], system_prompt=system_prompt, stop_sequences=stop_sequences)\n",
    "    print(example, \"\\n----------\\n\\n\", function_calling_response, \"\\n*********\\n*********\\n*********\\n\\n\")"
   ]
  },
  {
   "cell_type": "markdown",
   "metadata": {},
   "source": [
    "如果您做对了，函数调用消息应该正确调用 `add_user`、`add_product`、`get_user` 和 `get_product` 函数。\n",
    "\n",
    "作为额外练习，添加一些代码单元格并编写参数解析代码。然后使用 Claude 给您的参数调用函数，以查看调用后\"数据库\"的状态。"
   ]
  },
  {
   "cell_type": "markdown",
   "metadata": {},
   "source": [
    "❓ 如果您想查看可能的解决方案，请运行下面的单元格！"
   ]
  },
  {
   "cell_type": "code",
   "execution_count": null,
   "metadata": {},
   "outputs": [],
   "source": [
    "# 运行此单元格查看练习解决方案\n",
    "from hints import exercise_10_2_1_solution; print(exercise_10_2_1_solution)"
   ]
  },
  {
   "cell_type": "markdown",
   "metadata": {},
   "source": [
    "### 恭喜！\n",
    "\n",
    "恭喜您学会了工具使用和函数调用！如果您想了解更多关于搜索和 RAG 的内容，请前往最后的附录部分。"
   ]
  },
  {
   "cell_type": "markdown",
   "metadata": {},
   "source": [
    "---\n",
    "\n",
    "## 示例练习场\n",
    "\n",
    "这是一个供您自由试验本课程中显示的提示示例的区域，您可以调整提示来看看这可能如何影响 Claude 的响应。"
   ]
  },
  {
   "cell_type": "code",
   "execution_count": null,
   "metadata": {},
   "outputs": [],
   "source": [
    "system_prompt_tools_general_explanation = \"\"\"You have access to a set of functions you can use to answer the user's question. This includes access to a\n",
    "sandboxed computing environment. You do NOT currently have the ability to inspect files or interact with external\n",
    "resources, except by invoking the below functions.\n",
    "\n",
    "You can invoke one or more functions by writing a \"<function_calls>\" block like the following as part of your\n",
    "reply to the user:\n",
    "<function_calls>\n",
    "<invoke name=\"$FUNCTION_NAME\">\n",
    "<antml:parameter name=\"$PARAMETER_NAME\">$PARAMETER_VALUE</parameter>\n",
    "...\n",
    "</invoke>\n",
    "<nvoke name=\"$FUNCTION_NAME2\">\n",
    "...\n",
    "</invoke>\n",
    "</function_calls>\n",
    "\n",
    "String and scalar parameters should be specified as is, while lists and objects should use JSON format. Note that\n",
    "spaces for string values are not stripped. The output is not expected to be valid XML and is parsed with regular\n",
    "expressions.\n",
    "\n",
    "The output and/or any errors will appear in a subsequent \"<function_results>\" block, and remain there as part of\n",
    "your reply to the user.\n",
    "You may then continue composing the rest of your reply to the user, respond to any errors, or make further function\n",
    "calls as appropriate.\n",
    "If a \"<function_results>\" does NOT appear after your function calls, then they are likely malformatted and not\n",
    "recognized as a call.\"\"\""
   ]
  },
  {
   "cell_type": "code",
   "execution_count": null,
   "metadata": {},
   "outputs": [],
   "source": [
    "# 系统提示词的特定工具部分 - 定义计算器工具（示例练习场版本）\n",
    "system_prompt_tools_specific_tools = \"\"\"以下是 JSONSchema 格式的可用函数：\n",
    "<tools>\n",
    "<tool_description>\n",
    "<tool_name>calculator</tool_name>\n",
    "<description>\n",
    "用于进行基本算术运算的计算器函数。\n",
    "支持加法、减法、乘法和除法\n",
    "</description>\n",
    "<parameters>\n",
    "<parameter>\n",
    "<name>first_operand</name>\n",
    "<type>int</type>\n",
    "<description>第一个操作数（运算符之前）</description>\n",
    "</parameter>\n",
    "<parameter>\n",
    "<name>second_operand</name>\n",
    "<type>int</type>\n",
    "<description>第二个操作数（运算符之后）</description>\n",
    "</parameter>\n",
    "<parameter>\n",
    "<name>operator</name>\n",
    "<type>str</type>\n",
    "<description>要执行的运算。必须是 +、-、* 或 / 中的一个</description>\n",
    "</parameter>\n",
    "</parameters>\n",
    "</tool_description>\n",
    "</tools>\n",
    "\"\"\"\n",
    "\n",
    "# 组合通用说明和特定工具定义（示例练习场版本）\n",
    "system_prompt = system_prompt_tools_general_explanation + system_prompt_tools_specific_tools"
   ]
  },
  {
   "cell_type": "code",
   "execution_count": null,
   "metadata": {},
   "outputs": [],
   "source": [
    "# 创建一个需要乘法运算的用户消息（示例练习场版本）\n",
    "multiplication_message = {\n",
    "    \"role\": \"user\",\n",
    "    \"content\": \"计算 1,984,135 乘以 9,343,116\"\n",
    "}\n",
    "\n",
    "# 设置停止序列来检测函数调用的结束\n",
    "stop_sequences = [\"</function_calls>\"]\n",
    "\n",
    "# 获取 Claude 的响应\n",
    "function_calling_response = get_completion([multiplication_message], system_prompt=system_prompt, stop_sequences=stop_sequences)\n",
    "print(function_calling_response)"
   ]
  },
  {
   "cell_type": "code",
   "execution_count": null,
   "metadata": {},
   "outputs": [],
   "source": [
    "def do_pairwise_arithmetic(num1, num2, operation):\n",
    "    \"\"\"\n",
    "    执行两个数字之间的基本算术运算（示例练习场版本）\n",
    "    \n",
    "    参数:\n",
    "    - num1: 第一个操作数\n",
    "    - num2: 第二个操作数  \n",
    "    - operation: 运算符 (+, -, *, /)\n",
    "    \n",
    "    返回:\n",
    "    - 运算结果或错误信息\n",
    "    \"\"\"\n",
    "    if operation == '+':\n",
    "        return num1 + num2      # 加法\n",
    "    elif operation == \"-\":\n",
    "        return num1 - num2      # 减法\n",
    "    elif operation == \"*\":\n",
    "        return num1 * num2      # 乘法\n",
    "    elif operation == \"/\":\n",
    "        return num1 / num2      # 除法\n",
    "    else:\n",
    "        return \"错误：不支持的运算。\""
   ]
  },
  {
   "cell_type": "code",
   "execution_count": null,
   "metadata": {},
   "outputs": [],
   "source": [
    "def find_parameter(message, parameter_name):\n",
    "    \"\"\"\n",
    "    从 Claude 的响应消息中提取指定的参数值（示例练习场版本）\n",
    "    \n",
    "    参数:\n",
    "    - message: Claude 的响应消息\n",
    "    - parameter_name: 要查找的参数名称\n",
    "    \n",
    "    返回:\n",
    "    - 参数值或 None（如果未找到）\n",
    "    \"\"\"\n",
    "    parameter_start_string = f\"name=\\\"{parameter_name}\\\">\"\n",
    "    start = message.index(parameter_start_string)\n",
    "    if start == -1:\n",
    "        return None\n",
    "    if start > 0:\n",
    "        start = start + len(parameter_start_string)\n",
    "        end = start\n",
    "        while message[end] != \"<\":\n",
    "            end += 1\n",
    "    return message[start:end]\n",
    "\n",
    "# 从 Claude 的响应中提取函数参数\n",
    "first_operand = find_parameter(function_calling_response, \"first_operand\")\n",
    "second_operand = find_parameter(function_calling_response, \"second_operand\")\n",
    "operator = find_parameter(function_calling_response, \"operator\")\n",
    "\n",
    "# 如果所有参数都存在，执行计算\n",
    "if first_operand and second_operand and operator:\n",
    "    result = do_pairwise_arithmetic(int(first_operand), int(second_operand), operator)\n",
    "    print(\"---------------- 结果 ----------------\")\n",
    "    print(f\"{result:,}\")"
   ]
  },
  {
   "cell_type": "code",
   "execution_count": null,
   "metadata": {},
   "outputs": [],
   "source": [
    "def construct_successful_function_run_injection_prompt(invoke_results):\n",
    "    \"\"\"\n",
    "    构造成功的函数运行结果注入提示（示例练习场版本）\n",
    "    \n",
    "    参数:\n",
    "    - invoke_results: 包含工具名称和结果的字典列表\n",
    "    \n",
    "    返回:\n",
    "    - 格式化的函数结果字符串\n",
    "    \"\"\"\n",
    "    constructed_prompt = (\n",
    "        \"<function_results>\\n\"\n",
    "        + '\\n'.join(\n",
    "            f\"<result>\\n<tool_name>{res['tool_name']}</tool_name>\\n<stdout>\\n{res['tool_result']}\\n</stdout>\\n</result>\"\n",
    "            for res in invoke_results\n",
    "        ) + \"\\n</function_results>\"\n",
    "    )\n",
    "\n",
    "    return constructed_prompt\n",
    "\n",
    "# 格式化工具结果\n",
    "formatted_results = [{\n",
    "    'tool_name': 'do_pairwise_arithmetic',  # 工具名称\n",
    "    'tool_result': result                   # 工具执行结果\n",
    "}]\n",
    "function_results = construct_successful_function_run_injection_prompt(formatted_results)\n",
    "print(function_results)"
   ]
  },
  {
   "cell_type": "code",
   "execution_count": null,
   "metadata": {},
   "outputs": [],
   "source": [
    "# 完整的第一次响应（添加结束标签）\n",
    "full_first_response = function_calling_response + \"</function_calls>\"\n",
    "\n",
    "# 构造完整的对话\n",
    "messages = [multiplication_message,\n",
    "{\n",
    "    \"role\": \"assistant\",           # Claude 的响应\n",
    "    \"content\": full_first_response\n",
    "},\n",
    "{\n",
    "    \"role\": \"user\",               # 用户提供的函数结果\n",
    "    \"content\": function_results\n",
    "}]\n",
    "   \n",
    "# 打印 Claude 的最终响应\n",
    "final_response = get_completion(messages, system_prompt=system_prompt, stop_sequences=stop_sequences)\n",
    "print(\"------------- 最终结果 -------------\")\n",
    "print(final_response)"
   ]
  },
  {
   "cell_type": "code",
   "execution_count": null,
   "metadata": {},
   "outputs": [],
   "source": [
    "# 创建一个不需要计算的问题（示例练习场版本）\n",
    "non_multiplication_message = {\n",
    "    \"role\": \"user\",\n",
    "    \"content\": \"告诉我法国的首都是什么。\"\n",
    "}\n",
    "\n",
    "stop_sequences = [\"</function_calls>\"]\n",
    "\n",
    "# 获取 Claude 的响应\n",
    "function_calling_response = get_completion([non_multiplication_message], system_prompt=system_prompt, stop_sequences=stop_sequences)\n",
    "print(function_calling_response)"
   ]
  }
 ],
 "metadata": {
  "language_info": {
   "name": "python"
  }
 },
 "nbformat": 4,
 "nbformat_minor": 2
}
