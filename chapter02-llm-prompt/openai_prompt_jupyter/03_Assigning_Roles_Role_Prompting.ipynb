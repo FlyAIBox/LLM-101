{
 "cells": [
  {
   "cell_type": "markdown",
   "metadata": {},
   "source": [
    "# 第三章：分配角色（角色提示工程）\n",
    "\n",
    "- [课程](#lesson)\n",
    "- [练习](#exercises)\n",
    "- [示例演练场](#example-playground)\n",
    "\n",
    "## 设置\n",
    "\n",
    "运行以下设置单元格来加载您的API密钥并建立`get_completion`辅助函数。"
   ]
  },
  {
   "cell_type": "code",
   "execution_count": null,
   "metadata": {},
   "outputs": [],
   "source": [
    "# 安装OpenAI库\n",
    "%pip install openai==1.61.0\n",
    "\n",
    "# 导入Python内置的正则表达式库\n",
    "import re\n",
    "import openai\n",
    "import os\n",
    "\n",
    "# 优先从环境变量读取API配置，如果没有则从IPython存储中检索\n",
    "API_KEY = os.getenv('OPENAI_API_KEY')\n",
    "BASE_URL = os.getenv('OPENAI_BASE_URL', 'https://api.openai.com/v1')\n",
    "MODEL_NAME = os.getenv('OPENAI_MODEL_NAME', 'gpt-4o')\n",
    "\n",
    "# 如果环境变量中没有API_KEY，尝试从IPython存储中获取\n",
    "if not API_KEY:\n",
    "    try:\n",
    "        %store -r API_KEY\n",
    "        %store -r MODEL_NAME\n",
    "    except:\n",
    "        pass\n",
    "\n",
    "# 如果没有设置MODEL_NAME，使用默认值\n",
    "if 'MODEL_NAME' not in locals() or not MODEL_NAME:\n",
    "    MODEL_NAME = \"gpt-4o\"  # 默认使用gpt-4o模型\n",
    "\n",
    "# 创建OpenAI客户端实例\n",
    "# 这是与GPT AI模型交互的核心接口\n",
    "client = openai.OpenAI(\n",
    "    api_key=API_KEY,\n",
    "    base_url=BASE_URL\n",
    ")\n",
    "\n",
    "def get_completion(prompt: str, system_prompt=\"\"):\n",
    "    \"\"\"\n",
    "    获取GPT的完成响应\n",
    "    \n",
    "    参数:\n",
    "        prompt (str): 用户提示内容\n",
    "        system_prompt (str): 系统提示（可选），用于设定AI的角色和行为准则\n",
    "    \n",
    "    返回:\n",
    "        str: GPT的响应文本\n",
    "    \"\"\"\n",
    "    # 构建消息列表\n",
    "    messages = []\n",
    "    \n",
    "    # 如果有系统提示，添加系统消息\n",
    "    if system_prompt:\n",
    "        messages.append({\"role\": \"system\", \"content\": system_prompt})\n",
    "    \n",
    "    # 添加用户消息\n",
    "    messages.append({\"role\": \"user\", \"content\": prompt})\n",
    "    \n",
    "    # 调用OpenAI API\n",
    "    response = client.chat.completions.create(\n",
    "        model=MODEL_NAME,              # 使用的模型名称 (gpt-4o 或 deepseek-r1)\n",
    "        messages=messages,             # 消息列表\n",
    "        max_tokens=2000,              # 最大生成的token数量\n",
    "        temperature=0.0               # 温度参数，0表示更确定性的回答\n",
    "    )\n",
    "    return response.choices[0].message.content"
   ]
  },
  {
   "cell_type": "markdown",
   "metadata": {},
   "source": [
    "---\n",
    "\n",
    "## 课程\n",
    "\n",
    "延续GPT除了您所说的内容之外没有任何上下文这一主题，有时**提示GPT扮演特定角色（包括所有必要的上下文）**是很重要的。这也被称为角色提示工程。角色上下文的细节越丰富越好。\n",
    "\n",
    "**为GPT分配角色可以显著改善GPT在各个领域的表现**，从创意写作到编程再到数据分析总结。这就像人类专家被告知\"像一个资深专家一样思考\"时会表现得更专业一样。角色提示还可以精确调整GPT响应的风格、语调和专业程度。\n",
    "\n",
    "**注意：** 角色提示既可以在系统提示中进行设定，也可以作为用户消息轮次的一部分进行指定。"
   ]
  },
  {
   "cell_type": "markdown",
   "metadata": {},
   "source": [
    "### 示例\n",
    "\n",
    "在下面的示例中，我们看到如果没有角色提示，当被要求对滑板运动给出一句话的观点时，GPT提供了一个**直接且无风格化的标准答案**。\n",
    "\n",
    "然而，当我们让GPT扮演猫的角色时，GPT的观点发生了根本性变化，因此**GPT的响应语调、表达风格、内容观点都完全适应了新的角色设定**。\n",
    "\n",
    "**注意：** 您可以使用的一个进阶技巧是**为GPT提供其目标受众的具体上下文**。在下面，我们可以调整提示来告诉GPT它应该与谁对话。\"您是一只猫\"与\"您是一只对着一群滑板爱好者说话的猫\"会产生截然不同的响应效果。\n",
    "\n",
    "这是在系统提示中没有角色提示的基础提示："
   ]
  },
  {
   "cell_type": "code",
   "execution_count": null,
   "metadata": {},
   "outputs": [],
   "source": [
    "# 没有角色设定的基础提示\n",
    "# 这是一个标准的问题，没有给AI设定任何特殊角色或身份\n",
    "PROMPT = \"In one sentence, what do you think about skateboarding?\"\n",
    "\n",
    "# 打印GPT的响应（没有角色设定时的标准回答）\n",
    "print(get_completion(PROMPT))"
   ]
  },
  {
   "cell_type": "markdown",
   "metadata": {},
   "source": [
    "这是相同的用户问题，但使用了角色提示。"
   ]
  },
  {
   "cell_type": "code",
   "execution_count": null,
   "metadata": {},
   "outputs": [],
   "source": [
    "# 设置系统提示，让GPT扮演猫的角色\n",
    "# 这个角色设定会显著改变AI的回答风格和内容\n",
    "SYSTEM_PROMPT = \"You are a cat.\"\n",
    "\n",
    "# 相同的用户提示\n",
    "PROMPT = \"In one sentence, what do you think about skateboarding?\"\n",
    "\n",
    "# 打印GPT的响应（注意角色设定后回答风格的变化）\n",
    "print(get_completion(PROMPT, SYSTEM_PROMPT))"
   ]
  },
  {
   "cell_type": "markdown",
   "metadata": {},
   "source": [
    "您可以使用角色提示作为一种方式来让GPT模仿某些写作风格、以某种声音说话，或引导其答案的复杂性。**角色提示还可以使GPT更好地执行数学或逻辑任务。**\n",
    "\n",
    "例如，在下面的示例中，有一个明确的正确答案，即是的。但是，GPT回答错了，认为它缺乏信息，实际上它并不缺乏："
   ]
  },
  {
   "cell_type": "code",
   "execution_count": null,
   "metadata": {},
   "outputs": [],
   "source": [
    "# Prompt\n",
    "PROMPT = \"Jack is looking at Anne. Anne is looking at George. Jack is married, George is not, and we don’t know if Anne is married. Is a married person looking at an unmarried person?\"\n",
    "\n",
    "# Print GPT's response\n",
    "print(get_completion(PROMPT))"
   ]
  },
  {
   "cell_type": "markdown",
   "metadata": {},
   "source": [
    "现在，如果我们**让GPT扮演逻辑机器人的角色**会怎样？这将如何改变GPT的答案？\n",
    "\n",
    "事实证明，通过这种新的角色分配，GPT得到了正确答案。（尽管值得注意的是，并非出于所有正确的原因）"
   ]
  },
  {
   "cell_type": "code",
   "execution_count": null,
   "metadata": {},
   "outputs": [],
   "source": [
    "# System prompt\n",
    "SYSTEM_PROMPT = \"You are a logic bot designed to answer complex logic problems.\"\n",
    "\n",
    "# Prompt\n",
    "PROMPT = \"Jack is looking at Anne. Anne is looking at George. Jack is married, George is not, and we don’t know if Anne is married. Is a married person looking at an unmarried person?\"\n",
    "\n",
    "# Print GPT's response\n",
    "print(get_completion(PROMPT, SYSTEM_PROMPT))"
   ]
  },
  {
   "cell_type": "markdown",
   "metadata": {},
   "source": [
    "**注意：** 您在本课程中将学到的是，有**许多提示工程技术可以用来得出类似的结果**。您使用哪些技术取决于您和您的偏好！我们鼓励您**尝试找到自己的提示工程风格**。\n",
    "\n",
    "如果您想在不更改上述任何内容的情况下实验课程提示，请滚动到课程notebook的最底部访问[**示例演练场**](#example-playground)。"
   ]
  },
  {
   "cell_type": "markdown",
   "metadata": {},
   "source": [
    "---\n",
    "\n",
    "## 练习\n",
    "- [练习 3.1 - 数学纠错](#exercise-31---math-correction)"
   ]
  },
  {
   "cell_type": "markdown",
   "metadata": {},
   "source": [
    "### 练习 3.1 - 数学纠错\n",
    "在某些情况下，**GPT在数学方面可能会有困难**，即使是简单的数学。下面，GPT错误地评估数学问题为正确解决，尽管第二步中有明显的算术错误。请注意，GPT在逐步检查时实际上发现了错误，但没有得出整体解决方案是错误的结论。\n",
    "\n",
    "修改`PROMPT`和/或`SYSTEM_PROMPT`，使GPT将解决方案评为`错误`解决，而不是正确解决。 \n"
   ]
  },
  {
   "cell_type": "code",
   "execution_count": null,
   "metadata": {},
   "outputs": [],
   "source": [
    "# 系统提示 - 如果您不想使用系统提示，可以将此变量设置为空字符串\n",
    "# 提示：尝试设置一个能够准确识别数学错误的角色\n",
    "SYSTEM_PROMPT = \"You are a mathematics teacher who is very careful about checking calculations and identifying errors.\"\n",
    "\n",
    "# 用户提示 - 包含一个明显的数学错误的问题\n",
    "# 正确答案：2x = 12（而不是6），所以 x = 6（而不是3）\n",
    "PROMPT = \"\"\"Is this equation solved correctly below?\n",
    "\n",
    "2x - 3 = 9\n",
    "2x = 6\n",
    "x = 3\"\"\"\n",
    "\n",
    "# 获取GPT的响应\n",
    "response = get_completion(PROMPT, SYSTEM_PROMPT)\n",
    "\n",
    "# 评分练习正确性的函数\n",
    "def grade_exercise(text):\n",
    "    \"\"\"检查文本是否表明解决方案是错误的\"\"\"\n",
    "    if \"incorrect\" in text or \"not correct\" in text.lower():\n",
    "        return True\n",
    "    else:\n",
    "        return False\n",
    "\n",
    "# 打印GPT的响应和相应的分数\n",
    "print(response)\n",
    "print(\"\\n--------------------------- 评分 ---------------------------\")\n",
    "print(\"本练习已正确解决:\", grade_exercise(response))"
   ]
  },
  {
   "cell_type": "markdown",
   "metadata": {},
   "source": [
    "❓ 如果您需要提示，请运行下面的单元格！"
   ]
  },
  {
   "cell_type": "code",
   "execution_count": null,
   "metadata": {},
   "outputs": [],
   "source": [
    "# 提示：尝试设定一个严格的数学检查者角色，比如\"You are a strict mathematics teacher who carefully checks every step of calculations.\"\n",
    "print(\"提示：尝试设定一个严格的数学检查者角色，让GPT仔细检查每一步计算。\")"
   ]
  },
  {
   "cell_type": "markdown",
   "metadata": {},
   "source": [
    "### 恭喜！\n",
    "\n",
    "如果您已经解决了到此为止的所有练习，您就可以进入下一章了。愉快的提示工程！"
   ]
  },
  {
   "cell_type": "markdown",
   "metadata": {},
   "source": [
    "---\n",
    "\n",
    "## 示例演练场\n",
    "\n",
    "这是一个让您自由实验本课程中显示的提示示例的区域，您可以调整提示来看看它如何影响GPT的响应。"
   ]
  },
  {
   "cell_type": "code",
   "execution_count": null,
   "metadata": {},
   "outputs": [],
   "source": [
    "# 提示\n",
    "PROMPT = \"In one sentence, what do you think about skateboarding?\"\n",
    "\n",
    "# 打印GPT的响应\n",
    "print(get_completion(PROMPT))"
   ]
  },
  {
   "cell_type": "code",
   "execution_count": null,
   "metadata": {},
   "outputs": [],
   "source": [
    "# 系统提示\n",
    "SYSTEM_PROMPT = \"You are a cat.\"\n",
    "\n",
    "# 用户提示\n",
    "PROMPT = \"In one sentence, what do you think about skateboarding?\"\n",
    "\n",
    "# 打印GPT的响应\n",
    "print(get_completion(PROMPT, SYSTEM_PROMPT))"
   ]
  },
  {
   "cell_type": "code",
   "execution_count": null,
   "metadata": {},
   "outputs": [],
   "source": [
    "# Prompt\n",
    "PROMPT = \"Jack is looking at Anne. Anne is looking at George. Jack is married, George is not, and we don’t know if Anne is married. Is a married person looking at an unmarried person?\"\n",
    "\n",
    "# Print GPT's response\n",
    "print(get_completion(PROMPT))"
   ]
  },
  {
   "cell_type": "code",
   "execution_count": null,
   "metadata": {},
   "outputs": [],
   "source": [
    "# System prompt\n",
    "SYSTEM_PROMPT = \"You are a logic bot designed to answer complex logic problems.\"\n",
    "\n",
    "# Prompt\n",
    "PROMPT = \"Jack is looking at Anne. Anne is looking at George. Jack is married, George is not, and we don’t know if Anne is married. Is a married person looking at an unmarried person?\"\n",
    "\n",
    "# Print GPT's response\n",
    "print(get_completion(PROMPT, SYSTEM_PROMPT))"
   ]
  }
 ],
 "metadata": {
  "language_info": {
   "name": "python"
  }
 },
 "nbformat": 4,
 "nbformat_minor": 2
}
